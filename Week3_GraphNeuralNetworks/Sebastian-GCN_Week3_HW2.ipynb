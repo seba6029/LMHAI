{
  "nbformat": 4,
  "nbformat_minor": 0,
  "metadata": {
    "colab": {
      "provenance": [],
      "gpuType": "T4",
      "include_colab_link": true
    },
    "kernelspec": {
      "name": "python3",
      "display_name": "Python 3"
    },
    "language_info": {
      "name": "python"
    },
    "accelerator": "GPU",
    "widgets": {
      "application/vnd.jupyter.widget-state+json": {
        "2ab3c5d3f7f74919ba7a6c5bc7bb8914": {
          "model_module": "@jupyter-widgets/controls",
          "model_name": "VBoxModel",
          "model_module_version": "1.5.0",
          "state": {
            "_dom_classes": [],
            "_model_module": "@jupyter-widgets/controls",
            "_model_module_version": "1.5.0",
            "_model_name": "VBoxModel",
            "_view_count": null,
            "_view_module": "@jupyter-widgets/controls",
            "_view_module_version": "1.5.0",
            "_view_name": "VBoxView",
            "box_style": "",
            "children": [
              "IPY_MODEL_0f5e163bb5c24e80bcc6439eb23c8892",
              "IPY_MODEL_18f19a7613c34d3c8b43972cd64771c9"
            ],
            "layout": "IPY_MODEL_3df7cfa05e9b4c0b9b75921b0acbaddb"
          }
        },
        "0f5e163bb5c24e80bcc6439eb23c8892": {
          "model_module": "@jupyter-widgets/controls",
          "model_name": "LabelModel",
          "model_module_version": "1.5.0",
          "state": {
            "_dom_classes": [],
            "_model_module": "@jupyter-widgets/controls",
            "_model_module_version": "1.5.0",
            "_model_name": "LabelModel",
            "_view_count": null,
            "_view_module": "@jupyter-widgets/controls",
            "_view_module_version": "1.5.0",
            "_view_name": "LabelView",
            "description": "",
            "description_tooltip": null,
            "layout": "IPY_MODEL_b32dedc744644bd5bb2cb00985ba1831",
            "placeholder": "​",
            "style": "IPY_MODEL_62eb805d9e0c4b40bedb03c277047e91",
            "value": "0.001 MB of 0.001 MB uploaded (0.000 MB deduped)\r"
          }
        },
        "18f19a7613c34d3c8b43972cd64771c9": {
          "model_module": "@jupyter-widgets/controls",
          "model_name": "FloatProgressModel",
          "model_module_version": "1.5.0",
          "state": {
            "_dom_classes": [],
            "_model_module": "@jupyter-widgets/controls",
            "_model_module_version": "1.5.0",
            "_model_name": "FloatProgressModel",
            "_view_count": null,
            "_view_module": "@jupyter-widgets/controls",
            "_view_module_version": "1.5.0",
            "_view_name": "ProgressView",
            "bar_style": "",
            "description": "",
            "description_tooltip": null,
            "layout": "IPY_MODEL_a2fcdc776068492a9a1ff1d533a0ca2a",
            "max": 1,
            "min": 0,
            "orientation": "horizontal",
            "style": "IPY_MODEL_363b3c02d8344a88aa5657297be3ab8e",
            "value": 1
          }
        },
        "3df7cfa05e9b4c0b9b75921b0acbaddb": {
          "model_module": "@jupyter-widgets/base",
          "model_name": "LayoutModel",
          "model_module_version": "1.2.0",
          "state": {
            "_model_module": "@jupyter-widgets/base",
            "_model_module_version": "1.2.0",
            "_model_name": "LayoutModel",
            "_view_count": null,
            "_view_module": "@jupyter-widgets/base",
            "_view_module_version": "1.2.0",
            "_view_name": "LayoutView",
            "align_content": null,
            "align_items": null,
            "align_self": null,
            "border": null,
            "bottom": null,
            "display": null,
            "flex": null,
            "flex_flow": null,
            "grid_area": null,
            "grid_auto_columns": null,
            "grid_auto_flow": null,
            "grid_auto_rows": null,
            "grid_column": null,
            "grid_gap": null,
            "grid_row": null,
            "grid_template_areas": null,
            "grid_template_columns": null,
            "grid_template_rows": null,
            "height": null,
            "justify_content": null,
            "justify_items": null,
            "left": null,
            "margin": null,
            "max_height": null,
            "max_width": null,
            "min_height": null,
            "min_width": null,
            "object_fit": null,
            "object_position": null,
            "order": null,
            "overflow": null,
            "overflow_x": null,
            "overflow_y": null,
            "padding": null,
            "right": null,
            "top": null,
            "visibility": null,
            "width": null
          }
        },
        "b32dedc744644bd5bb2cb00985ba1831": {
          "model_module": "@jupyter-widgets/base",
          "model_name": "LayoutModel",
          "model_module_version": "1.2.0",
          "state": {
            "_model_module": "@jupyter-widgets/base",
            "_model_module_version": "1.2.0",
            "_model_name": "LayoutModel",
            "_view_count": null,
            "_view_module": "@jupyter-widgets/base",
            "_view_module_version": "1.2.0",
            "_view_name": "LayoutView",
            "align_content": null,
            "align_items": null,
            "align_self": null,
            "border": null,
            "bottom": null,
            "display": null,
            "flex": null,
            "flex_flow": null,
            "grid_area": null,
            "grid_auto_columns": null,
            "grid_auto_flow": null,
            "grid_auto_rows": null,
            "grid_column": null,
            "grid_gap": null,
            "grid_row": null,
            "grid_template_areas": null,
            "grid_template_columns": null,
            "grid_template_rows": null,
            "height": null,
            "justify_content": null,
            "justify_items": null,
            "left": null,
            "margin": null,
            "max_height": null,
            "max_width": null,
            "min_height": null,
            "min_width": null,
            "object_fit": null,
            "object_position": null,
            "order": null,
            "overflow": null,
            "overflow_x": null,
            "overflow_y": null,
            "padding": null,
            "right": null,
            "top": null,
            "visibility": null,
            "width": null
          }
        },
        "62eb805d9e0c4b40bedb03c277047e91": {
          "model_module": "@jupyter-widgets/controls",
          "model_name": "DescriptionStyleModel",
          "model_module_version": "1.5.0",
          "state": {
            "_model_module": "@jupyter-widgets/controls",
            "_model_module_version": "1.5.0",
            "_model_name": "DescriptionStyleModel",
            "_view_count": null,
            "_view_module": "@jupyter-widgets/base",
            "_view_module_version": "1.2.0",
            "_view_name": "StyleView",
            "description_width": ""
          }
        },
        "a2fcdc776068492a9a1ff1d533a0ca2a": {
          "model_module": "@jupyter-widgets/base",
          "model_name": "LayoutModel",
          "model_module_version": "1.2.0",
          "state": {
            "_model_module": "@jupyter-widgets/base",
            "_model_module_version": "1.2.0",
            "_model_name": "LayoutModel",
            "_view_count": null,
            "_view_module": "@jupyter-widgets/base",
            "_view_module_version": "1.2.0",
            "_view_name": "LayoutView",
            "align_content": null,
            "align_items": null,
            "align_self": null,
            "border": null,
            "bottom": null,
            "display": null,
            "flex": null,
            "flex_flow": null,
            "grid_area": null,
            "grid_auto_columns": null,
            "grid_auto_flow": null,
            "grid_auto_rows": null,
            "grid_column": null,
            "grid_gap": null,
            "grid_row": null,
            "grid_template_areas": null,
            "grid_template_columns": null,
            "grid_template_rows": null,
            "height": null,
            "justify_content": null,
            "justify_items": null,
            "left": null,
            "margin": null,
            "max_height": null,
            "max_width": null,
            "min_height": null,
            "min_width": null,
            "object_fit": null,
            "object_position": null,
            "order": null,
            "overflow": null,
            "overflow_x": null,
            "overflow_y": null,
            "padding": null,
            "right": null,
            "top": null,
            "visibility": null,
            "width": null
          }
        },
        "363b3c02d8344a88aa5657297be3ab8e": {
          "model_module": "@jupyter-widgets/controls",
          "model_name": "ProgressStyleModel",
          "model_module_version": "1.5.0",
          "state": {
            "_model_module": "@jupyter-widgets/controls",
            "_model_module_version": "1.5.0",
            "_model_name": "ProgressStyleModel",
            "_view_count": null,
            "_view_module": "@jupyter-widgets/base",
            "_view_module_version": "1.2.0",
            "_view_name": "StyleView",
            "bar_color": null,
            "description_width": ""
          }
        },
        "a8f2693176624d96889535ebf2a4607c": {
          "model_module": "@jupyter-widgets/controls",
          "model_name": "VBoxModel",
          "model_module_version": "1.5.0",
          "state": {
            "_dom_classes": [],
            "_model_module": "@jupyter-widgets/controls",
            "_model_module_version": "1.5.0",
            "_model_name": "VBoxModel",
            "_view_count": null,
            "_view_module": "@jupyter-widgets/controls",
            "_view_module_version": "1.5.0",
            "_view_name": "VBoxView",
            "box_style": "",
            "children": [
              "IPY_MODEL_b960fda283484945be5d65522f183171",
              "IPY_MODEL_17f3707db3854db89030a7bfc858e7f0"
            ],
            "layout": "IPY_MODEL_028b50a6e7f74569a468f6a650574466"
          }
        },
        "b960fda283484945be5d65522f183171": {
          "model_module": "@jupyter-widgets/controls",
          "model_name": "LabelModel",
          "model_module_version": "1.5.0",
          "state": {
            "_dom_classes": [],
            "_model_module": "@jupyter-widgets/controls",
            "_model_module_version": "1.5.0",
            "_model_name": "LabelModel",
            "_view_count": null,
            "_view_module": "@jupyter-widgets/controls",
            "_view_module_version": "1.5.0",
            "_view_name": "LabelView",
            "description": "",
            "description_tooltip": null,
            "layout": "IPY_MODEL_18bd79e8422f44d3aca9758357901b9c",
            "placeholder": "​",
            "style": "IPY_MODEL_980b94bb69f94f38b129f7de37e52306",
            "value": "0.002 MB of 0.010 MB uploaded (0.000 MB deduped)\r"
          }
        },
        "17f3707db3854db89030a7bfc858e7f0": {
          "model_module": "@jupyter-widgets/controls",
          "model_name": "FloatProgressModel",
          "model_module_version": "1.5.0",
          "state": {
            "_dom_classes": [],
            "_model_module": "@jupyter-widgets/controls",
            "_model_module_version": "1.5.0",
            "_model_name": "FloatProgressModel",
            "_view_count": null,
            "_view_module": "@jupyter-widgets/controls",
            "_view_module_version": "1.5.0",
            "_view_name": "ProgressView",
            "bar_style": "",
            "description": "",
            "description_tooltip": null,
            "layout": "IPY_MODEL_4eb756e549ff406e85d9b8b7db21a484",
            "max": 1,
            "min": 0,
            "orientation": "horizontal",
            "style": "IPY_MODEL_86ec466fda6c49bdb52fab7c0ed204e3",
            "value": 0.1899290638425417
          }
        },
        "028b50a6e7f74569a468f6a650574466": {
          "model_module": "@jupyter-widgets/base",
          "model_name": "LayoutModel",
          "model_module_version": "1.2.0",
          "state": {
            "_model_module": "@jupyter-widgets/base",
            "_model_module_version": "1.2.0",
            "_model_name": "LayoutModel",
            "_view_count": null,
            "_view_module": "@jupyter-widgets/base",
            "_view_module_version": "1.2.0",
            "_view_name": "LayoutView",
            "align_content": null,
            "align_items": null,
            "align_self": null,
            "border": null,
            "bottom": null,
            "display": null,
            "flex": null,
            "flex_flow": null,
            "grid_area": null,
            "grid_auto_columns": null,
            "grid_auto_flow": null,
            "grid_auto_rows": null,
            "grid_column": null,
            "grid_gap": null,
            "grid_row": null,
            "grid_template_areas": null,
            "grid_template_columns": null,
            "grid_template_rows": null,
            "height": null,
            "justify_content": null,
            "justify_items": null,
            "left": null,
            "margin": null,
            "max_height": null,
            "max_width": null,
            "min_height": null,
            "min_width": null,
            "object_fit": null,
            "object_position": null,
            "order": null,
            "overflow": null,
            "overflow_x": null,
            "overflow_y": null,
            "padding": null,
            "right": null,
            "top": null,
            "visibility": null,
            "width": null
          }
        },
        "18bd79e8422f44d3aca9758357901b9c": {
          "model_module": "@jupyter-widgets/base",
          "model_name": "LayoutModel",
          "model_module_version": "1.2.0",
          "state": {
            "_model_module": "@jupyter-widgets/base",
            "_model_module_version": "1.2.0",
            "_model_name": "LayoutModel",
            "_view_count": null,
            "_view_module": "@jupyter-widgets/base",
            "_view_module_version": "1.2.0",
            "_view_name": "LayoutView",
            "align_content": null,
            "align_items": null,
            "align_self": null,
            "border": null,
            "bottom": null,
            "display": null,
            "flex": null,
            "flex_flow": null,
            "grid_area": null,
            "grid_auto_columns": null,
            "grid_auto_flow": null,
            "grid_auto_rows": null,
            "grid_column": null,
            "grid_gap": null,
            "grid_row": null,
            "grid_template_areas": null,
            "grid_template_columns": null,
            "grid_template_rows": null,
            "height": null,
            "justify_content": null,
            "justify_items": null,
            "left": null,
            "margin": null,
            "max_height": null,
            "max_width": null,
            "min_height": null,
            "min_width": null,
            "object_fit": null,
            "object_position": null,
            "order": null,
            "overflow": null,
            "overflow_x": null,
            "overflow_y": null,
            "padding": null,
            "right": null,
            "top": null,
            "visibility": null,
            "width": null
          }
        },
        "980b94bb69f94f38b129f7de37e52306": {
          "model_module": "@jupyter-widgets/controls",
          "model_name": "DescriptionStyleModel",
          "model_module_version": "1.5.0",
          "state": {
            "_model_module": "@jupyter-widgets/controls",
            "_model_module_version": "1.5.0",
            "_model_name": "DescriptionStyleModel",
            "_view_count": null,
            "_view_module": "@jupyter-widgets/base",
            "_view_module_version": "1.2.0",
            "_view_name": "StyleView",
            "description_width": ""
          }
        },
        "4eb756e549ff406e85d9b8b7db21a484": {
          "model_module": "@jupyter-widgets/base",
          "model_name": "LayoutModel",
          "model_module_version": "1.2.0",
          "state": {
            "_model_module": "@jupyter-widgets/base",
            "_model_module_version": "1.2.0",
            "_model_name": "LayoutModel",
            "_view_count": null,
            "_view_module": "@jupyter-widgets/base",
            "_view_module_version": "1.2.0",
            "_view_name": "LayoutView",
            "align_content": null,
            "align_items": null,
            "align_self": null,
            "border": null,
            "bottom": null,
            "display": null,
            "flex": null,
            "flex_flow": null,
            "grid_area": null,
            "grid_auto_columns": null,
            "grid_auto_flow": null,
            "grid_auto_rows": null,
            "grid_column": null,
            "grid_gap": null,
            "grid_row": null,
            "grid_template_areas": null,
            "grid_template_columns": null,
            "grid_template_rows": null,
            "height": null,
            "justify_content": null,
            "justify_items": null,
            "left": null,
            "margin": null,
            "max_height": null,
            "max_width": null,
            "min_height": null,
            "min_width": null,
            "object_fit": null,
            "object_position": null,
            "order": null,
            "overflow": null,
            "overflow_x": null,
            "overflow_y": null,
            "padding": null,
            "right": null,
            "top": null,
            "visibility": null,
            "width": null
          }
        },
        "86ec466fda6c49bdb52fab7c0ed204e3": {
          "model_module": "@jupyter-widgets/controls",
          "model_name": "ProgressStyleModel",
          "model_module_version": "1.5.0",
          "state": {
            "_model_module": "@jupyter-widgets/controls",
            "_model_module_version": "1.5.0",
            "_model_name": "ProgressStyleModel",
            "_view_count": null,
            "_view_module": "@jupyter-widgets/base",
            "_view_module_version": "1.2.0",
            "_view_name": "StyleView",
            "bar_color": null,
            "description_width": ""
          }
        },
        "5c236ba3bc7248038d782a76c5978433": {
          "model_module": "@jupyter-widgets/controls",
          "model_name": "VBoxModel",
          "model_module_version": "1.5.0",
          "state": {
            "_dom_classes": [],
            "_model_module": "@jupyter-widgets/controls",
            "_model_module_version": "1.5.0",
            "_model_name": "VBoxModel",
            "_view_count": null,
            "_view_module": "@jupyter-widgets/controls",
            "_view_module_version": "1.5.0",
            "_view_name": "VBoxView",
            "box_style": "",
            "children": [
              "IPY_MODEL_07dd6ed2859345f59f2e7b36bd7a7a5e",
              "IPY_MODEL_52afc6748fa14d20ad4043b51b11c3ba"
            ],
            "layout": "IPY_MODEL_8813b88a65224223babb1e51b429e7a1"
          }
        },
        "07dd6ed2859345f59f2e7b36bd7a7a5e": {
          "model_module": "@jupyter-widgets/controls",
          "model_name": "LabelModel",
          "model_module_version": "1.5.0",
          "state": {
            "_dom_classes": [],
            "_model_module": "@jupyter-widgets/controls",
            "_model_module_version": "1.5.0",
            "_model_name": "LabelModel",
            "_view_count": null,
            "_view_module": "@jupyter-widgets/controls",
            "_view_module_version": "1.5.0",
            "_view_name": "LabelView",
            "description": "",
            "description_tooltip": null,
            "layout": "IPY_MODEL_6a77050a146b4de0b70aaab1b94c1b0e",
            "placeholder": "​",
            "style": "IPY_MODEL_02d6ddf2b00a4244a205382aacfb05d3",
            "value": "0.001 MB of 0.024 MB uploaded (0.000 MB deduped)\r"
          }
        },
        "52afc6748fa14d20ad4043b51b11c3ba": {
          "model_module": "@jupyter-widgets/controls",
          "model_name": "FloatProgressModel",
          "model_module_version": "1.5.0",
          "state": {
            "_dom_classes": [],
            "_model_module": "@jupyter-widgets/controls",
            "_model_module_version": "1.5.0",
            "_model_name": "FloatProgressModel",
            "_view_count": null,
            "_view_module": "@jupyter-widgets/controls",
            "_view_module_version": "1.5.0",
            "_view_name": "ProgressView",
            "bar_style": "",
            "description": "",
            "description_tooltip": null,
            "layout": "IPY_MODEL_d94536a56ace47bd98e39f6af99e019b",
            "max": 1,
            "min": 0,
            "orientation": "horizontal",
            "style": "IPY_MODEL_9640eb6d10fc475aa9a5391efd6ac644",
            "value": 0.049667158289153746
          }
        },
        "8813b88a65224223babb1e51b429e7a1": {
          "model_module": "@jupyter-widgets/base",
          "model_name": "LayoutModel",
          "model_module_version": "1.2.0",
          "state": {
            "_model_module": "@jupyter-widgets/base",
            "_model_module_version": "1.2.0",
            "_model_name": "LayoutModel",
            "_view_count": null,
            "_view_module": "@jupyter-widgets/base",
            "_view_module_version": "1.2.0",
            "_view_name": "LayoutView",
            "align_content": null,
            "align_items": null,
            "align_self": null,
            "border": null,
            "bottom": null,
            "display": null,
            "flex": null,
            "flex_flow": null,
            "grid_area": null,
            "grid_auto_columns": null,
            "grid_auto_flow": null,
            "grid_auto_rows": null,
            "grid_column": null,
            "grid_gap": null,
            "grid_row": null,
            "grid_template_areas": null,
            "grid_template_columns": null,
            "grid_template_rows": null,
            "height": null,
            "justify_content": null,
            "justify_items": null,
            "left": null,
            "margin": null,
            "max_height": null,
            "max_width": null,
            "min_height": null,
            "min_width": null,
            "object_fit": null,
            "object_position": null,
            "order": null,
            "overflow": null,
            "overflow_x": null,
            "overflow_y": null,
            "padding": null,
            "right": null,
            "top": null,
            "visibility": null,
            "width": null
          }
        },
        "6a77050a146b4de0b70aaab1b94c1b0e": {
          "model_module": "@jupyter-widgets/base",
          "model_name": "LayoutModel",
          "model_module_version": "1.2.0",
          "state": {
            "_model_module": "@jupyter-widgets/base",
            "_model_module_version": "1.2.0",
            "_model_name": "LayoutModel",
            "_view_count": null,
            "_view_module": "@jupyter-widgets/base",
            "_view_module_version": "1.2.0",
            "_view_name": "LayoutView",
            "align_content": null,
            "align_items": null,
            "align_self": null,
            "border": null,
            "bottom": null,
            "display": null,
            "flex": null,
            "flex_flow": null,
            "grid_area": null,
            "grid_auto_columns": null,
            "grid_auto_flow": null,
            "grid_auto_rows": null,
            "grid_column": null,
            "grid_gap": null,
            "grid_row": null,
            "grid_template_areas": null,
            "grid_template_columns": null,
            "grid_template_rows": null,
            "height": null,
            "justify_content": null,
            "justify_items": null,
            "left": null,
            "margin": null,
            "max_height": null,
            "max_width": null,
            "min_height": null,
            "min_width": null,
            "object_fit": null,
            "object_position": null,
            "order": null,
            "overflow": null,
            "overflow_x": null,
            "overflow_y": null,
            "padding": null,
            "right": null,
            "top": null,
            "visibility": null,
            "width": null
          }
        },
        "02d6ddf2b00a4244a205382aacfb05d3": {
          "model_module": "@jupyter-widgets/controls",
          "model_name": "DescriptionStyleModel",
          "model_module_version": "1.5.0",
          "state": {
            "_model_module": "@jupyter-widgets/controls",
            "_model_module_version": "1.5.0",
            "_model_name": "DescriptionStyleModel",
            "_view_count": null,
            "_view_module": "@jupyter-widgets/base",
            "_view_module_version": "1.2.0",
            "_view_name": "StyleView",
            "description_width": ""
          }
        },
        "d94536a56ace47bd98e39f6af99e019b": {
          "model_module": "@jupyter-widgets/base",
          "model_name": "LayoutModel",
          "model_module_version": "1.2.0",
          "state": {
            "_model_module": "@jupyter-widgets/base",
            "_model_module_version": "1.2.0",
            "_model_name": "LayoutModel",
            "_view_count": null,
            "_view_module": "@jupyter-widgets/base",
            "_view_module_version": "1.2.0",
            "_view_name": "LayoutView",
            "align_content": null,
            "align_items": null,
            "align_self": null,
            "border": null,
            "bottom": null,
            "display": null,
            "flex": null,
            "flex_flow": null,
            "grid_area": null,
            "grid_auto_columns": null,
            "grid_auto_flow": null,
            "grid_auto_rows": null,
            "grid_column": null,
            "grid_gap": null,
            "grid_row": null,
            "grid_template_areas": null,
            "grid_template_columns": null,
            "grid_template_rows": null,
            "height": null,
            "justify_content": null,
            "justify_items": null,
            "left": null,
            "margin": null,
            "max_height": null,
            "max_width": null,
            "min_height": null,
            "min_width": null,
            "object_fit": null,
            "object_position": null,
            "order": null,
            "overflow": null,
            "overflow_x": null,
            "overflow_y": null,
            "padding": null,
            "right": null,
            "top": null,
            "visibility": null,
            "width": null
          }
        },
        "9640eb6d10fc475aa9a5391efd6ac644": {
          "model_module": "@jupyter-widgets/controls",
          "model_name": "ProgressStyleModel",
          "model_module_version": "1.5.0",
          "state": {
            "_model_module": "@jupyter-widgets/controls",
            "_model_module_version": "1.5.0",
            "_model_name": "ProgressStyleModel",
            "_view_count": null,
            "_view_module": "@jupyter-widgets/base",
            "_view_module_version": "1.2.0",
            "_view_name": "StyleView",
            "bar_color": null,
            "description_width": ""
          }
        }
      }
    }
  },
  "cells": [
    {
      "cell_type": "markdown",
      "metadata": {
        "id": "view-in-github",
        "colab_type": "text"
      },
      "source": [
        "<a href=\"https://colab.research.google.com/github/seba6029/LMHAI/blob/main/Week3_GraphNeuralNetworks/Sebastian-GCN_Week3_HW2.ipynb\" target=\"_parent\"><img src=\"https://colab.research.google.com/assets/colab-badge.svg\" alt=\"Open In Colab\"/></a>"
      ]
    },
    {
      "cell_type": "markdown",
      "source": [
        "Build and train a graph convolutional neural network using PyTorch Geometric for the **node property prediction** task.\n",
        "\n",
        "We will use ogbn-products dataset."
      ],
      "metadata": {
        "id": "G2mlOkawZgDv"
      }
    },
    {
      "cell_type": "markdown",
      "source": [
        "## OGBN-Products"
      ],
      "metadata": {
        "id": "g_Vh9kosaChl"
      }
    },
    {
      "cell_type": "markdown",
      "source": [
        "The ogbn-products dataset is an undirected and unweighted graph, representing an Amazon product co-purchasing network. Nodes represent products sold in Amazon, and edges between two products indicate that the products are purchased together. Node features are generated by extracting bag-of-words features from the product descriptions followed by a Principal Component Analysis to reduce the dimension to 100.\n",
        "\n",
        "**The task is to predict the category of a product in a multi-class classification setup, where the 47 top-level categories are used for target labels.**"
      ],
      "metadata": {
        "id": "8HFHJC-LaLyi"
      }
    },
    {
      "cell_type": "code",
      "metadata": {
        "id": "2vkP8pA1qBE5",
        "colab": {
          "base_uri": "https://localhost:8080/"
        },
        "outputId": "adccc0fc-546d-4c50-caba-5b652f243eeb"
      },
      "source": [
        "import torch\n",
        "import os\n",
        "print(\"PyTorch has version {}\".format(torch.__version__))"
      ],
      "execution_count": 1,
      "outputs": [
        {
          "output_type": "stream",
          "name": "stdout",
          "text": [
            "PyTorch has version 2.0.1+cu118\n"
          ]
        }
      ]
    },
    {
      "cell_type": "code",
      "source": [
        "# i'll try using weights and biases for this one\n",
        "!pip install wandb -qU\n",
        "import wandb\n",
        "wandb.login()"
      ],
      "metadata": {
        "colab": {
          "base_uri": "https://localhost:8080/",
          "height": 177
        },
        "id": "nwNOz9xX1vaj",
        "outputId": "53ac21ee-d0dd-4146-e58e-b11851e2dd50"
      },
      "execution_count": 2,
      "outputs": [
        {
          "output_type": "stream",
          "name": "stdout",
          "text": [
            "\u001b[2K     \u001b[90m━━━━━━━━━━━━━━━━━━━━━━━━━━━━━━━━━━━━━━━━\u001b[0m \u001b[32m2.1/2.1 MB\u001b[0m \u001b[31m7.0 MB/s\u001b[0m eta \u001b[36m0:00:00\u001b[0m\n",
            "\u001b[2K     \u001b[90m━━━━━━━━━━━━━━━━━━━━━━━━━━━━━━━━━━━━━━━\u001b[0m \u001b[32m188.5/188.5 kB\u001b[0m \u001b[31m8.2 MB/s\u001b[0m eta \u001b[36m0:00:00\u001b[0m\n",
            "\u001b[2K     \u001b[90m━━━━━━━━━━━━━━━━━━━━━━━━━━━━━━━━━━━━━━━\u001b[0m \u001b[32m215.6/215.6 kB\u001b[0m \u001b[31m3.8 MB/s\u001b[0m eta \u001b[36m0:00:00\u001b[0m\n",
            "\u001b[?25h  Preparing metadata (setup.py) ... \u001b[?25l\u001b[?25hdone\n",
            "\u001b[2K     \u001b[90m━━━━━━━━━━━━━━━━━━━━━━━━━━━━━━━━━━━━━━━━\u001b[0m \u001b[32m62.7/62.7 kB\u001b[0m \u001b[31m5.5 MB/s\u001b[0m eta \u001b[36m0:00:00\u001b[0m\n",
            "\u001b[?25h  Building wheel for pathtools (setup.py) ... \u001b[?25l\u001b[?25hdone\n"
          ]
        },
        {
          "output_type": "display_data",
          "data": {
            "text/plain": [
              "<IPython.core.display.Javascript object>"
            ],
            "application/javascript": [
              "\n",
              "        window._wandbApiKey = new Promise((resolve, reject) => {\n",
              "            function loadScript(url) {\n",
              "            return new Promise(function(resolve, reject) {\n",
              "                let newScript = document.createElement(\"script\");\n",
              "                newScript.onerror = reject;\n",
              "                newScript.onload = resolve;\n",
              "                document.body.appendChild(newScript);\n",
              "                newScript.src = url;\n",
              "            });\n",
              "            }\n",
              "            loadScript(\"https://cdn.jsdelivr.net/npm/postmate/build/postmate.min.js\").then(() => {\n",
              "            const iframe = document.createElement('iframe')\n",
              "            iframe.style.cssText = \"width:0;height:0;border:none\"\n",
              "            document.body.appendChild(iframe)\n",
              "            const handshake = new Postmate({\n",
              "                container: iframe,\n",
              "                url: 'https://wandb.ai/authorize'\n",
              "            });\n",
              "            const timeout = setTimeout(() => reject(\"Couldn't auto authenticate\"), 5000)\n",
              "            handshake.then(function(child) {\n",
              "                child.on('authorize', data => {\n",
              "                    clearTimeout(timeout)\n",
              "                    resolve(data)\n",
              "                });\n",
              "            });\n",
              "            })\n",
              "        });\n",
              "    "
            ]
          },
          "metadata": {}
        },
        {
          "output_type": "stream",
          "name": "stderr",
          "text": [
            "\u001b[34m\u001b[1mwandb\u001b[0m: Appending key for api.wandb.ai to your netrc file: /root/.netrc\n"
          ]
        },
        {
          "output_type": "execute_result",
          "data": {
            "text/plain": [
              "True"
            ]
          },
          "metadata": {},
          "execution_count": 2
        }
      ]
    },
    {
      "cell_type": "markdown",
      "metadata": {
        "id": "L6d22O6DqGSZ"
      },
      "source": [
        "Download the necessary packages for PyG. Make sure that your version of torch matches the output from the cell above. In case of any issues, more information can be found on the [PyG's installation page](https://pytorch-geometric.readthedocs.io/en/latest/notes/installation.html)."
      ]
    },
    {
      "cell_type": "code",
      "metadata": {
        "id": "zr8hfxJ-qRg2",
        "colab": {
          "base_uri": "https://localhost:8080/"
        },
        "outputId": "2937da75-2c8b-4f79-8cb2-c19523302809"
      },
      "source": [
        "# Install torch geometric\n",
        "!pip install torch-scatter -f https://pytorch-geometric.com/whl/torch-{torch.__version__}.html\n",
        "!pip install torch-sparse -f https://pytorch-geometric.com/whl/torch-{torch.__version__}.html\n",
        "!pip install torch-geometric\n",
        "!pip install ogb"
      ],
      "execution_count": 3,
      "outputs": [
        {
          "output_type": "stream",
          "name": "stdout",
          "text": [
            "Looking in links: https://pytorch-geometric.com/whl/torch-2.0.1+cu118.html\n",
            "Collecting torch-scatter\n",
            "  Downloading https://data.pyg.org/whl/torch-2.0.0%2Bcu118/torch_scatter-2.1.1%2Bpt20cu118-cp310-cp310-linux_x86_64.whl (10.2 MB)\n",
            "\u001b[2K     \u001b[90m━━━━━━━━━━━━━━━━━━━━━━━━━━━━━━━━━━━━━━━━\u001b[0m \u001b[32m10.2/10.2 MB\u001b[0m \u001b[31m60.7 MB/s\u001b[0m eta \u001b[36m0:00:00\u001b[0m\n",
            "\u001b[?25hInstalling collected packages: torch-scatter\n",
            "Successfully installed torch-scatter-2.1.1+pt20cu118\n",
            "Looking in links: https://pytorch-geometric.com/whl/torch-2.0.1+cu118.html\n",
            "Collecting torch-sparse\n",
            "  Downloading https://data.pyg.org/whl/torch-2.0.0%2Bcu118/torch_sparse-0.6.17%2Bpt20cu118-cp310-cp310-linux_x86_64.whl (4.8 MB)\n",
            "\u001b[2K     \u001b[90m━━━━━━━━━━━━━━━━━━━━━━━━━━━━━━━━━━━━━━━━\u001b[0m \u001b[32m4.8/4.8 MB\u001b[0m \u001b[31m43.0 MB/s\u001b[0m eta \u001b[36m0:00:00\u001b[0m\n",
            "\u001b[?25hRequirement already satisfied: scipy in /usr/local/lib/python3.10/dist-packages (from torch-sparse) (1.10.1)\n",
            "Requirement already satisfied: numpy<1.27.0,>=1.19.5 in /usr/local/lib/python3.10/dist-packages (from scipy->torch-sparse) (1.22.4)\n",
            "Installing collected packages: torch-sparse\n",
            "Successfully installed torch-sparse-0.6.17+pt20cu118\n",
            "Collecting torch-geometric\n",
            "  Downloading torch_geometric-2.3.1.tar.gz (661 kB)\n",
            "\u001b[2K     \u001b[90m━━━━━━━━━━━━━━━━━━━━━━━━━━━━━━━━━━━━━━━\u001b[0m \u001b[32m661.6/661.6 kB\u001b[0m \u001b[31m8.1 MB/s\u001b[0m eta \u001b[36m0:00:00\u001b[0m\n",
            "\u001b[?25h  Installing build dependencies ... \u001b[?25l\u001b[?25hdone\n",
            "  Getting requirements to build wheel ... \u001b[?25l\u001b[?25hdone\n",
            "  Preparing metadata (pyproject.toml) ... \u001b[?25l\u001b[?25hdone\n",
            "Requirement already satisfied: tqdm in /usr/local/lib/python3.10/dist-packages (from torch-geometric) (4.65.0)\n",
            "Requirement already satisfied: numpy in /usr/local/lib/python3.10/dist-packages (from torch-geometric) (1.22.4)\n",
            "Requirement already satisfied: scipy in /usr/local/lib/python3.10/dist-packages (from torch-geometric) (1.10.1)\n",
            "Requirement already satisfied: jinja2 in /usr/local/lib/python3.10/dist-packages (from torch-geometric) (3.1.2)\n",
            "Requirement already satisfied: requests in /usr/local/lib/python3.10/dist-packages (from torch-geometric) (2.27.1)\n",
            "Requirement already satisfied: pyparsing in /usr/local/lib/python3.10/dist-packages (from torch-geometric) (3.1.0)\n",
            "Requirement already satisfied: scikit-learn in /usr/local/lib/python3.10/dist-packages (from torch-geometric) (1.2.2)\n",
            "Requirement already satisfied: psutil>=5.8.0 in /usr/local/lib/python3.10/dist-packages (from torch-geometric) (5.9.5)\n",
            "Requirement already satisfied: MarkupSafe>=2.0 in /usr/local/lib/python3.10/dist-packages (from jinja2->torch-geometric) (2.1.3)\n",
            "Requirement already satisfied: urllib3<1.27,>=1.21.1 in /usr/local/lib/python3.10/dist-packages (from requests->torch-geometric) (1.26.16)\n",
            "Requirement already satisfied: certifi>=2017.4.17 in /usr/local/lib/python3.10/dist-packages (from requests->torch-geometric) (2023.7.22)\n",
            "Requirement already satisfied: charset-normalizer~=2.0.0 in /usr/local/lib/python3.10/dist-packages (from requests->torch-geometric) (2.0.12)\n",
            "Requirement already satisfied: idna<4,>=2.5 in /usr/local/lib/python3.10/dist-packages (from requests->torch-geometric) (3.4)\n",
            "Requirement already satisfied: joblib>=1.1.1 in /usr/local/lib/python3.10/dist-packages (from scikit-learn->torch-geometric) (1.3.1)\n",
            "Requirement already satisfied: threadpoolctl>=2.0.0 in /usr/local/lib/python3.10/dist-packages (from scikit-learn->torch-geometric) (3.2.0)\n",
            "Building wheels for collected packages: torch-geometric\n",
            "  Building wheel for torch-geometric (pyproject.toml) ... \u001b[?25l\u001b[?25hdone\n",
            "  Created wheel for torch-geometric: filename=torch_geometric-2.3.1-py3-none-any.whl size=910460 sha256=409c5d51fda3b93b4d09489680114a6679833666e1de0bc1be5505e8fd22abaf\n",
            "  Stored in directory: /root/.cache/pip/wheels/ac/dc/30/e2874821ff308ee67dcd7a66dbde912411e19e35a1addda028\n",
            "Successfully built torch-geometric\n",
            "Installing collected packages: torch-geometric\n",
            "Successfully installed torch-geometric-2.3.1\n",
            "Collecting ogb\n",
            "  Downloading ogb-1.3.6-py3-none-any.whl (78 kB)\n",
            "\u001b[2K     \u001b[90m━━━━━━━━━━━━━━━━━━━━━━━━━━━━━━━━━━━━━━━━\u001b[0m \u001b[32m78.8/78.8 kB\u001b[0m \u001b[31m1.4 MB/s\u001b[0m eta \u001b[36m0:00:00\u001b[0m\n",
            "\u001b[?25hRequirement already satisfied: torch>=1.6.0 in /usr/local/lib/python3.10/dist-packages (from ogb) (2.0.1+cu118)\n",
            "Requirement already satisfied: numpy>=1.16.0 in /usr/local/lib/python3.10/dist-packages (from ogb) (1.22.4)\n",
            "Requirement already satisfied: tqdm>=4.29.0 in /usr/local/lib/python3.10/dist-packages (from ogb) (4.65.0)\n",
            "Requirement already satisfied: scikit-learn>=0.20.0 in /usr/local/lib/python3.10/dist-packages (from ogb) (1.2.2)\n",
            "Requirement already satisfied: pandas>=0.24.0 in /usr/local/lib/python3.10/dist-packages (from ogb) (1.5.3)\n",
            "Requirement already satisfied: six>=1.12.0 in /usr/local/lib/python3.10/dist-packages (from ogb) (1.16.0)\n",
            "Requirement already satisfied: urllib3>=1.24.0 in /usr/local/lib/python3.10/dist-packages (from ogb) (1.26.16)\n",
            "Collecting outdated>=0.2.0 (from ogb)\n",
            "  Downloading outdated-0.2.2-py2.py3-none-any.whl (7.5 kB)\n",
            "Requirement already satisfied: setuptools>=44 in /usr/local/lib/python3.10/dist-packages (from outdated>=0.2.0->ogb) (67.7.2)\n",
            "Collecting littleutils (from outdated>=0.2.0->ogb)\n",
            "  Downloading littleutils-0.2.2.tar.gz (6.6 kB)\n",
            "  Preparing metadata (setup.py) ... \u001b[?25l\u001b[?25hdone\n",
            "Requirement already satisfied: requests in /usr/local/lib/python3.10/dist-packages (from outdated>=0.2.0->ogb) (2.27.1)\n",
            "Requirement already satisfied: python-dateutil>=2.8.1 in /usr/local/lib/python3.10/dist-packages (from pandas>=0.24.0->ogb) (2.8.2)\n",
            "Requirement already satisfied: pytz>=2020.1 in /usr/local/lib/python3.10/dist-packages (from pandas>=0.24.0->ogb) (2022.7.1)\n",
            "Requirement already satisfied: scipy>=1.3.2 in /usr/local/lib/python3.10/dist-packages (from scikit-learn>=0.20.0->ogb) (1.10.1)\n",
            "Requirement already satisfied: joblib>=1.1.1 in /usr/local/lib/python3.10/dist-packages (from scikit-learn>=0.20.0->ogb) (1.3.1)\n",
            "Requirement already satisfied: threadpoolctl>=2.0.0 in /usr/local/lib/python3.10/dist-packages (from scikit-learn>=0.20.0->ogb) (3.2.0)\n",
            "Requirement already satisfied: filelock in /usr/local/lib/python3.10/dist-packages (from torch>=1.6.0->ogb) (3.12.2)\n",
            "Requirement already satisfied: typing-extensions in /usr/local/lib/python3.10/dist-packages (from torch>=1.6.0->ogb) (4.7.1)\n",
            "Requirement already satisfied: sympy in /usr/local/lib/python3.10/dist-packages (from torch>=1.6.0->ogb) (1.11.1)\n",
            "Requirement already satisfied: networkx in /usr/local/lib/python3.10/dist-packages (from torch>=1.6.0->ogb) (3.1)\n",
            "Requirement already satisfied: jinja2 in /usr/local/lib/python3.10/dist-packages (from torch>=1.6.0->ogb) (3.1.2)\n",
            "Requirement already satisfied: triton==2.0.0 in /usr/local/lib/python3.10/dist-packages (from torch>=1.6.0->ogb) (2.0.0)\n",
            "Requirement already satisfied: cmake in /usr/local/lib/python3.10/dist-packages (from triton==2.0.0->torch>=1.6.0->ogb) (3.25.2)\n",
            "Requirement already satisfied: lit in /usr/local/lib/python3.10/dist-packages (from triton==2.0.0->torch>=1.6.0->ogb) (16.0.6)\n",
            "Requirement already satisfied: MarkupSafe>=2.0 in /usr/local/lib/python3.10/dist-packages (from jinja2->torch>=1.6.0->ogb) (2.1.3)\n",
            "Requirement already satisfied: certifi>=2017.4.17 in /usr/local/lib/python3.10/dist-packages (from requests->outdated>=0.2.0->ogb) (2023.7.22)\n",
            "Requirement already satisfied: charset-normalizer~=2.0.0 in /usr/local/lib/python3.10/dist-packages (from requests->outdated>=0.2.0->ogb) (2.0.12)\n",
            "Requirement already satisfied: idna<4,>=2.5 in /usr/local/lib/python3.10/dist-packages (from requests->outdated>=0.2.0->ogb) (3.4)\n",
            "Requirement already satisfied: mpmath>=0.19 in /usr/local/lib/python3.10/dist-packages (from sympy->torch>=1.6.0->ogb) (1.3.0)\n",
            "Building wheels for collected packages: littleutils\n",
            "  Building wheel for littleutils (setup.py) ... \u001b[?25l\u001b[?25hdone\n",
            "  Created wheel for littleutils: filename=littleutils-0.2.2-py3-none-any.whl size=7028 sha256=a2f9a42927fc8f3b2d3081230501a766e494ce081b3f8aec7dae2ee1f93c5530\n",
            "  Stored in directory: /root/.cache/pip/wheels/3d/fe/b0/27a9892da57472e538c7452a721a9cf463cc03cf7379889266\n",
            "Successfully built littleutils\n",
            "Installing collected packages: littleutils, outdated, ogb\n",
            "Successfully installed littleutils-0.2.2 ogb-1.3.6 outdated-0.2.2\n"
          ]
        }
      ]
    },
    {
      "cell_type": "code",
      "source": [
        "from ogb.nodeproppred import PygNodePropPredDataset, Evaluator\n",
        "import torch\n",
        "import pandas as pd\n",
        "import torch.nn.functional as F\n",
        "from torch_geometric.nn import GCNConv\n",
        "import torch_geometric.transforms as T\n",
        "from torch_geometric.data import DataLoader\n",
        "import numpy as np\n",
        "from torch_geometric.typing import SparseTensor"
      ],
      "metadata": {
        "id": "3SkS1Mzcbe8k"
      },
      "execution_count": 4,
      "outputs": []
    },
    {
      "cell_type": "markdown",
      "metadata": {
        "id": "0IK9z0wQIwzQ"
      },
      "source": [
        "## Load and Preprocess the Dataset"
      ]
    },
    {
      "cell_type": "code",
      "metadata": {
        "id": "0ibJ0ieoIwQM",
        "colab": {
          "base_uri": "https://localhost:8080/"
        },
        "outputId": "f2b30dc4-cc3d-41d8-9b7f-18c512d88683"
      },
      "source": [
        "dataset_name = 'ogbn-products'\n",
        "dataset = PygNodePropPredDataset(name=dataset_name,\n",
        "                                 transform=T.ToSparseTensor())\n",
        "data = dataset[0]\n",
        "\n",
        "device = 'cuda' if torch.cuda.is_available() else 'cpu'\n",
        "\n",
        "# If you use GPU, the device should be cuda\n",
        "print('Device: {}'.format(device))\n"
      ],
      "execution_count": 5,
      "outputs": [
        {
          "output_type": "stream",
          "name": "stdout",
          "text": [
            "This will download 1.38GB. Will you proceed? (y/N)\n",
            "y\n",
            "Downloading http://snap.stanford.edu/ogb/data/nodeproppred/products.zip\n"
          ]
        },
        {
          "output_type": "stream",
          "name": "stderr",
          "text": [
            "Downloaded 1.38 GB: 100%|██████████| 1414/1414 [00:27<00:00, 51.18it/s]\n"
          ]
        },
        {
          "output_type": "stream",
          "name": "stdout",
          "text": [
            "Extracting dataset/products.zip\n"
          ]
        },
        {
          "output_type": "stream",
          "name": "stderr",
          "text": [
            "Processing...\n"
          ]
        },
        {
          "output_type": "stream",
          "name": "stdout",
          "text": [
            "Loading necessary files...\n",
            "This might take a while.\n",
            "Processing graphs...\n"
          ]
        },
        {
          "output_type": "stream",
          "name": "stderr",
          "text": [
            "100%|██████████| 1/1 [00:01<00:00,  1.95s/it]\n"
          ]
        },
        {
          "output_type": "stream",
          "name": "stdout",
          "text": [
            "Converting graphs into PyG objects...\n"
          ]
        },
        {
          "output_type": "stream",
          "name": "stderr",
          "text": [
            "100%|██████████| 1/1 [00:00<00:00, 102.07it/s]\n"
          ]
        },
        {
          "output_type": "stream",
          "name": "stdout",
          "text": [
            "Saving...\n"
          ]
        },
        {
          "output_type": "stream",
          "name": "stderr",
          "text": [
            "Done!\n"
          ]
        },
        {
          "output_type": "stream",
          "name": "stdout",
          "text": [
            "Device: cuda\n"
          ]
        }
      ]
    },
    {
      "cell_type": "code",
      "source": [
        "data"
      ],
      "metadata": {
        "colab": {
          "base_uri": "https://localhost:8080/"
        },
        "id": "nJ6I9prjdg57",
        "outputId": "ba158b86-3274-4b3f-9038-30b6cd8d9911"
      },
      "execution_count": 6,
      "outputs": [
        {
          "output_type": "execute_result",
          "data": {
            "text/plain": [
              "Data(num_nodes=2449029, x=[2449029, 100], y=[2449029, 1], adj_t=[2449029, 2449029, nnz=123718280])"
            ]
          },
          "metadata": {},
          "execution_count": 6
        }
      ]
    },
    {
      "cell_type": "markdown",
      "source": [
        "This dataset is very big and if you try to run it as it is on colab, you may get an out of memory error.\n",
        "\n",
        "One solution is to use batching and train on subgraphs. Here, we will just make a smaller dataset so that we can train it in one go."
      ],
      "metadata": {
        "id": "L7QzFWvS2DvC"
      }
    },
    {
      "cell_type": "code",
      "source": [
        "# We need to have edge indxes to make a subgraph. We can get those from the adjacency matrix.\n",
        "data.edge_index = torch.stack([data.adj_t.__dict__[\"storage\"]._row, data.adj_t.__dict__[\"storage\"]._col])\n",
        "\n",
        "# We will only use the first 100000 nodes.\n",
        "# memory issues so only 80000\n",
        "sub_nodes = 80000\n",
        "sub_graph = data.subgraph(torch.arange(sub_nodes))\n",
        "\n",
        "# Update the adjaceny matrix according to the new graph\n",
        "sub_graph.adj_t = SparseTensor(\n",
        "    row=sub_graph.edge_index[0],\n",
        "    col=sub_graph.edge_index[1],\n",
        "    sparse_sizes=None,\n",
        "    is_sorted=True,\n",
        "    trust_data=True,\n",
        ")\n",
        "\n",
        "sub_graph = sub_graph.to(device)\n",
        "\n",
        "sub_graph"
      ],
      "metadata": {
        "colab": {
          "base_uri": "https://localhost:8080/"
        },
        "id": "q3Nrhnno6ylE",
        "outputId": "7b067058-eb00-4750-e9b0-7760913f005d"
      },
      "execution_count": 7,
      "outputs": [
        {
          "output_type": "execute_result",
          "data": {
            "text/plain": [
              "Data(num_nodes=80000, x=[80000, 100], y=[80000, 1], adj_t=[80000, 80000, nnz=1805480], edge_index=[2, 1805480])"
            ]
          },
          "metadata": {},
          "execution_count": 7
        }
      ]
    },
    {
      "cell_type": "code",
      "source": [
        "# Spilt data into train, validation and test set\n",
        "split_sizes = [int(sub_nodes*0.8),int(sub_nodes*0.05),int(sub_nodes*0.15)]\n",
        "indices = torch.arange(sub_nodes)\n",
        "np.random.shuffle(indices.numpy())\n",
        "split_idx = {s:t for t,s in zip(torch.split(indices, split_sizes, dim=0), [\"train\", \"valid\", \"test\"])}\n",
        "split_idx"
      ],
      "metadata": {
        "colab": {
          "base_uri": "https://localhost:8080/"
        },
        "id": "xJr8y1mG7xN0",
        "outputId": "e1c059e2-bd4f-42fe-f3e6-3aa7827a9448"
      },
      "execution_count": 8,
      "outputs": [
        {
          "output_type": "execute_result",
          "data": {
            "text/plain": [
              "{'train': tensor([39997, 23195, 24371,  ..., 37153, 14086, 40647]),\n",
              " 'valid': tensor([51307, 50591, 19999,  ..., 68370,  7318, 13826]),\n",
              " 'test': tensor([12588,  5750, 68308,  ..., 61025, 43541, 31191])}"
            ]
          },
          "metadata": {},
          "execution_count": 8
        }
      ]
    },
    {
      "cell_type": "code",
      "source": [
        "print(f\"Feature Length of each node: {sub_graph.x.shape[1]}\")"
      ],
      "metadata": {
        "colab": {
          "base_uri": "https://localhost:8080/"
        },
        "id": "WfHKG2kTcEOe",
        "outputId": "9e9477e5-1e29-47e5-a7f2-bad29b06130c"
      },
      "execution_count": 17,
      "outputs": [
        {
          "output_type": "stream",
          "name": "stdout",
          "text": [
            "Feature Length of each node: 100\n"
          ]
        }
      ]
    },
    {
      "cell_type": "code",
      "source": [
        "# To free up memory\n",
        "data = None"
      ],
      "metadata": {
        "id": "4mr5wezRVKWf"
      },
      "execution_count": 9,
      "outputs": []
    },
    {
      "cell_type": "markdown",
      "metadata": {
        "id": "OgUA815bNJ8w"
      },
      "source": [
        "## GCN Model\n",
        "\n",
        "Now we will implement our Graph Convolutional Networks (GCN) model! Specifically, we will use GCN as the foundation a graph neural network (Kipf et al. (2017)). To do so, we will work with PyG's built-in GCNConv layer."
      ]
    },
    {
      "cell_type": "markdown",
      "source": [
        "In highlevel, the GCN model works in the following way:\n",
        "\n",
        "![image.png](data:image/png;base64,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)"
      ],
      "metadata": {
        "id": "G5wwVbbTXtjq"
      }
    },
    {
      "cell_type": "markdown",
      "source": [
        "And in practice our forward layer configuration is done by the following scheme:\n",
        "![image.png](data:image/png;base64,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)"
      ],
      "metadata": {
        "id": "oD8GBY4-w6t-"
      }
    },
    {
      "cell_type": "code",
      "source": [
        "class GCN(torch.nn.Module):\n",
        "    def __init__(self, input_dim, hidden_dim, output_dim, num_layers,\n",
        "                 dropout, return_embeds=False):\n",
        "\n",
        "        super(GCN, self).__init__()\n",
        "\n",
        "        # A list of GCNConv layers\n",
        "        self.convs = [\n",
        "            GCNConv(input_dim, hidden_dim),\n",
        "        ]\n",
        "\n",
        "        for _ in range(num_layers-1):\n",
        "            self.convs.append(GCNConv(hidden_dim, hidden_dim))\n",
        "\n",
        "        self.last_layer = GCNConv(hidden_dim, output_dim)\n",
        "\n",
        "\n",
        "        # A list of 1D batch normalization layers\n",
        "        self.bns = []\n",
        "        for _ in range(num_layers):\n",
        "            self.bns.append(torch.nn.BatchNorm1d(hidden_dim))\n",
        "\n",
        "        self.convs = torch.nn.ModuleList(self.convs)\n",
        "        self.bns = torch.nn.ModuleList(self.bns)\n",
        "\n",
        "        # The log softmax layer\n",
        "        self.softmax = torch.nn.LogSoftmax()\n",
        "\n",
        "\n",
        "        # Probability of an element getting zeroed\n",
        "        self.dropout = dropout\n",
        "\n",
        "        # Skip classification layer and return node embeddings\n",
        "        self.return_embeds = return_embeds\n",
        "\n",
        "    def reset_parameters(self):\n",
        "        for conv in self.convs:\n",
        "            conv.reset_parameters()\n",
        "        for bn in self.bns:\n",
        "            bn.reset_parameters()\n",
        "\n",
        "    def forward(self, x, adj_t):\n",
        "\n",
        "        for i in range(len(self.convs)):\n",
        "            x = self.convs[i](x, adj_t)\n",
        "            x = self.bns[i](x)\n",
        "            x = F.relu(x)\n",
        "            x = F.dropout(x, p=self.dropout, training=self.training)\n",
        "\n",
        "        x = self.last_layer(x, adj_t)\n",
        "\n",
        "        if not self.return_embeds:\n",
        "          x = self.softmax(x)\n",
        "\n",
        "        return x\n"
      ],
      "metadata": {
        "id": "m1RLX9bQ1Q9u"
      },
      "execution_count": 9,
      "outputs": []
    },
    {
      "cell_type": "code",
      "source": [
        "def train(model, data, train_idx, optimizer, loss_fn):\n",
        "    model.train()\n",
        "    loss = 0\n",
        "\n",
        "    optimizer.zero_grad()  # Clear gradients.\n",
        "    out = model(data.x, data.adj_t)  # Perform a single forward pass.\n",
        "    loss = loss_fn(out[train_idx], data.y[train_idx].reshape(-1))\n",
        "\n",
        "    loss.backward()\n",
        "    optimizer.step()\n",
        "\n",
        "    return loss.item()"
      ],
      "metadata": {
        "id": "FkYqmRnT9ohg"
      },
      "execution_count": 10,
      "outputs": []
    },
    {
      "cell_type": "code",
      "source": [
        "# Test function here\n",
        "@torch.no_grad()\n",
        "def test(model, data, split_idx, evaluator, save_model_results=False):\n",
        "    model.eval()\n",
        "\n",
        "    # The output of model on all data\n",
        "    out = model(data.x, data.adj_t)\n",
        "\n",
        "    y_pred = out.argmax(dim=-1, keepdim=True)\n",
        "\n",
        "    train_acc = evaluator.eval({\n",
        "        'y_true': data.y[split_idx['train']],\n",
        "        'y_pred': y_pred[split_idx['train']],\n",
        "    })['acc']\n",
        "    valid_acc = evaluator.eval({\n",
        "        'y_true': data.y[split_idx['valid']],\n",
        "        'y_pred': y_pred[split_idx['valid']],\n",
        "    })['acc']\n",
        "    test_acc = evaluator.eval({\n",
        "        'y_true': data.y[split_idx['test']],\n",
        "        'y_pred': y_pred[split_idx['test']],\n",
        "    })['acc']\n",
        "\n",
        "    if save_model_results:\n",
        "      print (\"Saving Model Predictions\")\n",
        "\n",
        "      data = {}\n",
        "      data['y_pred'] = y_pred.view(-1).cpu().detach().numpy()\n",
        "\n",
        "      df = pd.DataFrame(data=data)\n",
        "      # Save locally as csv\n",
        "      df.to_csv('ogbn-products_node.csv', sep=',', index=False)\n",
        "\n",
        "\n",
        "    return train_acc, valid_acc, test_acc"
      ],
      "metadata": {
        "id": "AoGwW28d9rAA"
      },
      "execution_count": 11,
      "outputs": []
    },
    {
      "cell_type": "code",
      "source": [
        "args1 = {\n",
        "    'device': device,\n",
        "    'num_layers': 1,\n",
        "    'hidden_dim': 256,\n",
        "    'dropout': 0.5,\n",
        "    'lr': 0.01,\n",
        "    'epochs': 200,\n",
        "}\n",
        "args3 = {\n",
        "    'device': device, 'num_layers': 3, 'hidden_dim': 256,\n",
        "    'dropout': 0.5,'lr': 0.01, 'epochs': 200,\n",
        "}\n",
        "args5 = {\n",
        "    'device': device, 'num_layers': 5, 'hidden_dim': 256,\n",
        "    'dropout': 0.5,'lr': 0.01, 'epochs': 200,\n",
        "}"
      ],
      "metadata": {
        "id": "WCaXk_8T9tqe"
      },
      "execution_count": 12,
      "outputs": []
    },
    {
      "cell_type": "markdown",
      "source": [
        "We instantize three different instances of our GCN model where we vary the mnumber of convolutional layers, $L=\\{1,2,3\\}$ to analyse if it has an effect on the predictive ability."
      ],
      "metadata": {
        "id": "i2yx8TVhxUAj"
      }
    },
    {
      "cell_type": "code",
      "source": [
        "modelL1 = GCN(sub_graph.num_features, args1['hidden_dim'],\n",
        "            dataset.num_classes, args1['num_layers'],\n",
        "            args1['dropout']).to(device)\n",
        "modelL3 = GCN(sub_graph.num_features, args3['hidden_dim'],\n",
        "            dataset.num_classes, args3['num_layers'],\n",
        "            args3['dropout']).to(device)\n",
        "modelL5 = GCN(sub_graph.num_features, args5['hidden_dim'],\n",
        "            dataset.num_classes, args5['num_layers'],\n",
        "            args5['dropout']).to(device)\n",
        "evaluator = Evaluator(name='ogbn-products')\n",
        "print('Model (L=3)-GCN layers specification')\n",
        "print('====================================')\n",
        "modelL3"
      ],
      "metadata": {
        "id": "3RNn-gUa9wkx",
        "outputId": "7adddb03-ef59-425a-b76b-51c91f772cc0",
        "colab": {
          "base_uri": "https://localhost:8080/"
        }
      },
      "execution_count": 13,
      "outputs": [
        {
          "output_type": "stream",
          "name": "stdout",
          "text": [
            "Model (L=3)-GCN layers specification\n",
            "====================================\n"
          ]
        },
        {
          "output_type": "execute_result",
          "data": {
            "text/plain": [
              "GCN(\n",
              "  (last_layer): GCNConv(256, 47)\n",
              "  (convs): ModuleList(\n",
              "    (0): GCNConv(100, 256)\n",
              "    (1-2): 2 x GCNConv(256, 256)\n",
              "  )\n",
              "  (bns): ModuleList(\n",
              "    (0-2): 3 x BatchNorm1d(256, eps=1e-05, momentum=0.1, affine=True, track_running_stats=True)\n",
              "  )\n",
              "  (softmax): LogSoftmax(dim=None)\n",
              ")"
            ]
          },
          "metadata": {},
          "execution_count": 13
        }
      ]
    },
    {
      "cell_type": "markdown",
      "source": [
        "## Training and testing"
      ],
      "metadata": {
        "id": "w_tNZVutx0vI"
      }
    },
    {
      "cell_type": "code",
      "source": [
        "import copy\n",
        "\n",
        "train_idx = split_idx['train'].to(device)\n",
        "\n",
        "# reset the parameters to initial random value\n",
        "modelL1.reset_parameters()\n",
        "modelL3.reset_parameters()\n",
        "modelL5.reset_parameters()\n",
        "\n",
        "optimizer1 = torch.optim.Adam(modelL1.parameters(), lr=args1['lr'])\n",
        "optimizer3 = torch.optim.Adam(modelL3.parameters(), lr=args3['lr'])\n",
        "optimizer5 = torch.optim.Adam(modelL5.parameters(), lr=args5['lr'])\n",
        "loss_fn = F.nll_loss\n",
        "\n",
        "best_model1,best_model3,best_model5 = None, None, None\n",
        "best_valid_acc1, best_valid_acc3, best_valid_acc5 = 0, 0, 0\n",
        "\n",
        "loss_ls1, loss_ls3, loss_ls5 = [], [], []\n",
        "train_acc_ls1, train_acc_ls3, train_acc_ls5 = [], [], []\n",
        "valid_acc_ls1, valid_acc_ls3, valid_acc_ls5 = [], [], []\n",
        "test_acc_ls1, test_acc_ls3, test_acc_ls5 = [], [], []\n",
        "\n",
        "wandb.init(\n",
        "      # Set the project where this run will be logged\n",
        "      project=\"basic-intro\",\n",
        "      # We pass a run name (otherwise it’ll be randomly assigned, like sunshine-lollypop-10)\n",
        "      name=f\"GCN_3\",\n",
        "      # Track hyperparameters and run metadata\n",
        "      config={\n",
        "      \"learning_rate\": args3[\"lr\"],\n",
        "      \"architecture\": \"GCN-L3\",\n",
        "      \"dataset\": \"ogbn-products\",\n",
        "      \"epochs\": args3[\"epochs\"],\n",
        "      })\n",
        "\n",
        "for epoch in range(1, 1 + args1[\"epochs\"]):\n",
        "  loss1 = train(modelL1, sub_graph, train_idx, optimizer1, loss_fn)\n",
        "  result1 = test(modelL1, sub_graph, split_idx, evaluator)\n",
        "  train_acc1, valid_acc1, test_acc1 = result1\n",
        "  loss3 = train(modelL3, sub_graph, train_idx, optimizer3, loss_fn)\n",
        "  result3 = test(modelL3, sub_graph, split_idx, evaluator)\n",
        "  train_acc3, valid_acc3, test_acc3 = result3\n",
        "  loss5 = train(modelL1, sub_graph, train_idx, optimizer5, loss_fn)\n",
        "  result5 = test(modelL1, sub_graph, split_idx, evaluator)\n",
        "  train_acc5, valid_acc5, test_acc5 = result5\n",
        "\n",
        "  loss_ls1.append(loss1)\n",
        "  train_acc_ls1.append(train_acc1)\n",
        "  valid_acc_ls1.append(valid_acc1)\n",
        "  test_acc_ls1.append(test_acc1)\n",
        "  loss_ls3.append(loss3)\n",
        "  train_acc_ls3.append(train_acc3)\n",
        "  valid_acc_ls3.append(valid_acc3)\n",
        "  test_acc_ls3.append(test_acc3)\n",
        "  loss_ls5.append(loss5)\n",
        "  train_acc_ls5.append(train_acc5)\n",
        "  valid_acc_ls5.append(valid_acc5)\n",
        "  test_acc_ls5.append(test_acc5)\n",
        "\n",
        "  # just adding L=3 since there is no major difference, found a posteriori\n",
        "  wandb.log({\"train_acc\": train_acc3,\n",
        "             \"valid_acc\": valid_acc3,\n",
        "             \"test_acc\": test_acc3,\n",
        "             \"loss\": loss3})\n",
        "\n",
        "  if valid_acc1 > best_valid_acc1:\n",
        "      best_valid_acc1 = valid_acc1\n",
        "      best_model1 = copy.deepcopy(modelL1)\n",
        "  if valid_acc3 > best_valid_acc3:\n",
        "    best_valid_acc3 = valid_acc3\n",
        "    best_model3 = copy.deepcopy(modelL3)\n",
        "  if valid_acc5 > best_valid_acc5:\n",
        "    best_valid_acc5 = valid_acc5\n",
        "    best_model5 = copy.deepcopy(modelL5)\n",
        "  print(f'Epoch: {epoch:02d}, '\n",
        "        f'Loss: {loss1:.4f}, {loss3:.4f}, {loss5:.4f} '\n",
        "        f'Train: {100 * train_acc1:.2f}%, {100 * train_acc3:.2f}%, {100 * train_acc5:.2f}% '\n",
        "        f'Valid: {100 * valid_acc1:.2f}%, {100 * valid_acc3:.2f}%, {100 * valid_acc5:.2f}% '\n",
        "        f'Test: {100 * test_acc1:.2f}%, {100 * test_acc3:.2f}%, {100 * test_acc5:.2f}%')\n",
        "\n",
        "print('Complete')\n",
        "wandb.finish()"
      ],
      "metadata": {
        "id": "ry7B4Z9--IJE",
        "outputId": "5c4c83eb-fe1f-4fbc-d17e-ac88255d42c4",
        "colab": {
          "base_uri": "https://localhost:8080/",
          "height": 1000,
          "referenced_widgets": [
            "2ab3c5d3f7f74919ba7a6c5bc7bb8914",
            "0f5e163bb5c24e80bcc6439eb23c8892",
            "18f19a7613c34d3c8b43972cd64771c9",
            "3df7cfa05e9b4c0b9b75921b0acbaddb",
            "b32dedc744644bd5bb2cb00985ba1831",
            "62eb805d9e0c4b40bedb03c277047e91",
            "a2fcdc776068492a9a1ff1d533a0ca2a",
            "363b3c02d8344a88aa5657297be3ab8e"
          ]
        }
      },
      "execution_count": 14,
      "outputs": [
        {
          "output_type": "stream",
          "name": "stderr",
          "text": [
            "\u001b[34m\u001b[1mwandb\u001b[0m: Currently logged in as: \u001b[33msebastianhansen98\u001b[0m. Use \u001b[1m`wandb login --relogin`\u001b[0m to force relogin\n"
          ]
        },
        {
          "output_type": "display_data",
          "data": {
            "text/plain": [
              "<IPython.core.display.HTML object>"
            ],
            "text/html": [
              "Tracking run with wandb version 0.15.8"
            ]
          },
          "metadata": {}
        },
        {
          "output_type": "display_data",
          "data": {
            "text/plain": [
              "<IPython.core.display.HTML object>"
            ],
            "text/html": [
              "Run data is saved locally in <code>/content/wandb/run-20230804_112110-mj8ltilt</code>"
            ]
          },
          "metadata": {}
        },
        {
          "output_type": "display_data",
          "data": {
            "text/plain": [
              "<IPython.core.display.HTML object>"
            ],
            "text/html": [
              "Syncing run <strong><a href='https://wandb.ai/sebastianhansen98/basic-intro/runs/mj8ltilt' target=\"_blank\">GCN_3</a></strong> to <a href='https://wandb.ai/sebastianhansen98/basic-intro' target=\"_blank\">Weights & Biases</a> (<a href='https://wandb.me/run' target=\"_blank\">docs</a>)<br/>"
            ]
          },
          "metadata": {}
        },
        {
          "output_type": "display_data",
          "data": {
            "text/plain": [
              "<IPython.core.display.HTML object>"
            ],
            "text/html": [
              " View project at <a href='https://wandb.ai/sebastianhansen98/basic-intro' target=\"_blank\">https://wandb.ai/sebastianhansen98/basic-intro</a>"
            ]
          },
          "metadata": {}
        },
        {
          "output_type": "display_data",
          "data": {
            "text/plain": [
              "<IPython.core.display.HTML object>"
            ],
            "text/html": [
              " View run at <a href='https://wandb.ai/sebastianhansen98/basic-intro/runs/mj8ltilt' target=\"_blank\">https://wandb.ai/sebastianhansen98/basic-intro/runs/mj8ltilt</a>"
            ]
          },
          "metadata": {}
        },
        {
          "output_type": "stream",
          "name": "stderr",
          "text": [
            "<ipython-input-9-bd2bcc944472>:53: UserWarning: Implicit dimension choice for log_softmax has been deprecated. Change the call to include dim=X as an argument.\n",
            "  x = self.softmax(x)\n"
          ]
        },
        {
          "output_type": "stream",
          "name": "stdout",
          "text": [
            "Epoch: 01, Loss: 4.3535, 4.0806, 2.5603 Train: 57.14%, 50.75%, 57.03% Valid: 55.20%, 49.50%, 55.12% Test: 57.56%, 50.12%, 57.40%\n",
            "Epoch: 02, Loss: 2.5593, 1.8926, 1.6584 Train: 72.42%, 67.66%, 72.51% Valid: 71.05%, 67.80%, 71.30% Test: 72.48%, 67.38%, 72.59%\n",
            "Epoch: 03, Loss: 1.6626, 1.1975, 1.2679 Train: 75.82%, 76.10%, 75.89% Valid: 74.83%, 75.58%, 74.95% Test: 75.82%, 75.81%, 75.87%\n",
            "Epoch: 04, Loss: 1.2701, 0.9594, 1.0760 Train: 77.56%, 80.26%, 77.61% Valid: 76.85%, 79.45%, 76.90% Test: 77.58%, 80.35%, 77.62%\n",
            "Epoch: 05, Loss: 1.0767, 0.8532, 0.9622 Train: 79.18%, 81.78%, 79.23% Valid: 78.45%, 80.73%, 78.53% Test: 79.22%, 81.94%, 79.23%\n",
            "Epoch: 06, Loss: 0.9623, 0.7855, 0.8912 Train: 80.34%, 82.39%, 80.37% Valid: 79.47%, 81.60%, 79.53% Test: 80.33%, 82.23%, 80.34%\n",
            "Epoch: 07, Loss: 0.8914, 0.7495, 0.8405 Train: 81.42%, 83.13%, 81.45% Valid: 80.47%, 82.53%, 80.53% Test: 81.47%, 82.83%, 81.57%\n",
            "Epoch: 08, Loss: 0.8457, 0.7044, 0.8106 Train: 82.16%, 84.00%, 82.18% Valid: 80.97%, 83.53%, 81.03% Test: 82.29%, 83.85%, 82.27%\n",
            "Epoch: 09, Loss: 0.8106, 0.6736, 0.7802 Train: 82.71%, 84.81%, 82.73% Valid: 81.83%, 84.50%, 81.88% Test: 82.65%, 84.46%, 82.68%\n",
            "Epoch: 10, Loss: 0.7817, 0.6456, 0.7593 Train: 83.24%, 85.33%, 83.24% Valid: 82.42%, 84.80%, 82.42% Test: 83.09%, 84.97%, 83.10%\n",
            "Epoch: 11, Loss: 0.7592, 0.6249, 0.7325 Train: 83.68%, 85.68%, 83.69% Valid: 83.08%, 85.08%, 83.10% Test: 83.47%, 85.43%, 83.47%\n",
            "Epoch: 12, Loss: 0.7318, 0.6129, 0.7138 Train: 84.11%, 86.04%, 84.13% Valid: 83.75%, 85.30%, 83.80% Test: 83.87%, 85.62%, 83.87%\n",
            "Epoch: 13, Loss: 0.7129, 0.6002, 0.6921 Train: 84.55%, 86.39%, 84.56% Valid: 83.93%, 85.52%, 83.95% Test: 84.32%, 86.03%, 84.35%\n",
            "Epoch: 14, Loss: 0.6936, 0.5863, 0.6783 Train: 84.85%, 86.54%, 84.87% Valid: 84.23%, 85.72%, 84.20% Test: 84.66%, 86.12%, 84.66%\n",
            "Epoch: 15, Loss: 0.6780, 0.5748, 0.6647 Train: 85.21%, 86.67%, 85.22% Valid: 84.58%, 85.58%, 84.58% Test: 84.96%, 86.33%, 85.01%\n",
            "Epoch: 16, Loss: 0.6626, 0.5625, 0.6503 Train: 85.52%, 86.83%, 85.54% Valid: 84.95%, 85.80%, 84.97% Test: 85.33%, 86.62%, 85.33%\n",
            "Epoch: 17, Loss: 0.6497, 0.5520, 0.6344 Train: 85.86%, 87.11%, 85.87% Valid: 85.08%, 86.17%, 85.10% Test: 85.57%, 86.80%, 85.58%\n",
            "Epoch: 18, Loss: 0.6354, 0.5433, 0.6247 Train: 86.09%, 87.33%, 86.09% Valid: 85.47%, 86.38%, 85.42% Test: 85.74%, 86.96%, 85.75%\n",
            "Epoch: 19, Loss: 0.6232, 0.5347, 0.6101 Train: 86.32%, 87.49%, 86.32% Valid: 85.52%, 86.48%, 85.52% Test: 85.81%, 87.07%, 85.84%\n",
            "Epoch: 20, Loss: 0.6128, 0.5266, 0.6018 Train: 86.47%, 87.61%, 86.49% Valid: 85.85%, 86.42%, 85.85% Test: 85.97%, 87.20%, 85.97%\n",
            "Epoch: 21, Loss: 0.6017, 0.5204, 0.5903 Train: 86.61%, 87.60%, 86.61% Valid: 86.05%, 86.28%, 86.05% Test: 86.16%, 87.22%, 86.16%\n",
            "Epoch: 22, Loss: 0.5925, 0.5127, 0.5849 Train: 86.74%, 87.61%, 86.75% Valid: 86.25%, 86.30%, 86.22% Test: 86.27%, 87.23%, 86.28%\n",
            "Epoch: 23, Loss: 0.5850, 0.5104, 0.5786 Train: 86.84%, 87.71%, 86.84% Valid: 86.28%, 86.40%, 86.30% Test: 86.42%, 87.28%, 86.40%\n",
            "Epoch: 24, Loss: 0.5756, 0.5006, 0.5697 Train: 86.92%, 87.81%, 86.93% Valid: 86.33%, 86.58%, 86.33% Test: 86.48%, 87.38%, 86.50%\n",
            "Epoch: 25, Loss: 0.5679, 0.4956, 0.5612 Train: 87.00%, 87.93%, 87.00% Valid: 86.45%, 86.72%, 86.45% Test: 86.67%, 87.52%, 86.63%\n",
            "Epoch: 26, Loss: 0.5612, 0.4916, 0.5538 Train: 87.11%, 87.99%, 87.11% Valid: 86.55%, 86.75%, 86.55% Test: 86.74%, 87.58%, 86.75%\n",
            "Epoch: 27, Loss: 0.5525, 0.4868, 0.5449 Train: 87.18%, 88.09%, 87.18% Valid: 86.55%, 86.85%, 86.55% Test: 86.73%, 87.64%, 86.76%\n",
            "Epoch: 28, Loss: 0.5455, 0.4820, 0.5404 Train: 87.28%, 88.18%, 87.28% Valid: 86.55%, 86.85%, 86.55% Test: 86.83%, 87.70%, 86.84%\n",
            "Epoch: 29, Loss: 0.5405, 0.4769, 0.5359 Train: 87.42%, 88.25%, 87.42% Valid: 86.52%, 86.98%, 86.52% Test: 86.87%, 87.65%, 86.87%\n",
            "Epoch: 30, Loss: 0.5336, 0.4719, 0.5288 Train: 87.50%, 88.34%, 87.50% Valid: 86.55%, 87.12%, 86.55% Test: 86.98%, 87.73%, 86.98%\n",
            "Epoch: 31, Loss: 0.5293, 0.4671, 0.5245 Train: 87.54%, 88.44%, 87.54% Valid: 86.48%, 87.25%, 86.48% Test: 87.10%, 87.78%, 87.11%\n",
            "Epoch: 32, Loss: 0.5242, 0.4639, 0.5220 Train: 87.59%, 88.54%, 87.59% Valid: 86.45%, 87.30%, 86.48% Test: 87.11%, 87.83%, 87.12%\n",
            "Epoch: 33, Loss: 0.5216, 0.4600, 0.5192 Train: 87.68%, 88.62%, 87.68% Valid: 86.48%, 87.30%, 86.48% Test: 87.18%, 87.85%, 87.18%\n",
            "Epoch: 34, Loss: 0.5174, 0.4583, 0.5119 Train: 87.75%, 88.63%, 87.74% Valid: 86.40%, 87.38%, 86.40% Test: 87.21%, 87.88%, 87.22%\n",
            "Epoch: 35, Loss: 0.5147, 0.4558, 0.5076 Train: 87.79%, 88.71%, 87.80% Valid: 86.42%, 87.38%, 86.42% Test: 87.26%, 87.88%, 87.25%\n",
            "Epoch: 36, Loss: 0.5086, 0.4514, 0.5048 Train: 87.83%, 88.74%, 87.83% Valid: 86.42%, 87.48%, 86.42% Test: 87.28%, 87.90%, 87.29%\n",
            "Epoch: 37, Loss: 0.5062, 0.4482, 0.5029 Train: 87.90%, 88.78%, 87.90% Valid: 86.42%, 87.50%, 86.42% Test: 87.35%, 88.02%, 87.34%\n",
            "Epoch: 38, Loss: 0.4992, 0.4461, 0.4972 Train: 87.92%, 88.83%, 87.92% Valid: 86.58%, 87.52%, 86.58% Test: 87.42%, 88.14%, 87.42%\n",
            "Epoch: 39, Loss: 0.4957, 0.4424, 0.4923 Train: 88.01%, 88.91%, 88.01% Valid: 86.55%, 87.67%, 86.58% Test: 87.46%, 88.19%, 87.46%\n",
            "Epoch: 40, Loss: 0.4930, 0.4400, 0.4896 Train: 88.09%, 88.98%, 88.09% Valid: 86.67%, 87.80%, 86.67% Test: 87.52%, 88.29%, 87.53%\n",
            "Epoch: 41, Loss: 0.4897, 0.4385, 0.4862 Train: 88.16%, 89.03%, 88.17% Valid: 86.80%, 87.80%, 86.83% Test: 87.61%, 88.35%, 87.63%\n",
            "Epoch: 42, Loss: 0.4846, 0.4318, 0.4818 Train: 88.22%, 89.06%, 88.22% Valid: 86.80%, 87.90%, 86.80% Test: 87.67%, 88.40%, 87.67%\n",
            "Epoch: 43, Loss: 0.4844, 0.4296, 0.4776 Train: 88.32%, 89.13%, 88.32% Valid: 86.98%, 87.88%, 86.95% Test: 87.74%, 88.51%, 87.75%\n",
            "Epoch: 44, Loss: 0.4802, 0.4297, 0.4764 Train: 88.38%, 89.19%, 88.38% Valid: 87.02%, 87.88%, 87.05% Test: 87.81%, 88.57%, 87.82%\n",
            "Epoch: 45, Loss: 0.4768, 0.4257, 0.4733 Train: 88.46%, 89.25%, 88.47% Valid: 86.95%, 88.05%, 86.95% Test: 87.81%, 88.52%, 87.82%\n",
            "Epoch: 46, Loss: 0.4738, 0.4231, 0.4704 Train: 88.50%, 89.30%, 88.51% Valid: 87.05%, 88.05%, 87.08% Test: 87.75%, 88.57%, 87.75%\n",
            "Epoch: 47, Loss: 0.4715, 0.4235, 0.4686 Train: 88.55%, 89.35%, 88.55% Valid: 87.20%, 88.15%, 87.20% Test: 87.78%, 88.56%, 87.77%\n",
            "Epoch: 48, Loss: 0.4668, 0.4196, 0.4646 Train: 88.58%, 89.39%, 88.58% Valid: 87.28%, 88.17%, 87.28% Test: 87.79%, 88.60%, 87.79%\n",
            "Epoch: 49, Loss: 0.4676, 0.4186, 0.4622 Train: 88.66%, 89.42%, 88.66% Valid: 87.30%, 88.08%, 87.30% Test: 87.83%, 88.66%, 87.84%\n",
            "Epoch: 50, Loss: 0.4639, 0.4150, 0.4630 Train: 88.71%, 89.50%, 88.71% Valid: 87.38%, 88.25%, 87.33% Test: 87.87%, 88.76%, 87.86%\n",
            "Epoch: 51, Loss: 0.4628, 0.4130, 0.4611 Train: 88.72%, 89.55%, 88.73% Valid: 87.40%, 88.45%, 87.40% Test: 87.97%, 88.78%, 87.97%\n",
            "Epoch: 52, Loss: 0.4602, 0.4118, 0.4555 Train: 88.75%, 89.63%, 88.76% Valid: 87.40%, 88.60%, 87.38% Test: 88.08%, 88.79%, 88.08%\n",
            "Epoch: 53, Loss: 0.4569, 0.4110, 0.4547 Train: 88.83%, 89.62%, 88.83% Valid: 87.48%, 88.42%, 87.48% Test: 88.14%, 88.78%, 88.12%\n",
            "Epoch: 54, Loss: 0.4540, 0.4081, 0.4545 Train: 88.86%, 89.64%, 88.86% Valid: 87.50%, 88.42%, 87.50% Test: 88.08%, 88.86%, 88.08%\n",
            "Epoch: 55, Loss: 0.4506, 0.4056, 0.4512 Train: 88.93%, 89.65%, 88.93% Valid: 87.50%, 88.45%, 87.50% Test: 88.11%, 88.92%, 88.11%\n",
            "Epoch: 56, Loss: 0.4513, 0.4041, 0.4499 Train: 89.00%, 89.71%, 89.00% Valid: 87.55%, 88.50%, 87.52% Test: 88.08%, 88.99%, 88.08%\n",
            "Epoch: 57, Loss: 0.4479, 0.4019, 0.4483 Train: 89.03%, 89.77%, 89.03% Valid: 87.62%, 88.38%, 87.62% Test: 88.12%, 89.01%, 88.12%\n",
            "Epoch: 58, Loss: 0.4470, 0.3995, 0.4441 Train: 89.10%, 89.82%, 89.10% Valid: 87.70%, 88.55%, 87.67% Test: 88.21%, 89.06%, 88.21%\n",
            "Epoch: 59, Loss: 0.4441, 0.4011, 0.4427 Train: 89.15%, 89.86%, 89.15% Valid: 87.75%, 88.78%, 87.75% Test: 88.18%, 89.03%, 88.18%\n",
            "Epoch: 60, Loss: 0.4417, 0.3986, 0.4412 Train: 89.20%, 89.89%, 89.19% Valid: 87.70%, 88.83%, 87.70% Test: 88.26%, 88.96%, 88.26%\n",
            "Epoch: 61, Loss: 0.4402, 0.3964, 0.4384 Train: 89.23%, 89.93%, 89.23% Valid: 87.70%, 88.75%, 87.70% Test: 88.31%, 89.02%, 88.31%\n",
            "Epoch: 62, Loss: 0.4395, 0.3946, 0.4374 Train: 89.28%, 89.98%, 89.28% Valid: 87.83%, 88.83%, 87.83% Test: 88.38%, 89.12%, 88.38%\n",
            "Epoch: 63, Loss: 0.4391, 0.3936, 0.4370 Train: 89.30%, 89.97%, 89.29% Valid: 87.88%, 88.67%, 87.85% Test: 88.44%, 89.03%, 88.44%\n",
            "Epoch: 64, Loss: 0.4365, 0.3924, 0.4338 Train: 89.32%, 90.03%, 89.32% Valid: 87.92%, 88.70%, 87.90% Test: 88.47%, 89.04%, 88.47%\n",
            "Epoch: 65, Loss: 0.4333, 0.3888, 0.4314 Train: 89.35%, 90.08%, 89.35% Valid: 87.90%, 88.70%, 87.90% Test: 88.43%, 89.07%, 88.43%\n",
            "Epoch: 66, Loss: 0.4309, 0.3858, 0.4306 Train: 89.40%, 90.12%, 89.40% Valid: 87.98%, 88.62%, 87.95% Test: 88.52%, 89.06%, 88.52%\n",
            "Epoch: 67, Loss: 0.4301, 0.3860, 0.4307 Train: 89.47%, 90.12%, 89.46% Valid: 88.00%, 88.70%, 88.00% Test: 88.56%, 89.10%, 88.56%\n",
            "Epoch: 68, Loss: 0.4306, 0.3851, 0.4277 Train: 89.50%, 90.15%, 89.49% Valid: 88.02%, 88.60%, 88.02% Test: 88.52%, 89.23%, 88.52%\n",
            "Epoch: 69, Loss: 0.4275, 0.3843, 0.4270 Train: 89.53%, 90.20%, 89.53% Valid: 88.05%, 88.65%, 88.02% Test: 88.52%, 89.20%, 88.52%\n",
            "Epoch: 70, Loss: 0.4272, 0.3850, 0.4223 Train: 89.55%, 90.18%, 89.55% Valid: 88.10%, 88.62%, 88.10% Test: 88.57%, 89.09%, 88.57%\n",
            "Epoch: 71, Loss: 0.4261, 0.3808, 0.4225 Train: 89.59%, 90.19%, 89.59% Valid: 88.20%, 88.55%, 88.20% Test: 88.58%, 89.20%, 88.58%\n",
            "Epoch: 72, Loss: 0.4241, 0.3812, 0.4218 Train: 89.62%, 90.19%, 89.61% Valid: 88.17%, 88.72%, 88.17% Test: 88.61%, 89.22%, 88.61%\n",
            "Epoch: 73, Loss: 0.4207, 0.3796, 0.4208 Train: 89.62%, 90.29%, 89.62% Valid: 88.25%, 88.67%, 88.25% Test: 88.63%, 89.28%, 88.63%\n",
            "Epoch: 74, Loss: 0.4204, 0.3774, 0.4190 Train: 89.65%, 90.40%, 89.64% Valid: 88.22%, 88.55%, 88.22% Test: 88.61%, 89.34%, 88.62%\n",
            "Epoch: 75, Loss: 0.4195, 0.3768, 0.4167 Train: 89.67%, 90.40%, 89.67% Valid: 88.30%, 88.62%, 88.30% Test: 88.64%, 89.39%, 88.64%\n",
            "Epoch: 76, Loss: 0.4163, 0.3757, 0.4166 Train: 89.72%, 90.51%, 89.72% Valid: 88.25%, 88.67%, 88.25% Test: 88.71%, 89.43%, 88.69%\n",
            "Epoch: 77, Loss: 0.4162, 0.3736, 0.4153 Train: 89.76%, 90.50%, 89.75% Valid: 88.28%, 88.65%, 88.25% Test: 88.68%, 89.21%, 88.67%\n",
            "Epoch: 78, Loss: 0.4140, 0.3734, 0.4130 Train: 89.77%, 90.49%, 89.77% Valid: 88.25%, 88.55%, 88.25% Test: 88.67%, 89.34%, 88.68%\n",
            "Epoch: 79, Loss: 0.4130, 0.3723, 0.4120 Train: 89.80%, 90.47%, 89.80% Valid: 88.25%, 88.85%, 88.25% Test: 88.68%, 89.37%, 88.68%\n",
            "Epoch: 80, Loss: 0.4125, 0.3723, 0.4092 Train: 89.82%, 90.48%, 89.82% Valid: 88.25%, 88.83%, 88.25% Test: 88.72%, 89.33%, 88.72%\n",
            "Epoch: 81, Loss: 0.4103, 0.3698, 0.4105 Train: 89.84%, 90.53%, 89.84% Valid: 88.25%, 88.72%, 88.25% Test: 88.72%, 89.24%, 88.72%\n",
            "Epoch: 82, Loss: 0.4084, 0.3681, 0.4086 Train: 89.86%, 90.58%, 89.87% Valid: 88.25%, 88.78%, 88.25% Test: 88.74%, 89.31%, 88.73%\n",
            "Epoch: 83, Loss: 0.4078, 0.3672, 0.4060 Train: 89.87%, 90.57%, 89.87% Valid: 88.22%, 88.75%, 88.22% Test: 88.79%, 89.28%, 88.78%\n",
            "Epoch: 84, Loss: 0.4060, 0.3663, 0.4052 Train: 89.90%, 90.59%, 89.90% Valid: 88.17%, 88.78%, 88.17% Test: 88.84%, 89.22%, 88.84%\n",
            "Epoch: 85, Loss: 0.4043, 0.3660, 0.4048 Train: 89.93%, 90.65%, 89.93% Valid: 88.12%, 88.78%, 88.12% Test: 88.86%, 89.24%, 88.85%\n",
            "Epoch: 86, Loss: 0.4053, 0.3656, 0.4054 Train: 89.99%, 90.67%, 89.98% Valid: 88.17%, 88.90%, 88.17% Test: 88.84%, 89.51%, 88.85%\n",
            "Epoch: 87, Loss: 0.4043, 0.3632, 0.4018 Train: 90.04%, 90.73%, 90.03% Valid: 88.20%, 88.90%, 88.20% Test: 88.89%, 89.48%, 88.89%\n",
            "Epoch: 88, Loss: 0.4006, 0.3641, 0.4007 Train: 90.07%, 90.62%, 90.07% Valid: 88.28%, 88.75%, 88.28% Test: 88.94%, 89.33%, 88.94%\n",
            "Epoch: 89, Loss: 0.4027, 0.3604, 0.3981 Train: 90.07%, 90.80%, 90.06% Valid: 88.22%, 88.75%, 88.22% Test: 88.91%, 89.42%, 88.91%\n",
            "Epoch: 90, Loss: 0.4010, 0.3603, 0.3966 Train: 90.11%, 90.74%, 90.11% Valid: 88.28%, 88.95%, 88.28% Test: 88.88%, 89.46%, 88.88%\n",
            "Epoch: 91, Loss: 0.3987, 0.3612, 0.3987 Train: 90.15%, 90.82%, 90.14% Valid: 88.38%, 88.92%, 88.38% Test: 88.88%, 89.56%, 88.88%\n",
            "Epoch: 92, Loss: 0.3982, 0.3577, 0.3972 Train: 90.18%, 90.81%, 90.18% Valid: 88.52%, 88.88%, 88.52% Test: 88.98%, 89.42%, 88.98%\n",
            "Epoch: 93, Loss: 0.3968, 0.3595, 0.3955 Train: 90.21%, 90.78%, 90.22% Valid: 88.52%, 88.98%, 88.52% Test: 89.03%, 89.62%, 89.03%\n",
            "Epoch: 94, Loss: 0.3971, 0.3566, 0.3944 Train: 90.24%, 90.81%, 90.23% Valid: 88.48%, 88.98%, 88.48% Test: 88.96%, 89.59%, 88.96%\n",
            "Epoch: 95, Loss: 0.3943, 0.3542, 0.3944 Train: 90.24%, 90.85%, 90.24% Valid: 88.50%, 88.85%, 88.50% Test: 88.95%, 89.53%, 88.96%\n",
            "Epoch: 96, Loss: 0.3934, 0.3546, 0.3923 Train: 90.27%, 90.89%, 90.27% Valid: 88.50%, 89.03%, 88.50% Test: 88.97%, 89.51%, 88.97%\n",
            "Epoch: 97, Loss: 0.3920, 0.3541, 0.3919 Train: 90.30%, 90.90%, 90.31% Valid: 88.60%, 89.25%, 88.60% Test: 89.00%, 89.57%, 89.01%\n",
            "Epoch: 98, Loss: 0.3915, 0.3541, 0.3894 Train: 90.33%, 90.89%, 90.33% Valid: 88.58%, 89.22%, 88.58% Test: 89.03%, 89.56%, 89.03%\n",
            "Epoch: 99, Loss: 0.3898, 0.3518, 0.3902 Train: 90.36%, 90.92%, 90.36% Valid: 88.58%, 89.00%, 88.58% Test: 89.07%, 89.48%, 89.08%\n",
            "Epoch: 100, Loss: 0.3889, 0.3491, 0.3894 Train: 90.37%, 90.97%, 90.37% Valid: 88.55%, 88.98%, 88.55% Test: 89.09%, 89.55%, 89.09%\n",
            "Epoch: 101, Loss: 0.3884, 0.3505, 0.3881 Train: 90.39%, 90.95%, 90.39% Valid: 88.50%, 89.12%, 88.50% Test: 89.11%, 89.56%, 89.11%\n",
            "Epoch: 102, Loss: 0.3879, 0.3476, 0.3865 Train: 90.43%, 90.95%, 90.42% Valid: 88.50%, 89.30%, 88.50% Test: 89.14%, 89.48%, 89.14%\n",
            "Epoch: 103, Loss: 0.3882, 0.3489, 0.3869 Train: 90.46%, 90.94%, 90.45% Valid: 88.45%, 88.90%, 88.45% Test: 89.11%, 89.40%, 89.11%\n",
            "Epoch: 104, Loss: 0.3860, 0.3468, 0.3825 Train: 90.45%, 91.02%, 90.45% Valid: 88.58%, 89.12%, 88.58% Test: 89.13%, 89.57%, 89.12%\n",
            "Epoch: 105, Loss: 0.3851, 0.3460, 0.3846 Train: 90.47%, 91.03%, 90.47% Valid: 88.72%, 89.08%, 88.72% Test: 89.23%, 89.63%, 89.23%\n",
            "Epoch: 106, Loss: 0.3833, 0.3480, 0.3838 Train: 90.46%, 91.11%, 90.46% Valid: 88.75%, 88.90%, 88.75% Test: 89.17%, 89.61%, 89.17%\n",
            "Epoch: 107, Loss: 0.3815, 0.3443, 0.3827 Train: 90.50%, 91.10%, 90.50% Valid: 88.62%, 88.90%, 88.62% Test: 89.18%, 89.76%, 89.18%\n",
            "Epoch: 108, Loss: 0.3843, 0.3452, 0.3806 Train: 90.55%, 91.16%, 90.54% Valid: 88.70%, 89.00%, 88.67% Test: 89.17%, 89.73%, 89.17%\n",
            "Epoch: 109, Loss: 0.3807, 0.3437, 0.3807 Train: 90.56%, 91.19%, 90.56% Valid: 88.65%, 89.30%, 88.62% Test: 89.17%, 89.78%, 89.18%\n",
            "Epoch: 110, Loss: 0.3804, 0.3437, 0.3784 Train: 90.60%, 91.22%, 90.61% Valid: 88.67%, 89.18%, 88.67% Test: 89.19%, 89.58%, 89.19%\n",
            "Epoch: 111, Loss: 0.3775, 0.3418, 0.3770 Train: 90.58%, 91.18%, 90.58% Valid: 88.67%, 89.03%, 88.67% Test: 89.18%, 89.57%, 89.18%\n",
            "Epoch: 112, Loss: 0.3791, 0.3412, 0.3782 Train: 90.59%, 91.25%, 90.59% Valid: 88.60%, 89.20%, 88.60% Test: 89.17%, 89.69%, 89.16%\n",
            "Epoch: 113, Loss: 0.3782, 0.3396, 0.3788 Train: 90.61%, 91.26%, 90.62% Valid: 88.65%, 89.28%, 88.65% Test: 89.18%, 89.74%, 89.18%\n",
            "Epoch: 114, Loss: 0.3766, 0.3375, 0.3767 Train: 90.66%, 91.10%, 90.67% Valid: 88.52%, 88.92%, 88.52% Test: 89.21%, 89.47%, 89.22%\n",
            "Epoch: 115, Loss: 0.3747, 0.3402, 0.3729 Train: 90.70%, 91.31%, 90.70% Valid: 88.58%, 89.45%, 88.55% Test: 89.20%, 89.74%, 89.18%\n",
            "Epoch: 116, Loss: 0.3743, 0.3375, 0.3733 Train: 90.73%, 91.30%, 90.73% Valid: 88.72%, 89.48%, 88.72% Test: 89.23%, 89.87%, 89.23%\n",
            "Epoch: 117, Loss: 0.3729, 0.3374, 0.3743 Train: 90.76%, 91.25%, 90.76% Valid: 88.83%, 89.20%, 88.83% Test: 89.20%, 89.74%, 89.21%\n",
            "Epoch: 118, Loss: 0.3728, 0.3374, 0.3735 Train: 90.78%, 91.30%, 90.78% Valid: 88.85%, 89.33%, 88.85% Test: 89.28%, 89.73%, 89.27%\n",
            "Epoch: 119, Loss: 0.3732, 0.3317, 0.3696 Train: 90.76%, 91.23%, 90.76% Valid: 88.80%, 89.40%, 88.80% Test: 89.28%, 89.72%, 89.28%\n",
            "Epoch: 120, Loss: 0.3713, 0.3353, 0.3718 Train: 90.74%, 91.26%, 90.74% Valid: 88.80%, 89.40%, 88.80% Test: 89.22%, 89.72%, 89.22%\n",
            "Epoch: 121, Loss: 0.3701, 0.3350, 0.3688 Train: 90.75%, 91.33%, 90.75% Valid: 88.88%, 89.30%, 88.88% Test: 89.25%, 89.70%, 89.25%\n",
            "Epoch: 122, Loss: 0.3685, 0.3339, 0.3714 Train: 90.77%, 91.34%, 90.77% Valid: 88.83%, 89.30%, 88.83% Test: 89.33%, 89.72%, 89.33%\n",
            "Epoch: 123, Loss: 0.3699, 0.3330, 0.3689 Train: 90.85%, 91.36%, 90.85% Valid: 88.85%, 89.53%, 88.83% Test: 89.38%, 89.64%, 89.38%\n",
            "Epoch: 124, Loss: 0.3694, 0.3335, 0.3683 Train: 90.89%, 91.35%, 90.89% Valid: 88.92%, 89.30%, 88.92% Test: 89.38%, 89.62%, 89.39%\n",
            "Epoch: 125, Loss: 0.3674, 0.3304, 0.3693 Train: 90.91%, 91.38%, 90.91% Valid: 88.83%, 89.30%, 88.83% Test: 89.43%, 89.77%, 89.43%\n",
            "Epoch: 126, Loss: 0.3680, 0.3294, 0.3660 Train: 90.93%, 91.40%, 90.93% Valid: 88.83%, 89.33%, 88.83% Test: 89.51%, 89.75%, 89.52%\n",
            "Epoch: 127, Loss: 0.3659, 0.3292, 0.3672 Train: 90.92%, 91.42%, 90.92% Valid: 88.78%, 89.40%, 88.78% Test: 89.50%, 89.63%, 89.50%\n",
            "Epoch: 128, Loss: 0.3668, 0.3269, 0.3665 Train: 90.93%, 91.53%, 90.93% Valid: 88.85%, 89.58%, 88.85% Test: 89.44%, 89.72%, 89.44%\n",
            "Epoch: 129, Loss: 0.3651, 0.3292, 0.3655 Train: 90.93%, 91.50%, 90.93% Valid: 88.92%, 89.53%, 88.92% Test: 89.38%, 89.85%, 89.39%\n",
            "Epoch: 130, Loss: 0.3638, 0.3289, 0.3610 Train: 90.95%, 91.47%, 90.95% Valid: 88.92%, 89.42%, 88.92% Test: 89.36%, 89.90%, 89.36%\n",
            "Epoch: 131, Loss: 0.3644, 0.3279, 0.3620 Train: 90.96%, 91.49%, 90.96% Valid: 88.98%, 89.55%, 88.98% Test: 89.40%, 89.79%, 89.39%\n",
            "Epoch: 132, Loss: 0.3633, 0.3250, 0.3600 Train: 91.00%, 91.50%, 91.01% Valid: 88.92%, 89.70%, 88.95% Test: 89.44%, 89.86%, 89.44%\n",
            "Epoch: 133, Loss: 0.3615, 0.3267, 0.3593 Train: 91.03%, 91.58%, 91.03% Valid: 88.90%, 89.38%, 88.90% Test: 89.47%, 89.85%, 89.46%\n",
            "Epoch: 134, Loss: 0.3616, 0.3257, 0.3605 Train: 91.04%, 91.56%, 91.04% Valid: 88.88%, 89.45%, 88.88% Test: 89.50%, 89.79%, 89.50%\n",
            "Epoch: 135, Loss: 0.3603, 0.3255, 0.3609 Train: 91.07%, 91.56%, 91.07% Valid: 89.00%, 89.62%, 89.00% Test: 89.56%, 89.89%, 89.57%\n",
            "Epoch: 136, Loss: 0.3601, 0.3246, 0.3596 Train: 91.04%, 91.59%, 91.04% Valid: 89.05%, 89.58%, 89.05% Test: 89.53%, 89.85%, 89.52%\n",
            "Epoch: 137, Loss: 0.3585, 0.3241, 0.3567 Train: 91.02%, 91.57%, 91.03% Valid: 89.08%, 89.62%, 89.05% Test: 89.46%, 89.81%, 89.46%\n",
            "Epoch: 138, Loss: 0.3581, 0.3243, 0.3594 Train: 91.02%, 91.65%, 91.02% Valid: 89.03%, 89.48%, 89.03% Test: 89.39%, 89.88%, 89.40%\n",
            "Epoch: 139, Loss: 0.3593, 0.3204, 0.3570 Train: 91.08%, 91.54%, 91.08% Valid: 89.12%, 89.35%, 89.12% Test: 89.48%, 89.80%, 89.48%\n",
            "Epoch: 140, Loss: 0.3559, 0.3201, 0.3546 Train: 91.10%, 91.49%, 91.10% Valid: 88.98%, 89.48%, 88.98% Test: 89.57%, 89.77%, 89.57%\n",
            "Epoch: 141, Loss: 0.3553, 0.3201, 0.3555 Train: 91.15%, 91.59%, 91.15% Valid: 88.92%, 89.53%, 88.92% Test: 89.66%, 89.90%, 89.66%\n",
            "Epoch: 142, Loss: 0.3564, 0.3221, 0.3553 Train: 91.17%, 91.66%, 91.18% Valid: 89.12%, 89.55%, 89.12% Test: 89.64%, 89.83%, 89.64%\n",
            "Epoch: 143, Loss: 0.3560, 0.3217, 0.3551 Train: 91.20%, 91.65%, 91.20% Valid: 89.10%, 89.45%, 89.12% Test: 89.60%, 89.91%, 89.59%\n",
            "Epoch: 144, Loss: 0.3526, 0.3199, 0.3545 Train: 91.22%, 91.78%, 91.21% Valid: 89.15%, 89.62%, 89.15% Test: 89.58%, 89.99%, 89.58%\n",
            "Epoch: 145, Loss: 0.3536, 0.3207, 0.3537 Train: 91.20%, 91.69%, 91.20% Valid: 89.08%, 89.62%, 89.08% Test: 89.56%, 89.76%, 89.56%\n",
            "Epoch: 146, Loss: 0.3524, 0.3189, 0.3526 Train: 91.21%, 91.64%, 91.21% Valid: 89.05%, 89.45%, 89.05% Test: 89.54%, 89.95%, 89.54%\n",
            "Epoch: 147, Loss: 0.3524, 0.3144, 0.3515 Train: 91.20%, 91.61%, 91.20% Valid: 89.08%, 89.65%, 89.08% Test: 89.62%, 89.98%, 89.60%\n",
            "Epoch: 148, Loss: 0.3513, 0.3172, 0.3499 Train: 91.22%, 91.72%, 91.22% Valid: 89.08%, 89.72%, 89.08% Test: 89.62%, 90.02%, 89.62%\n",
            "Epoch: 149, Loss: 0.3503, 0.3133, 0.3519 Train: 91.28%, 91.72%, 91.28% Valid: 89.12%, 89.95%, 89.15% Test: 89.60%, 89.90%, 89.60%\n",
            "Epoch: 150, Loss: 0.3508, 0.3164, 0.3510 Train: 91.29%, 91.76%, 91.29% Valid: 89.08%, 89.88%, 89.08% Test: 89.53%, 90.06%, 89.53%\n",
            "Epoch: 151, Loss: 0.3514, 0.3162, 0.3498 Train: 91.32%, 91.81%, 91.32% Valid: 89.15%, 89.80%, 89.15% Test: 89.54%, 90.10%, 89.54%\n",
            "Epoch: 152, Loss: 0.3492, 0.3138, 0.3485 Train: 91.34%, 91.77%, 91.33% Valid: 89.10%, 89.42%, 89.10% Test: 89.59%, 89.88%, 89.59%\n",
            "Epoch: 153, Loss: 0.3496, 0.3130, 0.3480 Train: 91.32%, 91.79%, 91.32% Valid: 89.18%, 89.75%, 89.15% Test: 89.58%, 89.85%, 89.58%\n",
            "Epoch: 154, Loss: 0.3467, 0.3145, 0.3483 Train: 91.32%, 91.80%, 91.31% Valid: 89.18%, 89.90%, 89.18% Test: 89.64%, 90.03%, 89.64%\n",
            "Epoch: 155, Loss: 0.3489, 0.3139, 0.3457 Train: 91.34%, 91.83%, 91.34% Valid: 89.25%, 89.65%, 89.25% Test: 89.67%, 89.88%, 89.67%\n",
            "Epoch: 156, Loss: 0.3487, 0.3119, 0.3471 Train: 91.34%, 91.81%, 91.34% Valid: 89.20%, 89.70%, 89.20% Test: 89.59%, 89.94%, 89.59%\n",
            "Epoch: 157, Loss: 0.3468, 0.3111, 0.3464 Train: 91.37%, 91.81%, 91.36% Valid: 89.20%, 89.65%, 89.20% Test: 89.58%, 89.92%, 89.58%\n",
            "Epoch: 158, Loss: 0.3447, 0.3132, 0.3454 Train: 91.37%, 91.80%, 91.37% Valid: 89.18%, 89.45%, 89.18% Test: 89.62%, 89.81%, 89.62%\n",
            "Epoch: 159, Loss: 0.3446, 0.3140, 0.3453 Train: 91.42%, 91.75%, 91.42% Valid: 89.15%, 89.42%, 89.15% Test: 89.64%, 89.87%, 89.63%\n",
            "Epoch: 160, Loss: 0.3468, 0.3112, 0.3435 Train: 91.39%, 91.84%, 91.39% Valid: 89.05%, 89.35%, 89.05% Test: 89.55%, 89.94%, 89.55%\n",
            "Epoch: 161, Loss: 0.3445, 0.3135, 0.3439 Train: 91.42%, 91.76%, 91.42% Valid: 89.20%, 89.40%, 89.20% Test: 89.59%, 90.02%, 89.59%\n",
            "Epoch: 162, Loss: 0.3445, 0.3118, 0.3423 Train: 91.44%, 91.88%, 91.43% Valid: 89.12%, 89.53%, 89.12% Test: 89.56%, 90.04%, 89.55%\n",
            "Epoch: 163, Loss: 0.3426, 0.3100, 0.3433 Train: 91.42%, 91.86%, 91.42% Valid: 89.18%, 89.68%, 89.18% Test: 89.57%, 89.96%, 89.58%\n",
            "Epoch: 164, Loss: 0.3428, 0.3105, 0.3404 Train: 91.46%, 91.81%, 91.45% Valid: 89.05%, 89.55%, 89.05% Test: 89.64%, 89.93%, 89.64%\n",
            "Epoch: 165, Loss: 0.3405, 0.3091, 0.3427 Train: 91.48%, 91.90%, 91.48% Valid: 89.18%, 89.85%, 89.18% Test: 89.63%, 90.03%, 89.63%\n",
            "Epoch: 166, Loss: 0.3412, 0.3074, 0.3427 Train: 91.51%, 91.91%, 91.51% Valid: 89.15%, 89.78%, 89.15% Test: 89.62%, 90.04%, 89.62%\n",
            "Epoch: 167, Loss: 0.3420, 0.3084, 0.3395 Train: 91.55%, 91.92%, 91.55% Valid: 89.33%, 89.98%, 89.33% Test: 89.72%, 90.11%, 89.72%\n",
            "Epoch: 168, Loss: 0.3388, 0.3086, 0.3390 Train: 91.53%, 91.89%, 91.53% Valid: 89.22%, 89.95%, 89.22% Test: 89.68%, 89.89%, 89.68%\n",
            "Epoch: 169, Loss: 0.3406, 0.3096, 0.3388 Train: 91.51%, 91.88%, 91.51% Valid: 89.22%, 89.85%, 89.20% Test: 89.75%, 89.88%, 89.76%\n",
            "Epoch: 170, Loss: 0.3407, 0.3066, 0.3394 Train: 91.48%, 91.92%, 91.48% Valid: 89.28%, 89.83%, 89.28% Test: 89.72%, 89.90%, 89.72%\n",
            "Epoch: 171, Loss: 0.3385, 0.3058, 0.3380 Train: 91.54%, 91.94%, 91.54% Valid: 89.25%, 89.70%, 89.25% Test: 89.78%, 89.92%, 89.78%\n",
            "Epoch: 172, Loss: 0.3384, 0.3062, 0.3377 Train: 91.51%, 92.03%, 91.51% Valid: 89.25%, 89.95%, 89.25% Test: 89.79%, 90.01%, 89.79%\n",
            "Epoch: 173, Loss: 0.3358, 0.3061, 0.3379 Train: 91.54%, 92.07%, 91.54% Valid: 89.22%, 89.88%, 89.22% Test: 89.77%, 90.05%, 89.77%\n",
            "Epoch: 174, Loss: 0.3363, 0.3048, 0.3373 Train: 91.59%, 91.87%, 91.59% Valid: 89.28%, 89.53%, 89.28% Test: 89.78%, 90.02%, 89.78%\n",
            "Epoch: 175, Loss: 0.3353, 0.3069, 0.3358 Train: 91.60%, 91.90%, 91.60% Valid: 89.20%, 89.78%, 89.22% Test: 89.83%, 89.86%, 89.83%\n",
            "Epoch: 176, Loss: 0.3365, 0.3056, 0.3373 Train: 91.62%, 91.91%, 91.61% Valid: 89.18%, 90.03%, 89.18% Test: 89.86%, 89.85%, 89.86%\n",
            "Epoch: 177, Loss: 0.3347, 0.3028, 0.3361 Train: 91.63%, 91.85%, 91.63% Valid: 89.30%, 89.53%, 89.30% Test: 89.81%, 89.72%, 89.81%\n",
            "Epoch: 178, Loss: 0.3348, 0.3048, 0.3335 Train: 91.66%, 92.10%, 91.66% Valid: 89.35%, 90.00%, 89.35% Test: 89.80%, 89.98%, 89.80%\n",
            "Epoch: 179, Loss: 0.3364, 0.3022, 0.3355 Train: 91.72%, 91.92%, 91.71% Valid: 89.18%, 89.88%, 89.18% Test: 89.78%, 89.91%, 89.78%\n",
            "Epoch: 180, Loss: 0.3369, 0.3023, 0.3343 Train: 91.70%, 92.00%, 91.70% Valid: 89.40%, 89.80%, 89.40% Test: 89.74%, 90.00%, 89.74%\n",
            "Epoch: 181, Loss: 0.3328, 0.3028, 0.3336 Train: 91.70%, 92.09%, 91.70% Valid: 89.22%, 90.08%, 89.22% Test: 89.73%, 90.11%, 89.73%\n",
            "Epoch: 182, Loss: 0.3354, 0.3004, 0.3322 Train: 91.64%, 92.09%, 91.64% Valid: 89.28%, 90.00%, 89.28% Test: 89.68%, 90.01%, 89.69%\n",
            "Epoch: 183, Loss: 0.3338, 0.3035, 0.3342 Train: 91.69%, 91.99%, 91.69% Valid: 89.30%, 89.70%, 89.30% Test: 89.75%, 89.83%, 89.75%\n",
            "Epoch: 184, Loss: 0.3326, 0.3023, 0.3333 Train: 91.65%, 92.03%, 91.65% Valid: 89.33%, 89.78%, 89.33% Test: 89.72%, 89.93%, 89.72%\n",
            "Epoch: 185, Loss: 0.3329, 0.3014, 0.3335 Train: 91.70%, 92.06%, 91.70% Valid: 89.22%, 89.75%, 89.22% Test: 89.83%, 90.10%, 89.83%\n",
            "Epoch: 186, Loss: 0.3315, 0.3000, 0.3296 Train: 91.74%, 92.15%, 91.74% Valid: 89.15%, 89.83%, 89.18% Test: 89.80%, 90.08%, 89.80%\n",
            "Epoch: 187, Loss: 0.3315, 0.2993, 0.3314 Train: 91.73%, 92.11%, 91.74% Valid: 89.20%, 90.03%, 89.20% Test: 89.84%, 89.98%, 89.85%\n",
            "Epoch: 188, Loss: 0.3313, 0.2993, 0.3289 Train: 91.77%, 92.05%, 91.77% Valid: 89.22%, 89.80%, 89.25% Test: 89.92%, 90.11%, 89.91%\n",
            "Epoch: 189, Loss: 0.3311, 0.2984, 0.3293 Train: 91.82%, 92.04%, 91.82% Valid: 89.28%, 89.83%, 89.28% Test: 89.94%, 90.03%, 89.93%\n",
            "Epoch: 190, Loss: 0.3282, 0.2966, 0.3298 Train: 91.81%, 92.13%, 91.82% Valid: 89.33%, 89.92%, 89.33% Test: 89.88%, 90.08%, 89.89%\n",
            "Epoch: 191, Loss: 0.3301, 0.2958, 0.3289 Train: 91.82%, 92.14%, 91.82% Valid: 89.35%, 89.92%, 89.38% Test: 89.86%, 90.05%, 89.86%\n",
            "Epoch: 192, Loss: 0.3302, 0.2995, 0.3292 Train: 91.82%, 92.11%, 91.83% Valid: 89.33%, 89.80%, 89.33% Test: 89.81%, 89.93%, 89.81%\n",
            "Epoch: 193, Loss: 0.3296, 0.2989, 0.3289 Train: 91.87%, 92.21%, 91.86% Valid: 89.40%, 90.05%, 89.40% Test: 89.85%, 90.28%, 89.85%\n",
            "Epoch: 194, Loss: 0.3284, 0.2962, 0.3258 Train: 91.85%, 92.21%, 91.84% Valid: 89.40%, 89.95%, 89.40% Test: 89.86%, 90.26%, 89.85%\n",
            "Epoch: 195, Loss: 0.3279, 0.2958, 0.3289 Train: 91.82%, 92.21%, 91.82% Valid: 89.42%, 89.72%, 89.40% Test: 89.85%, 90.18%, 89.85%\n",
            "Epoch: 196, Loss: 0.3290, 0.2951, 0.3281 Train: 91.84%, 92.29%, 91.84% Valid: 89.53%, 89.75%, 89.50% Test: 89.79%, 90.16%, 89.80%\n",
            "Epoch: 197, Loss: 0.3281, 0.2946, 0.3262 Train: 91.81%, 92.30%, 91.81% Valid: 89.53%, 89.75%, 89.53% Test: 89.77%, 89.99%, 89.77%\n",
            "Epoch: 198, Loss: 0.3273, 0.2936, 0.3269 Train: 91.89%, 92.32%, 91.89% Valid: 89.50%, 90.12%, 89.50% Test: 89.80%, 90.17%, 89.81%\n",
            "Epoch: 199, Loss: 0.3263, 0.2931, 0.3276 Train: 91.85%, 92.20%, 91.85% Valid: 89.53%, 90.03%, 89.53% Test: 89.77%, 90.14%, 89.78%\n",
            "Epoch: 200, Loss: 0.3276, 0.2909, 0.3262 Train: 91.85%, 92.27%, 91.86% Valid: 89.33%, 89.90%, 89.33% Test: 89.73%, 90.05%, 89.72%\n",
            "Complete\n"
          ]
        },
        {
          "output_type": "display_data",
          "data": {
            "text/plain": [
              "<IPython.core.display.HTML object>"
            ],
            "text/html": [
              "Waiting for W&B process to finish... <strong style=\"color:green\">(success).</strong>"
            ]
          },
          "metadata": {}
        },
        {
          "output_type": "display_data",
          "data": {
            "text/plain": [
              "VBox(children=(Label(value='0.001 MB of 0.001 MB uploaded (0.000 MB deduped)\\r'), FloatProgress(value=1.0, max…"
            ],
            "application/vnd.jupyter.widget-view+json": {
              "version_major": 2,
              "version_minor": 0,
              "model_id": "2ab3c5d3f7f74919ba7a6c5bc7bb8914"
            }
          },
          "metadata": {}
        },
        {
          "output_type": "display_data",
          "data": {
            "text/plain": [
              "<IPython.core.display.HTML object>"
            ],
            "text/html": [
              "<style>\n",
              "    table.wandb td:nth-child(1) { padding: 0 10px; text-align: left ; width: auto;} td:nth-child(2) {text-align: left ; width: 100%}\n",
              "    .wandb-row { display: flex; flex-direction: row; flex-wrap: wrap; justify-content: flex-start; width: 100% }\n",
              "    .wandb-col { display: flex; flex-direction: column; flex-basis: 100%; flex: 1; padding: 10px; }\n",
              "    </style>\n",
              "<div class=\"wandb-row\"><div class=\"wandb-col\"><h3>Run history:</h3><br/><table class=\"wandb\"><tr><td>loss</td><td>█▃▂▂▂▂▂▂▂▂▂▁▁▁▁▁▁▁▁▁▁▁▁▁▁▁▁▁▁▁▁▁▁▁▁▁▁▁▁▁</td></tr><tr><td>test_acc</td><td>▁▆▇▇▇▇▇▇▇▇██████████████████████████████</td></tr><tr><td>train_acc</td><td>▁▅▆▆▇▇▇▇▇▇▇▇▇▇▇▇████████████████████████</td></tr><tr><td>valid_acc</td><td>▁▅▇▇▇▇▇▇▇▇██████████████████████████████</td></tr></table><br/></div><div class=\"wandb-col\"><h3>Run summary:</h3><br/><table class=\"wandb\"><tr><td>loss</td><td>0.29086</td></tr><tr><td>test_acc</td><td>0.9005</td></tr><tr><td>train_acc</td><td>0.92269</td></tr><tr><td>valid_acc</td><td>0.899</td></tr></table><br/></div></div>"
            ]
          },
          "metadata": {}
        },
        {
          "output_type": "display_data",
          "data": {
            "text/plain": [
              "<IPython.core.display.HTML object>"
            ],
            "text/html": [
              " View run <strong style=\"color:#cdcd00\">GCN_3</strong> at: <a href='https://wandb.ai/sebastianhansen98/basic-intro/runs/mj8ltilt' target=\"_blank\">https://wandb.ai/sebastianhansen98/basic-intro/runs/mj8ltilt</a><br/>Synced 5 W&B file(s), 0 media file(s), 0 artifact file(s) and 0 other file(s)"
            ]
          },
          "metadata": {}
        },
        {
          "output_type": "display_data",
          "data": {
            "text/plain": [
              "<IPython.core.display.HTML object>"
            ],
            "text/html": [
              "Find logs at: <code>./wandb/run-20230804_112110-mj8ltilt/logs</code>"
            ]
          },
          "metadata": {}
        }
      ]
    },
    {
      "cell_type": "markdown",
      "source": [
        "We have now trained our three different instances of GCN. Below we visualize and compare training loss and predictability between the methods."
      ],
      "metadata": {
        "id": "fXc7xJQAyBqS"
      }
    },
    {
      "cell_type": "code",
      "source": [
        "import matplotlib.pyplot as plt\n",
        "\n",
        "# Create subplots\n",
        "fig, axes = plt.subplots(2, 2, figsize=(10, 6))\n",
        "\n",
        "# Plotting the loss on the left axis (subplot 1)\n",
        "axes[0, 0].set_title('Loss Comparison')\n",
        "axes[0, 0].set_xlabel('Epoch')\n",
        "axes[0, 0].plot(loss_ls1, 'b-', label='loss1')\n",
        "axes[0, 0].plot(loss_ls3, 'b.', label='loss3')\n",
        "axes[0, 0].plot(loss_ls5, 'b+', label='loss5')\n",
        "axes[0, 0].set_ylabel('Loss', color='b')\n",
        "axes[0, 0].tick_params(axis='y', labelcolor='b')\n",
        "axes[0, 0].legend(loc='upper right')\n",
        "\n",
        "# Plotting the training accuracy on the right axis (subplot 2)\n",
        "axes[0, 1].set_title('Training Accuracy Comparison')\n",
        "axes[0, 1].set_xlabel('Epoch')\n",
        "axes[0, 1].plot(train_acc_ls1, 'r-', label='train1 acc.')\n",
        "axes[0, 1].plot(train_acc_ls3, 'r.', label='train3 acc.')\n",
        "axes[0, 1].plot(train_acc_ls5, 'r+', label='train5 acc.')\n",
        "axes[0, 1].set_ylabel('Accuracy (%)', color='r')\n",
        "axes[0, 1].tick_params(axis='y', labelcolor='r')\n",
        "axes[0, 1].legend(loc='upper right')\n",
        "\n",
        "# Plotting the validation accuracy on the left axis (subplot 3)\n",
        "axes[1, 0].set_title('Validation Accuracy Comparison')\n",
        "axes[1, 0].set_xlabel('Epoch')\n",
        "axes[1, 0].plot(valid_acc_ls1, 'c-', label='val1 acc.')\n",
        "axes[1, 0].plot(valid_acc_ls3, 'c.', label='val3 acc.')\n",
        "axes[1, 0].plot(valid_acc_ls5, 'c+', label='val5 acc.')\n",
        "axes[1, 0].set_ylabel('Accuracy (%)', color='c')\n",
        "axes[1, 0].tick_params(axis='y', labelcolor='c')\n",
        "axes[1, 0].legend(loc='upper right')\n",
        "\n",
        "# Plotting the test accuracy on the right axis (subplot 4)\n",
        "axes[1, 1].set_title('Test Accuracy Comparison')\n",
        "axes[1, 1].set_xlabel('Epoch')\n",
        "axes[1, 1].plot(test_acc_ls1, 'g-', label='test1 acc.')\n",
        "axes[1, 1].plot(test_acc_ls3, 'g.', label='test3 acc.')\n",
        "axes[1, 1].plot(test_acc_ls5, 'g+', label='test5 acc.')\n",
        "axes[1, 1].set_ylabel('Accuracy (%)', color='g')\n",
        "axes[1, 1].tick_params(axis='y', labelcolor='g')\n",
        "axes[1, 1].legend(loc='upper right')\n",
        "\n",
        "# Adjust layout\n",
        "plt.tight_layout()\n",
        "plt.show()\n"
      ],
      "metadata": {
        "colab": {
          "base_uri": "https://localhost:8080/",
          "height": 607
        },
        "id": "h2QcyQMbQVWk",
        "outputId": "7a789564-99a0-4f86-b178-0cd4a9411300"
      },
      "execution_count": 15,
      "outputs": [
        {
          "output_type": "display_data",
          "data": {
            "text/plain": [
              "<Figure size 1000x600 with 4 Axes>"
            ],
            "image/png": "[encoded data removed]"
          },
          "metadata": {}
        }
      ]
    },
    {
      "cell_type": "markdown",
      "source": [
        "Since all methods seems to perform equally well in above figure, we consider the (L=3)-GCN specification going forward and report the best model with the best validation accuracy evaluated while training above:"
      ],
      "metadata": {
        "id": "nOz5RvFOSqoB"
      }
    },
    {
      "cell_type": "code",
      "source": [
        "best_result3 = test(best_model3, sub_graph, split_idx, evaluator, save_model_results=True)\n",
        "train_acc3, valid_acc3, test_acc3 = best_result3\n",
        "print(f'Best model(L3): '\n",
        "      f'Train: {100 * train_acc3:.2f}%, '\n",
        "      f'Valid: {100 * valid_acc3:.2f}% '\n",
        "      f'Test: {100 * test_acc3:.2f}%')"
      ],
      "metadata": {
        "id": "WOa5awqoCG5x",
        "outputId": "d33f4cf7-e480-476e-acb0-cf17d10c607e",
        "colab": {
          "base_uri": "https://localhost:8080/"
        }
      },
      "execution_count": 16,
      "outputs": [
        {
          "output_type": "stream",
          "name": "stdout",
          "text": [
            "Saving Model Predictions\n",
            "Best model(L3): Train: 92.32%, Valid: 90.12% Test: 90.17%\n"
          ]
        },
        {
          "output_type": "stream",
          "name": "stderr",
          "text": [
            "<ipython-input-9-bd2bcc944472>:53: UserWarning: Implicit dimension choice for log_softmax has been deprecated. Change the call to include dim=X as an argument.\n",
            "  x = self.softmax(x)\n"
          ]
        }
      ]
    },
    {
      "cell_type": "markdown",
      "source": [
        "###Model summary\n",
        "\n",
        "| Accuracy| Train | Validation | Test |\n",
        "| -       | -     |-           |-     |\n",
        "| GCN (L3)     | 92%   |90%         |90%   |\n",
        "\n",
        "The test score of 90\\% accurary is somewhat surprising compared to existing publications for node prediction methods on this graph data set `ogbn-products`. The simple method of full batch GCN is usually reported around 75\\% test accuracy while state of the art implementations achieves around 90\\% accuracy. The site [Papers with Code](https://paperswithcode.com/sota/node-property-prediction-on-ogbn-products) offers a well-structured overview and comparison of models.\n",
        "\n",
        "The primary reason for scoring a suprisingly high test score might be the fact that we are using only a *subset* of the whole graph dataset. This complicates a comparison and all else equal should be easier for the model to learn the graph structures."
      ],
      "metadata": {
        "id": "tNGqLmilZofA"
      }
    },
    {
      "cell_type": "markdown",
      "source": [
        "The results of the run is also stored in weight and biases and can be accessed via [wandb project](https://wandb.ai/sebastianhansen98/basic-intro) (I hope so!)"
      ],
      "metadata": {
        "id": "7XHwWO7CTiS9"
      }
    },
    {
      "cell_type": "markdown",
      "source": [
        "# Comparison with GAT"
      ],
      "metadata": {
        "id": "v4ewpIXObfJe"
      }
    },
    {
      "cell_type": "markdown",
      "source": [
        "## GAT module"
      ],
      "metadata": {
        "id": "BZljJP10coQI"
      }
    },
    {
      "cell_type": "markdown",
      "source": [
        "We will now implement attention mechanisms to perform node classification in the form of Grapk Attention Networks (GATs) cf. Veličković et al. (2018).\n",
        "\n",
        "The building block of the Graph Attention Network is the graph attention layer, which is a variant of the aggregation function. In this implementation we will leverage\n",
        " [pytorch geometrics](https://pytorch-geometric.readthedocs.io/en/latest/modules/graphgym.html?highlight=GATconv#torch_geometric.graphgym.models.GATConv) (`GATConv`) implementation of the graph attention layer."
      ],
      "metadata": {
        "id": "cFhbH0c6cbr5"
      }
    },
    {
      "cell_type": "code",
      "source": [
        "from torch_geometric.nn import GATConv\n",
        "class GAT(torch.nn.Module):\n",
        "    def __init__(self, input_dim, hidden_dim, output_dim, num_layers,\n",
        "                 dropout, return_embeds=False):\n",
        "\n",
        "        super(GAT, self).__init__()\n",
        "\n",
        "        # A list of GCNConv layers\n",
        "        self.convs = [\n",
        "            GATConv(input_dim, hidden_dim),\n",
        "        ]\n",
        "\n",
        "        for _ in range(num_layers-1):\n",
        "            self.convs.append(GATConv(hidden_dim, hidden_dim))\n",
        "\n",
        "        self.last_layer = GATConv(hidden_dim, output_dim)\n",
        "\n",
        "\n",
        "        # A list of 1D batch normalization layers\n",
        "        self.bns = []\n",
        "        for _ in range(num_layers):\n",
        "            self.bns.append(torch.nn.BatchNorm1d(hidden_dim))\n",
        "\n",
        "        self.convs = torch.nn.ModuleList(self.convs)\n",
        "        self.bns = torch.nn.ModuleList(self.bns)\n",
        "\n",
        "        # The log softmax layer\n",
        "        self.softmax = torch.nn.LogSoftmax()\n",
        "\n",
        "\n",
        "        # Probability of an element getting zeroed\n",
        "        self.dropout = dropout\n",
        "\n",
        "        # Skip classification layer and return node embeddings\n",
        "        self.return_embeds = return_embeds\n",
        "\n",
        "    def reset_parameters(self):\n",
        "        for conv in self.convs:\n",
        "            conv.reset_parameters()\n",
        "        for bn in self.bns:\n",
        "            bn.reset_parameters()\n",
        "\n",
        "    def forward(self, x, adj_t):\n",
        "\n",
        "        for i in range(len(self.convs)):\n",
        "            x = self.convs[i](x, adj_t)\n",
        "            x = self.bns[i](x)\n",
        "            x = F.relu(x)\n",
        "            x = F.dropout(x, p=self.dropout, training=self.training)\n",
        "\n",
        "        x = self.last_layer(x, adj_t)\n",
        "\n",
        "        if not self.return_embeds:\n",
        "          x = self.softmax(x)\n",
        "\n",
        "        return x\n"
      ],
      "metadata": {
        "id": "DTQEM3C5RCsD"
      },
      "execution_count": 28,
      "outputs": []
    },
    {
      "cell_type": "code",
      "source": [
        "args = {\n",
        "    'device': device, 'num_layers': 3, 'hidden_dim': 256,\n",
        "    'dropout': 0.5,'lr': 0.01, 'epochs': 200,\n",
        "}\n",
        "modelGAT = GAT(sub_graph.num_features, args['hidden_dim'],\n",
        "            dataset.num_classes, args['num_layers'],\n",
        "            args['dropout']).to(device)\n",
        "evaluator = Evaluator(name='ogbn-products')"
      ],
      "metadata": {
        "id": "CnSR3AARRu66"
      },
      "execution_count": 29,
      "outputs": []
    },
    {
      "cell_type": "code",
      "source": [
        "modelGAT.reset_parameters()\n",
        "optimizer = torch.optim.Adam(modelGAT.parameters(), lr=args['lr'])\n",
        "#save to wandb\n",
        "wandb.init(\n",
        "      # Set the project where this run will be logged\n",
        "      project=\"basic-intro\",\n",
        "      # We pass a run name (otherwise it’ll be randomly assigned, like sunshine-lollypop-10)\n",
        "      name=f\"GAT\",\n",
        "      # Track hyperparameters and run metadata\n",
        "      config={\n",
        "      \"learning_rate\": args[\"lr\"],\n",
        "      \"architecture\": \"GAT\",\n",
        "      \"dataset\": \"ogbn-products\",\n",
        "      \"epochs\": args[\"epochs\"],\n",
        "      })"
      ],
      "metadata": {
        "id": "Zn3Z3-r5Y1df",
        "colab": {
          "base_uri": "https://localhost:8080/",
          "height": 294,
          "referenced_widgets": [
            "a8f2693176624d96889535ebf2a4607c",
            "b960fda283484945be5d65522f183171",
            "17f3707db3854db89030a7bfc858e7f0",
            "028b50a6e7f74569a468f6a650574466",
            "18bd79e8422f44d3aca9758357901b9c",
            "980b94bb69f94f38b129f7de37e52306",
            "4eb756e549ff406e85d9b8b7db21a484",
            "86ec466fda6c49bdb52fab7c0ed204e3"
          ]
        },
        "outputId": "2d358ac2-e3c1-4350-f553-d642d2c4d2f8"
      },
      "execution_count": 32,
      "outputs": [
        {
          "output_type": "display_data",
          "data": {
            "text/plain": [
              "<IPython.core.display.HTML object>"
            ],
            "text/html": [
              "Finishing last run (ID:atfbj5jj) before initializing another..."
            ]
          },
          "metadata": {}
        },
        {
          "output_type": "display_data",
          "data": {
            "text/plain": [
              "<IPython.core.display.HTML object>"
            ],
            "text/html": [
              "Waiting for W&B process to finish... <strong style=\"color:green\">(success).</strong>"
            ]
          },
          "metadata": {}
        },
        {
          "output_type": "display_data",
          "data": {
            "text/plain": [
              "VBox(children=(Label(value='0.002 MB of 0.010 MB uploaded (0.000 MB deduped)\\r'), FloatProgress(value=0.189929…"
            ],
            "application/vnd.jupyter.widget-view+json": {
              "version_major": 2,
              "version_minor": 0,
              "model_id": "a8f2693176624d96889535ebf2a4607c"
            }
          },
          "metadata": {}
        },
        {
          "output_type": "display_data",
          "data": {
            "text/plain": [
              "<IPython.core.display.HTML object>"
            ],
            "text/html": [
              " View run <strong style=\"color:#cdcd00\">GAT</strong> at: <a href='https://wandb.ai/sebastianhansen98/basic-intro/runs/atfbj5jj' target=\"_blank\">https://wandb.ai/sebastianhansen98/basic-intro/runs/atfbj5jj</a><br/>Synced 4 W&B file(s), 0 media file(s), 0 artifact file(s) and 0 other file(s)"
            ]
          },
          "metadata": {}
        },
        {
          "output_type": "display_data",
          "data": {
            "text/plain": [
              "<IPython.core.display.HTML object>"
            ],
            "text/html": [
              "Find logs at: <code>./wandb/run-20230804_094601-atfbj5jj/logs</code>"
            ]
          },
          "metadata": {}
        },
        {
          "output_type": "display_data",
          "data": {
            "text/plain": [
              "<IPython.core.display.HTML object>"
            ],
            "text/html": [
              "Successfully finished last run (ID:atfbj5jj). Initializing new run:<br/>"
            ]
          },
          "metadata": {}
        },
        {
          "output_type": "display_data",
          "data": {
            "text/plain": [
              "<IPython.core.display.HTML object>"
            ],
            "text/html": [
              "Tracking run with wandb version 0.15.8"
            ]
          },
          "metadata": {}
        },
        {
          "output_type": "display_data",
          "data": {
            "text/plain": [
              "<IPython.core.display.HTML object>"
            ],
            "text/html": [
              "Run data is saved locally in <code>/content/wandb/run-20230804_094640-jmwca2cm</code>"
            ]
          },
          "metadata": {}
        },
        {
          "output_type": "display_data",
          "data": {
            "text/plain": [
              "<IPython.core.display.HTML object>"
            ],
            "text/html": [
              "Syncing run <strong><a href='https://wandb.ai/sebastianhansen98/basic-intro/runs/jmwca2cm' target=\"_blank\">GAT</a></strong> to <a href='https://wandb.ai/sebastianhansen98/basic-intro' target=\"_blank\">Weights & Biases</a> (<a href='https://wandb.me/run' target=\"_blank\">docs</a>)<br/>"
            ]
          },
          "metadata": {}
        },
        {
          "output_type": "display_data",
          "data": {
            "text/plain": [
              "<IPython.core.display.HTML object>"
            ],
            "text/html": [
              " View project at <a href='https://wandb.ai/sebastianhansen98/basic-intro' target=\"_blank\">https://wandb.ai/sebastianhansen98/basic-intro</a>"
            ]
          },
          "metadata": {}
        },
        {
          "output_type": "display_data",
          "data": {
            "text/plain": [
              "<IPython.core.display.HTML object>"
            ],
            "text/html": [
              " View run at <a href='https://wandb.ai/sebastianhansen98/basic-intro/runs/jmwca2cm' target=\"_blank\">https://wandb.ai/sebastianhansen98/basic-intro/runs/jmwca2cm</a>"
            ]
          },
          "metadata": {}
        },
        {
          "output_type": "execute_result",
          "data": {
            "text/html": [
              "<button onClick=\"this.nextSibling.style.display='block';this.style.display='none';\">Display W&B run</button><iframe src='https://wandb.ai/sebastianhansen98/basic-intro/runs/jmwca2cm?jupyter=true' style='border:none;width:100%;height:420px;display:none;'></iframe>"
            ],
            "text/plain": [
              "<wandb.sdk.wandb_run.Run at 0x794cb2941060>"
            ]
          },
          "metadata": {},
          "execution_count": 32
        }
      ]
    },
    {
      "cell_type": "code",
      "source": [
        "#free up memory\n",
        "\n",
        "del modelL1, modelL5, best_model1, best_model5\n",
        "\n",
        "torch.cuda.empty_cache()"
      ],
      "metadata": {
        "id": "MLH0G1F6kGQK"
      },
      "execution_count": null,
      "outputs": []
    },
    {
      "cell_type": "code",
      "source": [
        "import copy\n",
        "train_idx = split_idx['train'].to(device)\n",
        "\n",
        "# reset the parameters to initial random value\n",
        "modelGAT.reset_parameters()\n",
        "optimizer = torch.optim.Adam(modelGAT.parameters(), lr=args['lr'])\n",
        "\n",
        "loss_fn = F.nll_loss\n",
        "\n",
        "best_model = None\n",
        "best_valid_acc = 0\n",
        "\n",
        "loss_ls = []\n",
        "train_acc_ls = []\n",
        "valid_acc_ls = []\n",
        "test_acc_ls = []\n",
        "\n",
        "for epoch in range(1, 1 + args[\"epochs\"]):\n",
        "\n",
        "  loss = train(modelGAT, sub_graph, train_idx, optimizer, loss_fn)\n",
        "  result = test(modelGAT, sub_graph, split_idx, evaluator)\n",
        "  train_acc, valid_acc, test_acc = result\n",
        "\n",
        "  loss_ls.append(loss)\n",
        "  train_acc_ls.append(train_acc)\n",
        "  valid_acc_ls.append(valid_acc)\n",
        "  test_acc_ls.append(test_acc)\n",
        "\n",
        "  # adding to wandb\n",
        "  wandb.log({\"train_acc\": train_acc,\n",
        "             \"valid_acc\": valid_acc,\n",
        "             \"test_acc\": test_acc,\n",
        "             \"loss\": loss})\n",
        "\n",
        "  if valid_acc > best_valid_acc:\n",
        "    best_valid_acc = valid_acc\n",
        "    best_model = copy.deepcopy(modelGAT)\n",
        "\n",
        "  print(f'Epoch: {epoch:02d}, '\n",
        "        f'Loss:  {loss:.4f},  '\n",
        "        f'Train: {100 * train_acc:.2f}%,  '\n",
        "        f'Valid: {100 * valid_acc:.2f}%,  '\n",
        "        f'Test:  {100 * test_acc:.2f}% ')\n",
        "\n",
        "print('Complete')\n",
        "# Mark the run as finished\n",
        "wandb.finish()"
      ],
      "metadata": {
        "id": "QDhC6tGNR19R",
        "outputId": "76050968-83dd-42de-a476-880dffef5e23",
        "colab": {
          "base_uri": "https://localhost:8080/",
          "height": 1000,
          "referenced_widgets": [
            "5c236ba3bc7248038d782a76c5978433",
            "07dd6ed2859345f59f2e7b36bd7a7a5e",
            "52afc6748fa14d20ad4043b51b11c3ba",
            "8813b88a65224223babb1e51b429e7a1",
            "6a77050a146b4de0b70aaab1b94c1b0e",
            "02d6ddf2b00a4244a205382aacfb05d3",
            "d94536a56ace47bd98e39f6af99e019b",
            "9640eb6d10fc475aa9a5391efd6ac644"
          ]
        }
      },
      "execution_count": 36,
      "outputs": [
        {
          "output_type": "stream",
          "name": "stderr",
          "text": [
            "<ipython-input-28-5d6f279b6248>:54: UserWarning: Implicit dimension choice for log_softmax has been deprecated. Change the call to include dim=X as an argument.\n",
            "  x = self.softmax(x)\n"
          ]
        },
        {
          "output_type": "stream",
          "name": "stdout",
          "text": [
            "Epoch: 01, Loss:  4.3540,  Train: 30.69%,  Valid: 30.12%,  Test:  30.70% \n",
            "Epoch: 02, Loss:  3.7919,  Train: 33.82%,  Valid: 33.48%,  Test:  33.67% \n",
            "Epoch: 03, Loss:  3.2773,  Train: 36.50%,  Valid: 35.60%,  Test:  36.20% \n",
            "Epoch: 04, Loss:  2.7038,  Train: 36.73%,  Valid: 35.62%,  Test:  36.58% \n",
            "Epoch: 05, Loss:  2.3355,  Train: 36.82%,  Valid: 35.68%,  Test:  36.42% \n",
            "Epoch: 06, Loss:  2.1709,  Train: 36.73%,  Valid: 35.65%,  Test:  36.25% \n",
            "Epoch: 07, Loss:  2.0564,  Train: 31.75%,  Valid: 30.20%,  Test:  31.01% \n",
            "Epoch: 08, Loss:  1.9138,  Train: 21.84%,  Valid: 20.42%,  Test:  21.07% \n",
            "Epoch: 09, Loss:  1.8947,  Train: 23.55%,  Valid: 22.65%,  Test:  22.92% \n",
            "Epoch: 10, Loss:  1.8797,  Train: 29.78%,  Valid: 28.62%,  Test:  29.37% \n",
            "Epoch: 11, Loss:  1.7886,  Train: 40.60%,  Valid: 39.83%,  Test:  40.54% \n",
            "Epoch: 12, Loss:  1.7062,  Train: 48.34%,  Valid: 48.12%,  Test:  48.24% \n",
            "Epoch: 13, Loss:  1.6322,  Train: 51.77%,  Valid: 51.45%,  Test:  51.87% \n",
            "Epoch: 14, Loss:  1.6156,  Train: 52.64%,  Valid: 51.90%,  Test:  52.92% \n",
            "Epoch: 15, Loss:  1.5527,  Train: 54.03%,  Valid: 53.35%,  Test:  54.29% \n",
            "Epoch: 16, Loss:  1.5410,  Train: 55.03%,  Valid: 53.85%,  Test:  55.15% \n",
            "Epoch: 17, Loss:  1.4776,  Train: 55.50%,  Valid: 54.40%,  Test:  55.64% \n",
            "Epoch: 18, Loss:  1.4717,  Train: 56.64%,  Valid: 55.23%,  Test:  56.79% \n",
            "Epoch: 19, Loss:  1.4951,  Train: 58.02%,  Valid: 56.95%,  Test:  58.33% \n",
            "Epoch: 20, Loss:  1.4380,  Train: 58.15%,  Valid: 57.57%,  Test:  58.25% \n",
            "Epoch: 21, Loss:  1.4486,  Train: 58.01%,  Valid: 57.63%,  Test:  58.37% \n",
            "Epoch: 22, Loss:  1.4451,  Train: 59.24%,  Valid: 58.43%,  Test:  59.62% \n",
            "Epoch: 23, Loss:  1.3618,  Train: 60.01%,  Valid: 58.98%,  Test:  60.31% \n",
            "Epoch: 24, Loss:  1.3580,  Train: 60.92%,  Valid: 60.45%,  Test:  60.90% \n",
            "Epoch: 25, Loss:  1.3373,  Train: 61.47%,  Valid: 60.60%,  Test:  61.32% \n",
            "Epoch: 26, Loss:  1.3367,  Train: 61.07%,  Valid: 60.30%,  Test:  61.11% \n",
            "Epoch: 27, Loss:  1.3260,  Train: 60.52%,  Valid: 60.02%,  Test:  60.52% \n",
            "Epoch: 28, Loss:  1.3101,  Train: 60.80%,  Valid: 60.08%,  Test:  60.62% \n",
            "Epoch: 29, Loss:  1.2854,  Train: 62.34%,  Valid: 62.00%,  Test:  62.07% \n",
            "Epoch: 30, Loss:  1.3037,  Train: 62.05%,  Valid: 61.30%,  Test:  61.67% \n",
            "Epoch: 31, Loss:  1.2961,  Train: 61.47%,  Valid: 60.95%,  Test:  61.06% \n",
            "Epoch: 32, Loss:  1.3010,  Train: 61.01%,  Valid: 59.90%,  Test:  60.32% \n",
            "Epoch: 33, Loss:  1.2534,  Train: 62.40%,  Valid: 61.50%,  Test:  61.82% \n",
            "Epoch: 34, Loss:  1.2835,  Train: 63.43%,  Valid: 62.70%,  Test:  63.21% \n",
            "Epoch: 35, Loss:  1.2603,  Train: 61.36%,  Valid: 60.88%,  Test:  61.03% \n",
            "Epoch: 36, Loss:  1.2382,  Train: 61.65%,  Valid: 61.35%,  Test:  61.41% \n",
            "Epoch: 37, Loss:  1.2448,  Train: 61.97%,  Valid: 61.32%,  Test:  61.74% \n",
            "Epoch: 38, Loss:  1.2546,  Train: 62.09%,  Valid: 61.78%,  Test:  62.11% \n",
            "Epoch: 39, Loss:  1.2532,  Train: 62.74%,  Valid: 62.58%,  Test:  62.77% \n",
            "Epoch: 40, Loss:  1.2483,  Train: 63.99%,  Valid: 63.78%,  Test:  63.83% \n",
            "Epoch: 41, Loss:  1.2418,  Train: 65.18%,  Valid: 65.28%,  Test:  64.84% \n",
            "Epoch: 42, Loss:  1.2317,  Train: 65.80%,  Valid: 65.95%,  Test:  65.58% \n",
            "Epoch: 43, Loss:  1.2034,  Train: 66.18%,  Valid: 65.90%,  Test:  65.94% \n",
            "Epoch: 44, Loss:  1.2106,  Train: 66.10%,  Valid: 66.07%,  Test:  65.97% \n",
            "Epoch: 45, Loss:  1.1740,  Train: 64.78%,  Valid: 64.92%,  Test:  64.49% \n",
            "Epoch: 46, Loss:  1.1731,  Train: 65.25%,  Valid: 65.18%,  Test:  64.81% \n",
            "Epoch: 47, Loss:  1.1942,  Train: 65.06%,  Valid: 64.98%,  Test:  64.71% \n",
            "Epoch: 48, Loss:  1.1901,  Train: 65.24%,  Valid: 65.18%,  Test:  64.83% \n",
            "Epoch: 49, Loss:  1.1876,  Train: 65.32%,  Valid: 65.48%,  Test:  64.99% \n",
            "Epoch: 50, Loss:  1.1672,  Train: 65.45%,  Valid: 65.75%,  Test:  65.22% \n",
            "Epoch: 51, Loss:  1.1769,  Train: 64.87%,  Valid: 65.30%,  Test:  64.62% \n",
            "Epoch: 52, Loss:  1.1613,  Train: 64.61%,  Valid: 65.20%,  Test:  64.44% \n",
            "Epoch: 53, Loss:  1.1368,  Train: 65.62%,  Valid: 66.00%,  Test:  65.47% \n",
            "Epoch: 54, Loss:  1.1207,  Train: 66.68%,  Valid: 67.07%,  Test:  66.59% \n",
            "Epoch: 55, Loss:  1.1529,  Train: 67.32%,  Valid: 67.58%,  Test:  67.18% \n",
            "Epoch: 56, Loss:  1.1226,  Train: 67.60%,  Valid: 67.67%,  Test:  67.64% \n",
            "Epoch: 57, Loss:  1.1322,  Train: 67.55%,  Valid: 67.85%,  Test:  67.55% \n",
            "Epoch: 58, Loss:  1.0835,  Train: 67.60%,  Valid: 67.55%,  Test:  67.69% \n",
            "Epoch: 59, Loss:  1.1013,  Train: 67.58%,  Valid: 67.45%,  Test:  67.67% \n",
            "Epoch: 60, Loss:  1.0908,  Train: 67.28%,  Valid: 67.33%,  Test:  67.23% \n",
            "Epoch: 61, Loss:  1.0567,  Train: 67.53%,  Valid: 67.90%,  Test:  67.45% \n",
            "Epoch: 62, Loss:  1.0959,  Train: 67.09%,  Valid: 67.60%,  Test:  66.97% \n",
            "Epoch: 63, Loss:  1.0816,  Train: 66.81%,  Valid: 67.22%,  Test:  66.49% \n",
            "Epoch: 64, Loss:  1.0745,  Train: 66.79%,  Valid: 67.15%,  Test:  66.47% \n",
            "Epoch: 65, Loss:  1.0688,  Train: 66.53%,  Valid: 66.90%,  Test:  66.26% \n",
            "Epoch: 66, Loss:  1.0749,  Train: 66.50%,  Valid: 67.03%,  Test:  66.22% \n",
            "Epoch: 67, Loss:  1.0413,  Train: 66.85%,  Valid: 67.33%,  Test:  66.47% \n",
            "Epoch: 68, Loss:  1.0601,  Train: 67.67%,  Valid: 67.97%,  Test:  67.12% \n",
            "Epoch: 69, Loss:  1.0242,  Train: 68.16%,  Valid: 68.35%,  Test:  67.61% \n",
            "Epoch: 70, Loss:  1.0425,  Train: 68.50%,  Valid: 68.58%,  Test:  67.85% \n",
            "Epoch: 71, Loss:  1.0369,  Train: 67.07%,  Valid: 67.65%,  Test:  66.72% \n",
            "Epoch: 72, Loss:  1.0836,  Train: 66.24%,  Valid: 67.03%,  Test:  66.11% \n",
            "Epoch: 73, Loss:  1.0461,  Train: 65.77%,  Valid: 66.67%,  Test:  65.53% \n",
            "Epoch: 74, Loss:  1.0852,  Train: 66.34%,  Valid: 67.00%,  Test:  66.37% \n",
            "Epoch: 75, Loss:  1.0458,  Train: 66.42%,  Valid: 67.53%,  Test:  66.29% \n",
            "Epoch: 76, Loss:  1.0492,  Train: 66.63%,  Valid: 67.65%,  Test:  66.53% \n",
            "Epoch: 77, Loss:  1.0471,  Train: 66.76%,  Valid: 67.65%,  Test:  66.58% \n",
            "Epoch: 78, Loss:  1.0440,  Train: 66.79%,  Valid: 67.20%,  Test:  66.72% \n",
            "Epoch: 79, Loss:  1.0521,  Train: 66.75%,  Valid: 67.00%,  Test:  66.62% \n",
            "Epoch: 80, Loss:  1.0738,  Train: 66.53%,  Valid: 66.85%,  Test:  66.28% \n",
            "Epoch: 81, Loss:  1.0166,  Train: 66.40%,  Valid: 66.67%,  Test:  66.34% \n",
            "Epoch: 82, Loss:  1.0670,  Train: 66.56%,  Valid: 67.20%,  Test:  66.34% \n",
            "Epoch: 83, Loss:  1.0552,  Train: 66.80%,  Valid: 67.12%,  Test:  66.44% \n",
            "Epoch: 84, Loss:  1.0155,  Train: 67.40%,  Valid: 67.67%,  Test:  67.13% \n",
            "Epoch: 85, Loss:  1.0381,  Train: 67.09%,  Valid: 67.60%,  Test:  66.88% \n",
            "Epoch: 86, Loss:  1.0384,  Train: 66.89%,  Valid: 67.40%,  Test:  66.49% \n",
            "Epoch: 87, Loss:  0.9973,  Train: 66.55%,  Valid: 67.15%,  Test:  66.27% \n",
            "Epoch: 88, Loss:  0.9969,  Train: 67.03%,  Valid: 67.42%,  Test:  66.76% \n",
            "Epoch: 89, Loss:  1.0159,  Train: 67.63%,  Valid: 68.15%,  Test:  67.09% \n",
            "Epoch: 90, Loss:  1.0065,  Train: 68.76%,  Valid: 69.15%,  Test:  68.52% \n",
            "Epoch: 91, Loss:  1.0735,  Train: 69.02%,  Valid: 69.35%,  Test:  68.47% \n",
            "Epoch: 92, Loss:  0.9912,  Train: 68.30%,  Valid: 69.20%,  Test:  68.06% \n",
            "Epoch: 93, Loss:  1.0251,  Train: 67.56%,  Valid: 67.83%,  Test:  67.42% \n",
            "Epoch: 94, Loss:  1.0099,  Train: 67.68%,  Valid: 68.12%,  Test:  67.21% \n",
            "Epoch: 95, Loss:  0.9870,  Train: 68.03%,  Valid: 68.20%,  Test:  67.40% \n",
            "Epoch: 96, Loss:  0.9985,  Train: 68.23%,  Valid: 68.67%,  Test:  67.51% \n",
            "Epoch: 97, Loss:  0.9664,  Train: 68.30%,  Valid: 68.03%,  Test:  67.49% \n",
            "Epoch: 98, Loss:  1.0476,  Train: 67.89%,  Valid: 67.92%,  Test:  67.12% \n",
            "Epoch: 99, Loss:  0.9919,  Train: 67.74%,  Valid: 67.88%,  Test:  67.01% \n",
            "Epoch: 100, Loss:  0.9856,  Train: 67.80%,  Valid: 68.23%,  Test:  67.38% \n",
            "Epoch: 101, Loss:  0.9649,  Train: 68.97%,  Valid: 69.33%,  Test:  68.42% \n",
            "Epoch: 102, Loss:  0.9726,  Train: 70.17%,  Valid: 70.53%,  Test:  69.92% \n",
            "Epoch: 103, Loss:  0.9591,  Train: 71.20%,  Valid: 72.25%,  Test:  71.01% \n",
            "Epoch: 104, Loss:  0.9566,  Train: 71.97%,  Valid: 72.95%,  Test:  71.59% \n",
            "Epoch: 105, Loss:  0.9531,  Train: 71.69%,  Valid: 72.55%,  Test:  71.15% \n",
            "Epoch: 106, Loss:  0.9745,  Train: 71.93%,  Valid: 72.45%,  Test:  71.43% \n",
            "Epoch: 107, Loss:  0.9654,  Train: 71.19%,  Valid: 72.05%,  Test:  70.73% \n",
            "Epoch: 108, Loss:  0.9496,  Train: 69.79%,  Valid: 71.17%,  Test:  69.25% \n",
            "Epoch: 109, Loss:  0.9663,  Train: 70.00%,  Valid: 70.60%,  Test:  69.48% \n",
            "Epoch: 110, Loss:  0.9642,  Train: 70.33%,  Valid: 71.05%,  Test:  70.28% \n",
            "Epoch: 111, Loss:  0.9383,  Train: 71.43%,  Valid: 72.52%,  Test:  70.96% \n",
            "Epoch: 112, Loss:  0.9461,  Train: 72.16%,  Valid: 72.70%,  Test:  71.83% \n",
            "Epoch: 113, Loss:  0.9669,  Train: 72.97%,  Valid: 73.25%,  Test:  72.87% \n",
            "Epoch: 114, Loss:  0.9433,  Train: 72.71%,  Valid: 72.75%,  Test:  72.95% \n",
            "Epoch: 115, Loss:  0.9235,  Train: 72.85%,  Valid: 73.30%,  Test:  72.79% \n",
            "Epoch: 116, Loss:  0.9035,  Train: 73.15%,  Valid: 73.58%,  Test:  73.08% \n",
            "Epoch: 117, Loss:  0.9417,  Train: 73.42%,  Valid: 73.80%,  Test:  73.30% \n",
            "Epoch: 118, Loss:  0.9165,  Train: 73.36%,  Valid: 73.90%,  Test:  73.35% \n",
            "Epoch: 119, Loss:  0.8967,  Train: 73.15%,  Valid: 73.58%,  Test:  73.19% \n",
            "Epoch: 120, Loss:  0.9047,  Train: 73.47%,  Valid: 74.12%,  Test:  73.83% \n",
            "Epoch: 121, Loss:  0.8965,  Train: 74.05%,  Valid: 75.17%,  Test:  74.22% \n",
            "Epoch: 122, Loss:  0.8905,  Train: 74.36%,  Valid: 75.65%,  Test:  74.27% \n",
            "Epoch: 123, Loss:  0.9063,  Train: 74.53%,  Valid: 75.58%,  Test:  74.49% \n",
            "Epoch: 124, Loss:  0.8897,  Train: 74.37%,  Valid: 75.42%,  Test:  74.59% \n",
            "Epoch: 125, Loss:  0.9102,  Train: 74.50%,  Valid: 75.02%,  Test:  74.33% \n",
            "Epoch: 126, Loss:  0.9593,  Train: 73.23%,  Valid: 73.90%,  Test:  72.90% \n",
            "Epoch: 127, Loss:  0.9046,  Train: 72.83%,  Valid: 73.45%,  Test:  72.71% \n",
            "Epoch: 128, Loss:  0.9019,  Train: 72.79%,  Valid: 73.42%,  Test:  72.61% \n",
            "Epoch: 129, Loss:  0.9002,  Train: 73.04%,  Valid: 73.70%,  Test:  72.99% \n",
            "Epoch: 130, Loss:  0.8982,  Train: 73.37%,  Valid: 74.17%,  Test:  73.37% \n",
            "Epoch: 131, Loss:  0.8567,  Train: 74.93%,  Valid: 75.42%,  Test:  74.78% \n",
            "Epoch: 132, Loss:  0.8703,  Train: 75.31%,  Valid: 75.78%,  Test:  75.14% \n",
            "Epoch: 133, Loss:  0.9185,  Train: 74.66%,  Valid: 75.25%,  Test:  74.39% \n",
            "Epoch: 134, Loss:  0.8915,  Train: 74.66%,  Valid: 75.25%,  Test:  74.58% \n",
            "Epoch: 135, Loss:  0.9194,  Train: 74.35%,  Valid: 74.75%,  Test:  74.30% \n",
            "Epoch: 136, Loss:  0.8727,  Train: 74.25%,  Valid: 74.85%,  Test:  73.87% \n",
            "Epoch: 137, Loss:  0.8759,  Train: 73.96%,  Valid: 74.67%,  Test:  73.42% \n",
            "Epoch: 138, Loss:  0.8625,  Train: 73.33%,  Valid: 74.10%,  Test:  72.82% \n",
            "Epoch: 139, Loss:  0.8929,  Train: 73.30%,  Valid: 73.98%,  Test:  72.71% \n",
            "Epoch: 140, Loss:  0.8977,  Train: 73.72%,  Valid: 73.98%,  Test:  73.02% \n",
            "Epoch: 141, Loss:  0.9021,  Train: 74.09%,  Valid: 74.72%,  Test:  73.59% \n",
            "Epoch: 142, Loss:  0.8926,  Train: 73.48%,  Valid: 73.72%,  Test:  73.17% \n",
            "Epoch: 143, Loss:  0.9237,  Train: 72.70%,  Valid: 73.15%,  Test:  72.22% \n",
            "Epoch: 144, Loss:  0.9253,  Train: 72.31%,  Valid: 73.28%,  Test:  71.57% \n",
            "Epoch: 145, Loss:  0.8940,  Train: 72.03%,  Valid: 72.82%,  Test:  71.13% \n",
            "Epoch: 146, Loss:  0.9182,  Train: 72.46%,  Valid: 72.82%,  Test:  71.73% \n",
            "Epoch: 147, Loss:  0.8919,  Train: 73.10%,  Valid: 73.45%,  Test:  72.47% \n",
            "Epoch: 148, Loss:  0.8772,  Train: 73.72%,  Valid: 73.55%,  Test:  73.34% \n",
            "Epoch: 149, Loss:  0.8937,  Train: 74.08%,  Valid: 74.40%,  Test:  74.17% \n",
            "Epoch: 150, Loss:  0.8567,  Train: 74.53%,  Valid: 74.88%,  Test:  74.59% \n",
            "Epoch: 151, Loss:  0.8810,  Train: 75.42%,  Valid: 75.80%,  Test:  75.54% \n",
            "Epoch: 152, Loss:  0.8412,  Train: 75.83%,  Valid: 76.70%,  Test:  76.11% \n",
            "Epoch: 153, Loss:  0.8485,  Train: 75.79%,  Valid: 77.10%,  Test:  75.81% \n",
            "Epoch: 154, Loss:  0.8513,  Train: 76.49%,  Valid: 77.78%,  Test:  76.75% \n",
            "Epoch: 155, Loss:  0.8373,  Train: 76.90%,  Valid: 78.30%,  Test:  77.29% \n",
            "Epoch: 156, Loss:  0.8471,  Train: 76.90%,  Valid: 78.33%,  Test:  77.39% \n",
            "Epoch: 157, Loss:  0.8228,  Train: 76.67%,  Valid: 77.62%,  Test:  77.08% \n",
            "Epoch: 158, Loss:  0.8294,  Train: 76.25%,  Valid: 77.53%,  Test:  76.65% \n",
            "Epoch: 159, Loss:  0.8326,  Train: 76.57%,  Valid: 77.42%,  Test:  77.18% \n",
            "Epoch: 160, Loss:  0.8021,  Train: 76.89%,  Valid: 77.62%,  Test:  77.36% \n",
            "Epoch: 161, Loss:  0.8164,  Train: 77.40%,  Valid: 77.88%,  Test:  77.69% \n",
            "Epoch: 162, Loss:  0.7864,  Train: 78.47%,  Valid: 79.05%,  Test:  78.73% \n",
            "Epoch: 163, Loss:  0.7884,  Train: 78.19%,  Valid: 78.72%,  Test:  78.42% \n",
            "Epoch: 164, Loss:  0.7823,  Train: 78.10%,  Valid: 78.80%,  Test:  78.30% \n",
            "Epoch: 165, Loss:  0.7810,  Train: 78.54%,  Valid: 79.45%,  Test:  78.56% \n",
            "Epoch: 166, Loss:  0.7645,  Train: 78.75%,  Valid: 79.67%,  Test:  78.61% \n",
            "Epoch: 167, Loss:  0.8042,  Train: 78.28%,  Valid: 78.95%,  Test:  78.17% \n",
            "Epoch: 168, Loss:  0.7567,  Train: 77.98%,  Valid: 78.95%,  Test:  77.94% \n",
            "Epoch: 169, Loss:  0.7458,  Train: 78.12%,  Valid: 79.27%,  Test:  78.18% \n",
            "Epoch: 170, Loss:  0.7590,  Train: 78.83%,  Valid: 80.05%,  Test:  78.92% \n",
            "Epoch: 171, Loss:  0.7367,  Train: 79.23%,  Valid: 80.25%,  Test:  79.42% \n",
            "Epoch: 172, Loss:  0.7398,  Train: 79.46%,  Valid: 80.70%,  Test:  79.52% \n",
            "Epoch: 173, Loss:  0.7324,  Train: 80.06%,  Valid: 81.12%,  Test:  79.95% \n",
            "Epoch: 174, Loss:  0.7251,  Train: 80.54%,  Valid: 81.67%,  Test:  80.48% \n",
            "Epoch: 175, Loss:  0.7188,  Train: 80.79%,  Valid: 81.88%,  Test:  80.84% \n",
            "Epoch: 176, Loss:  0.7219,  Train: 81.03%,  Valid: 82.12%,  Test:  81.06% \n",
            "Epoch: 177, Loss:  0.7124,  Train: 81.29%,  Valid: 82.47%,  Test:  81.48% \n",
            "Epoch: 178, Loss:  0.7160,  Train: 81.44%,  Valid: 82.67%,  Test:  81.64% \n",
            "Epoch: 179, Loss:  0.7016,  Train: 81.50%,  Valid: 82.75%,  Test:  81.75% \n",
            "Epoch: 180, Loss:  0.7022,  Train: 81.55%,  Valid: 83.00%,  Test:  81.85% \n",
            "Epoch: 181, Loss:  0.6971,  Train: 81.64%,  Valid: 82.95%,  Test:  82.01% \n",
            "Epoch: 182, Loss:  0.6842,  Train: 81.67%,  Valid: 83.12%,  Test:  82.09% \n",
            "Epoch: 183, Loss:  0.6920,  Train: 81.73%,  Valid: 83.00%,  Test:  82.07% \n",
            "Epoch: 184, Loss:  0.6850,  Train: 81.76%,  Valid: 82.97%,  Test:  82.11% \n",
            "Epoch: 185, Loss:  0.6841,  Train: 81.84%,  Valid: 83.17%,  Test:  82.12% \n",
            "Epoch: 186, Loss:  0.6694,  Train: 82.10%,  Valid: 83.33%,  Test:  82.27% \n",
            "Epoch: 187, Loss:  0.6673,  Train: 82.23%,  Valid: 83.62%,  Test:  82.47% \n",
            "Epoch: 188, Loss:  0.6684,  Train: 82.51%,  Valid: 83.47%,  Test:  82.55% \n",
            "Epoch: 189, Loss:  0.6717,  Train: 82.32%,  Valid: 83.28%,  Test:  82.37% \n",
            "Epoch: 190, Loss:  0.6572,  Train: 82.29%,  Valid: 83.05%,  Test:  82.44% \n",
            "Epoch: 191, Loss:  0.6635,  Train: 82.30%,  Valid: 83.12%,  Test:  82.51% \n",
            "Epoch: 192, Loss:  0.6551,  Train: 82.45%,  Valid: 83.40%,  Test:  82.62% \n",
            "Epoch: 193, Loss:  0.6576,  Train: 82.59%,  Valid: 83.65%,  Test:  82.68% \n",
            "Epoch: 194, Loss:  0.6534,  Train: 82.68%,  Valid: 83.62%,  Test:  82.73% \n",
            "Epoch: 195, Loss:  0.6545,  Train: 82.80%,  Valid: 83.75%,  Test:  82.78% \n",
            "Epoch: 196, Loss:  0.6555,  Train: 82.79%,  Valid: 83.90%,  Test:  82.79% \n",
            "Epoch: 197, Loss:  0.6458,  Train: 82.83%,  Valid: 83.97%,  Test:  82.84% \n",
            "Epoch: 198, Loss:  0.6427,  Train: 82.73%,  Valid: 83.88%,  Test:  82.78% \n",
            "Epoch: 199, Loss:  0.6438,  Train: 82.73%,  Valid: 83.95%,  Test:  82.89% \n",
            "Epoch: 200, Loss:  0.6324,  Train: 82.67%,  Valid: 83.78%,  Test:  82.83% \n",
            "Complete\n"
          ]
        },
        {
          "output_type": "display_data",
          "data": {
            "text/plain": [
              "<IPython.core.display.HTML object>"
            ],
            "text/html": [
              "Waiting for W&B process to finish... <strong style=\"color:green\">(success).</strong>"
            ]
          },
          "metadata": {}
        },
        {
          "output_type": "display_data",
          "data": {
            "text/plain": [
              "VBox(children=(Label(value='0.001 MB of 0.001 MB uploaded (0.000 MB deduped)\\r'), FloatProgress(value=1.0, max…"
            ],
            "application/vnd.jupyter.widget-view+json": {
              "version_major": 2,
              "version_minor": 0,
              "model_id": "5c236ba3bc7248038d782a76c5978433"
            }
          },
          "metadata": {}
        },
        {
          "output_type": "display_data",
          "data": {
            "text/plain": [
              "<IPython.core.display.HTML object>"
            ],
            "text/html": [
              "<style>\n",
              "    table.wandb td:nth-child(1) { padding: 0 10px; text-align: left ; width: auto;} td:nth-child(2) {text-align: left ; width: 100%}\n",
              "    .wandb-row { display: flex; flex-direction: row; flex-wrap: wrap; justify-content: flex-start; width: 100% }\n",
              "    .wandb-col { display: flex; flex-direction: column; flex-basis: 100%; flex: 1; padding: 10px; }\n",
              "    </style>\n",
              "<div class=\"wandb-row\"><div class=\"wandb-col\"><h3>Run history:</h3><br/><table class=\"wandb\"><tr><td>loss</td><td>█▄▃▃▃▃▂▂▂▂▂▂▂▂▂▂▂▂▂▂▂▂▂▂▂▂▂▂▂▂▁▁▁▁▁▁▁▁▁▁</td></tr><tr><td>test_acc</td><td>▁▁▃▄▅▅▅▅▆▅▅▆▆▆▆▆▆▆▆▆▆▆▆▇▇▇▇▇▆▇▇▇▇▇██████</td></tr><tr><td>train_acc</td><td>▁▁▃▄▅▅▅▅▆▆▅▆▆▆▆▆▆▆▆▆▆▆▆▇▇▇▇▇▇▇▇▇▇▇██████</td></tr><tr><td>valid_acc</td><td>▁▁▃▄▄▅▅▅▆▅▅▆▆▆▆▆▆▆▆▆▆▆▆▇▇▇▇▇▇▇▇▇▇▇██████</td></tr></table><br/></div><div class=\"wandb-col\"><h3>Run summary:</h3><br/><table class=\"wandb\"><tr><td>loss</td><td>0.63244</td></tr><tr><td>test_acc</td><td>0.82833</td></tr><tr><td>train_acc</td><td>0.8267</td></tr><tr><td>valid_acc</td><td>0.83775</td></tr></table><br/></div></div>"
            ]
          },
          "metadata": {}
        },
        {
          "output_type": "display_data",
          "data": {
            "text/plain": [
              "<IPython.core.display.HTML object>"
            ],
            "text/html": [
              " View run <strong style=\"color:#cdcd00\">GAT</strong> at: <a href='https://wandb.ai/sebastianhansen98/basic-intro/runs/jmwca2cm' target=\"_blank\">https://wandb.ai/sebastianhansen98/basic-intro/runs/jmwca2cm</a><br/>Synced 5 W&B file(s), 0 media file(s), 0 artifact file(s) and 0 other file(s)"
            ]
          },
          "metadata": {}
        },
        {
          "output_type": "display_data",
          "data": {
            "text/plain": [
              "<IPython.core.display.HTML object>"
            ],
            "text/html": [
              "Find logs at: <code>./wandb/run-20230804_094640-jmwca2cm/logs</code>"
            ]
          },
          "metadata": {}
        }
      ]
    },
    {
      "cell_type": "markdown",
      "source": [
        "### Summary"
      ],
      "metadata": {
        "id": "KZmP-GwUZ9Oe"
      }
    },
    {
      "cell_type": "code",
      "source": [
        "import matplotlib.pyplot as plt\n",
        "# Plotting the loss on the left axis\n",
        "plt.figure(figsize=(10, 6))\n",
        "plt.title('Training GCN')\n",
        "plt.xlabel('Epoch')\n",
        "plt.plot(loss_ls, 'b-', label='loss')\n",
        "plt.ylabel('Loss', color='b')\n",
        "plt.tick_params(axis='y', labelcolor='b')\n",
        "plt.legend(loc='upper left')\n",
        "\n",
        "# Creating a secondary y-axis and plotting the other series on it\n",
        "ax2 = plt.twinx()\n",
        "ax2.plot(train_acc_ls, 'r-', label='train acc.')\n",
        "ax2.plot(valid_acc_ls, 'c-', label='val acc.')\n",
        "ax2.plot(test_acc_ls, 'g-', label='test acc.')\n",
        "ax2.set_ylabel('Accuracy (%)', color='r')\n",
        "ax2.tick_params(axis='y', labelcolor='r')\n",
        "ax2.legend(loc='upper right')\n",
        "plt.show()"
      ],
      "metadata": {
        "id": "8c6eglMhZ80s",
        "outputId": "023296ba-eee3-44f7-e825-be581984b910",
        "colab": {
          "base_uri": "https://localhost:8080/",
          "height": 564
        }
      },
      "execution_count": 37,
      "outputs": [
        {
          "output_type": "display_data",
          "data": {
            "text/plain": [
              "<Figure size 1000x600 with 2 Axes>"
            ],
            "image/png": "[encoded data removed]"
          },
          "metadata": {}
        }
      ]
    },
    {
      "cell_type": "code",
      "source": [
        "best_result = test(best_model, sub_graph, split_idx, evaluator, save_model_results=True)\n",
        "train_acc, valid_acc, test_acc = best_result\n",
        "print(f'Best model(GAT): '\n",
        "      f'Train: {100 * train_acc:.2f}%, '\n",
        "      f'Valid: {100 * valid_acc:.2f}% '\n",
        "      f'Test: {100 * test_acc:.2f}%')"
      ],
      "metadata": {
        "id": "7nRNY-KmbAQX",
        "outputId": "13e0ef8f-ce65-4b7c-bda9-a4bc95ab1595",
        "colab": {
          "base_uri": "https://localhost:8080/"
        }
      },
      "execution_count": 38,
      "outputs": [
        {
          "output_type": "stream",
          "name": "stdout",
          "text": [
            "Saving Model Predictions\n",
            "Best model(GAT): Train: 82.83%, Valid: 83.97% Test: 82.84%\n"
          ]
        },
        {
          "output_type": "stream",
          "name": "stderr",
          "text": [
            "<ipython-input-28-5d6f279b6248>:54: UserWarning: Implicit dimension choice for log_softmax has been deprecated. Change the call to include dim=X as an argument.\n",
            "  x = self.softmax(x)\n"
          ]
        }
      ]
    },
    {
      "cell_type": "markdown",
      "source": [
        "| Accuracy| Train | Validation | Test |\n",
        "| -       | -     |-           |-     |\n",
        "| GCN      | 92%   |90%         |90%   |\n",
        "| GAT     | 83%   |84%         |83%   |\n",
        "\n",
        "In general the GAT method shows good classification performance of around 85\\%. This is however a bit lower than GCN, but a full comparison and exploration of hyperparamters is out of scope for this assignment."
      ],
      "metadata": {
        "id": "eFBII9KibN1C"
      }
    },
    {
      "cell_type": "markdown",
      "source": [
        "The results from the runs can be found on [wandb project](https://wandb.ai/sebastianhansen98/basic-intro) ."
      ],
      "metadata": {
        "id": "W1ZaT8Y49irV"
      }
    }
  ]
}