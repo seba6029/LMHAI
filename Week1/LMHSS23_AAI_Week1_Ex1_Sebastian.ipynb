{
  "nbformat": 4,
  "nbformat_minor": 0,
  "metadata": {
    "colab": {
      "provenance": [],
      "machine_shape": "hm",
      "gpuType": "T4"
    },
    "kernelspec": {
      "name": "python3",
      "display_name": "Python 3"
    },
    "language_info": {
      "name": "python"
    },
    "accelerator": "GPU"
  },
  "cells": [
    {
      "cell_type": "markdown",
      "source": [
        "Using the CIFAR10 data provided below, create an alogrithm that takes in a gray scale image and coverts it to a color image.\n",
        "\n",
        "Note for this problem we will define the grayscale image as the average of the three color channels."
      ],
      "metadata": {
        "id": "0FmLTZXJRbwP"
      }
    },
    {
      "cell_type": "code",
      "source": [
        "from torchvision.datasets import CIFAR10"
      ],
      "metadata": {
        "id": "qDG_wYnA_MpU"
      },
      "execution_count": 2,
      "outputs": []
    },
    {
      "cell_type": "code",
      "source": [
        "# imports\n",
        "import numpy as np\n",
        "import matplotlib.pyplot as plt\n",
        "\n",
        "# PyTorch Libraries\n",
        "import torch\n",
        "import torch.nn as nn\n",
        "import torch.nn.functional as F\n",
        "import torch.optim as optim\n",
        "from torchvision.io import read_image\n",
        "from torchsummary import summary\n",
        "from torch.utils.data import DataLoader, Dataset, data\n",
        "from torchvision import models,transforms, datasets\n",
        "from torch.utils.data.sampler import SubsetRandomSampler\n",
        "from torch.utils.tensorboard import SummaryWriter\n",
        "from torchvision.transforms import Compose, ToTensor, Lambda\n",
        "\n",
        "%matplotlib inline\n",
        "\"\"\"\n",
        "from skimage.color import rgb2lab, lab2rgb\n",
        "from torchvision.datasets import MNIST\n",
        "\n",
        "\"\"\""
      ],
      "metadata": {
        "id": "2Vu_b81WD7tw"
      },
      "execution_count": 3,
      "outputs": []
    },
    {
      "cell_type": "markdown",
      "source": [
        "Loading CIFAR10 dataset. This holds 10 classes of 32x32 colour images (3 channels)"
      ],
      "metadata": {
        "id": "WiA6o2JDjupR"
      }
    },
    {
      "cell_type": "code",
      "source": [
        "train_data = CIFAR10(root='./datasets', train=True, download=True, transform=transforms.ToTensor())\n",
        "test_data = CIFAR10(root='./datasets', train=True, download=False, transform=transforms.ToTensor())\n",
        "\n",
        "train_loader = DataLoader(train_data,batch_size=64, shuffle=True, pin_memory=True)\n",
        "test_loader = DataLoader(test_data,batch_size=64, shuffle=False, pin_memory=True)\n"
      ],
      "metadata": {
        "colab": {
          "base_uri": "https://localhost:8080/"
        },
        "id": "nhoa4MXe_TFU",
        "outputId": "9dc39ebb-bd48-4c1f-c8ea-e1f2382a0bae"
      },
      "execution_count": 5,
      "outputs": [
        {
          "output_type": "stream",
          "name": "stdout",
          "text": [
            "Downloading https://www.cs.toronto.edu/~kriz/cifar-10-python.tar.gz to ./datasets/cifar-10-python.tar.gz\n"
          ]
        },
        {
          "output_type": "stream",
          "name": "stderr",
          "text": [
            "100%|██████████| 170498071/170498071 [00:05<00:00, 29387313.90it/s]\n"
          ]
        },
        {
          "output_type": "stream",
          "name": "stdout",
          "text": [
            "Extracting ./datasets/cifar-10-python.tar.gz to ./datasets\n"
          ]
        }
      ]
    },
    {
      "cell_type": "markdown",
      "source": [
        "Visualizing training data"
      ],
      "metadata": {
        "id": "XJoDMi0ikb1M"
      }
    },
    {
      "cell_type": "code",
      "source": [
        "image = train_data[1][0]\n",
        "image = image.reshape(3,32,32)\n",
        "print(image.shape)\n",
        "plt.imshow(image.permute(1,2,0) )\n",
        "plt.show()"
      ],
      "metadata": {
        "colab": {
          "base_uri": "https://localhost:8080/",
          "height": 448
        },
        "id": "LaeLIFJ69Lsm",
        "outputId": "616da31f-dc6a-4010-bc86-bae49b3c2152"
      },
      "execution_count": 7,
      "outputs": [
        {
          "output_type": "stream",
          "name": "stdout",
          "text": [
            "torch.Size([3, 32, 32])\n"
          ]
        },
        {
          "output_type": "display_data",
          "data": {
            "text/plain": [
              "<Figure size 640x480 with 1 Axes>"
            ],
            "image/png": "[encoded data removed]"
          },
          "metadata": {}
        }
      ]
    },
    {
      "cell_type": "code",
      "source": [],
      "metadata": {
        "id": "aLApqena9LjO"
      },
      "execution_count": 7,
      "outputs": []
    },
    {
      "cell_type": "code",
      "source": [
        "# Visualizing some sample images\n",
        "#figure = plt.figure(figsize=(10, 14))\n",
        "figure = plt.figure()\n",
        "\n",
        "cols, rows = 2, 1\n",
        "sample_idx = torch.randint(len(train_data), size=(1,)).item()\n",
        "\n",
        "img, label = train_data[sample_idx]\n",
        "img_gs = img.mean(dim=0)     # greyscale as avg. over channels (i.e. dim-0)\n",
        "figure.add_subplot(rows, cols, 1)\n",
        "plt.title('Greyscale img')\n",
        "plt.axis(\"off\")\n",
        "plt.imshow(img_gs.squeeze(), cmap = 'gray')\n",
        "figure.add_subplot(rows, cols, 2)\n",
        "plt.title('Color img')\n",
        "plt.axis(\"off\")\n",
        "plt.imshow(img.squeeze().permute(1,2,0))\n",
        "plt.show()\n",
        "\"\"\"\n",
        "# colors\n",
        "figure = plt.figure(figsize=(14, 14))\n",
        "\n",
        "cols, rows = 5, 1\n",
        "torch.seed()\n",
        "for i in range(1, cols * rows + 1):\n",
        "    img, label = train_data[sample_idx]\n",
        "    figure.add_subplot(rows, cols, i)\n",
        "    plt.title(label)\n",
        "    plt.axis(\"off\")\n",
        "    plt.imshow(img.squeeze().permute(1,2,0))\n",
        "plt.show()\n",
        "\"\"\""
      ],
      "metadata": {
        "colab": {
          "base_uri": "https://localhost:8080/",
          "height": 475
        },
        "id": "ZCPjWTz-EQyc",
        "outputId": "7363eea0-a2de-441f-f7b2-5acb9c66fe30"
      },
      "execution_count": 8,
      "outputs": [
        {
          "output_type": "display_data",
          "data": {
            "text/plain": [
              "<Figure size 1400x1400 with 5 Axes>"
            ],
            "image/png": "[encoded data removed]"
          },
          "metadata": {}
        },
        {
          "output_type": "display_data",
          "data": {
            "text/plain": [
              "<Figure size 1400x1400 with 5 Axes>"
            ],
            "image/png": "[encoded data removed]"
          },
          "metadata": {}
        }
      ]
    },
    {
      "cell_type": "code",
      "source": [
        "# check if gpu is available\n",
        "device = \"cuda\" if torch.cuda.is_available() else \"cpu\"\n",
        "device"
      ],
      "metadata": {
        "colab": {
          "base_uri": "https://localhost:8080/",
          "height": 35
        },
        "id": "zR2AEpSXsU8H",
        "outputId": "b2c90432-34bd-4c7c-89d4-95bc6587a126"
      },
      "execution_count": 9,
      "outputs": [
        {
          "output_type": "execute_result",
          "data": {
            "text/plain": [
              "'cpu'"
            ],
            "application/vnd.google.colaboratory.intrinsic+json": {
              "type": "string"
            }
          },
          "metadata": {},
          "execution_count": 9
        }
      ]
    },
    {
      "cell_type": "markdown",
      "source": [
        "We choose to solve this problem using **convolutional Autoencoder**.\n",
        "The principle behind autoencoders is they consist of an *encoding* network that compresses input data into a lower-dimensional latent space. It then reconstructs input space through a *decoder* network from the latent representation.\n",
        "\n",
        "The network architecture is as follows :\n",
        "- Encoding: Network takes 1 channel input. I.e. the greyscale 32x32 image and maps it ti a lower-dimensional latent space representation. We downsample data in the encoder via convolutional layers.\n",
        "- Latent space: The latent space is a compressed representation of the input image space. The purpose is to capture the essential features and variations in the inout data.\n",
        "- Decoder: Network attempts to reconstructs the original image from the latent representation. the decoder network learns to invert the encoding process by progressively upsampling and transforming the latent representation back into the original image space.\n",
        "\n",
        "\n",
        "\n",
        "\n",
        "Here's a brief explanation of the p\n",
        "- Network takes 1 channel input\n",
        "- No maxpool layer is added at the encoder step\n",
        "- Transpose Convolution takes place in decoder step\n",
        "- Decoder outputs are concatenated with encoder output of the same layer\n",
        "- Dropout layer added in decoder layer only\n",
        "- Final layer CNN is the converging layer which outputs 2 channels"
      ],
      "metadata": {
        "id": "o7pLtwS7mIch"
      }
    },
    {
      "cell_type": "code",
      "source": [
        "class ConvAutoencoder(nn.Module):\n",
        "    def __init__(self):\n",
        "        super(ConvAutoencoder, self).__init__()\n",
        "        # encoder layers\n",
        "        self.en1 = nn.Conv2d(1, 64, 3, stride=1,padding=1)\n",
        "        self.ebn1 = nn.BatchNorm1d(64)\n",
        "        self.en2 = nn.Conv2d(64, 64, 3, stride=2,padding=1)\n",
        "        self.ebn2 = nn.BatchNorm1d(64)\n",
        "        self.en3 = nn.Conv2d(64, 128, 3,stride=2,padding=1)\n",
        "        self.ebn3 = nn.BatchNorm1d(128)\n",
        "        self.en4 = nn.Conv2d(128, 256, 3,stride=2,padding=1)\n",
        "        #self.ebn4 = nn.BatchNorm1d(256)\n",
        "\n",
        "        self.pool = nn.MaxPool2d(2, 2)\n",
        "\n",
        "\n",
        "        self.conv1 = nn.Conv2d(1, 64, 3,stride=1,padding=1)\n",
        "        self.conv2 = nn.Conv2d(64, 64, 3, stride=2,padding=1)\n",
        "        self.conv3 = nn.Conv2d(64, 128, 3,stride=2,padding=1)\n",
        "        self.conv4 = nn.Conv2d(128, 256, 3,stride=2,padding=1)\n",
        "        self.pool = nn.MaxPool2d(2, 2)\n",
        "\n",
        "        # decoder layers\n",
        "        self.de1 = nn.ConvTranspose2d(256, 128, 3, stride=2,padding=1,output_padding=1)\n",
        "        self.de2 = nn.ConvTranspose2d(256, 64, 3, stride=2,padding=1,output_padding=1)\n",
        "        self.de3 = nn.ConvTranspose2d(128, 128, 3, stride=2,padding=1,output_padding=1)\n",
        "        self.de4 = nn.ConvTranspose2d(192, 15, 3, stride=1,padding=1)\n",
        "        self.dropout = nn.Dropout(0.2)\n",
        "        self.converge = nn.Conv2d(16,3,3,stride=1,padding=1)\n",
        "\n",
        "        ## decoder layers ##\n",
        "        self.t_conv1 = nn.ConvTranspose2d(256, 128, 3, stride=2,padding=1,output_padding=1)\n",
        "        self.t_conv2 = nn.ConvTranspose2d(256, 64, 3, stride=2,padding=1,output_padding=1)\n",
        "        self.t_conv3 = nn.ConvTranspose2d(128, 128, 3, stride=2,padding=1,output_padding=1)\n",
        "        self.t_conv4 = nn.ConvTranspose2d(192, 15, 3, stride=1,padding=1)\n",
        "        self.dropout = nn.Dropout(0.2)\n",
        "        self.converge = nn.Conv2d(16,3,3,stride=1,padding=1)\n",
        "\n",
        "    def encoder(self, x):\n",
        "      x = x.view(-1, 32*32)\n",
        "      x = F.relu(self.en1(x))\n",
        "      x = self.ebn1(x)\n",
        "\n",
        "      x = F.relu(self.en2(x1))\n",
        "      x = self.ebn2(x)\n",
        "\n",
        "      x = F.relu(self.en3(x1))\n",
        "      x = self.ebn3(x)\n",
        "\n",
        "      x = F.relu(self.en4(x1))\n",
        "      return x\n",
        "\n",
        "    def decoder(self, z):\n",
        "      z = self.de1(z)\n",
        "      z = torch.sigmoid(z)\n",
        "      z = self.dbn1(z)\n",
        "\n",
        "      z = self.de2(z)\n",
        "      z = torch.sigmoid(z)\n",
        "      z = self.dbn2(z)\n",
        "\n",
        "      z = self.de3(z)\n",
        "      z = torch.sigmoid(z)\n",
        "      return z\n",
        "\n",
        "\n",
        "    def forward(self, x):\n",
        "        x1 = F.relu(self.conv1(x))\n",
        "        x2 = F.relu(self.conv2(x1))\n",
        "        x3 = F.relu(self.conv3(x2))\n",
        "        x4 = F.relu(self.conv4(x3))\n",
        "        xd = F.relu(self.t_conv1(x4))\n",
        "        xd = torch.cat((xd, x3), dim=1)\n",
        "        xd = self.dropout(xd)\n",
        "        xd = F.relu(self.t_conv2(xd))\n",
        "        xd = torch.cat((xd, x2), dim=1)\n",
        "        xd = self.dropout(xd)\n",
        "        xd = F.relu(self.t_conv3(xd))\n",
        "        xd = torch.cat((xd, x1), dim=1)\n",
        "        xd = self.dropout(xd)\n",
        "        xd = F.relu(self.t_conv4(xd))\n",
        "        xd = torch.cat((xd, x), dim=1)\n",
        "        x_out = F.relu(self.converge(xd))\n",
        "        return x_out"
      ],
      "metadata": {
        "colab": {
          "base_uri": "https://localhost:8080/"
        },
        "id": "AtZGe239nym-",
        "outputId": "b0f404f1-9ecb-450a-eb35-402fb9fd4ee1"
      },
      "execution_count": 13,
      "outputs": [
        {
          "output_type": "stream",
          "name": "stdout",
          "text": [
            "ConvAutoencoder(\n",
            "  (conv1): Conv2d(1, 64, kernel_size=(3, 3), stride=(1, 1), padding=(1, 1))\n",
            "  (conv2): Conv2d(64, 64, kernel_size=(3, 3), stride=(2, 2), padding=(1, 1))\n",
            "  (conv3): Conv2d(64, 128, kernel_size=(3, 3), stride=(2, 2), padding=(1, 1))\n",
            "  (conv4): Conv2d(128, 256, kernel_size=(3, 3), stride=(2, 2), padding=(1, 1))\n",
            "  (pool): MaxPool2d(kernel_size=2, stride=2, padding=0, dilation=1, ceil_mode=False)\n",
            "  (t_conv1): ConvTranspose2d(256, 128, kernel_size=(3, 3), stride=(2, 2), padding=(1, 1), output_padding=(1, 1))\n",
            "  (t_conv2): ConvTranspose2d(256, 64, kernel_size=(3, 3), stride=(2, 2), padding=(1, 1), output_padding=(1, 1))\n",
            "  (t_conv3): ConvTranspose2d(128, 128, kernel_size=(3, 3), stride=(2, 2), padding=(1, 1), output_padding=(1, 1))\n",
            "  (t_conv4): ConvTranspose2d(192, 15, kernel_size=(3, 3), stride=(1, 1), padding=(1, 1))\n",
            "  (dropout): Dropout(p=0.2, inplace=False)\n",
            "  (converge): Conv2d(16, 3, kernel_size=(3, 3), stride=(1, 1), padding=(1, 1))\n",
            ")\n"
          ]
        }
      ]
    },
    {
      "cell_type": "code",
      "source": [
        "summary(model,input_size=(1,32,32))"
      ],
      "metadata": {
        "colab": {
          "base_uri": "https://localhost:8080/"
        },
        "id": "nqQFZsqyoIKn",
        "outputId": "ffc631cc-f713-422c-acbf-ffad7a0c588d"
      },
      "execution_count": 14,
      "outputs": [
        {
          "output_type": "stream",
          "name": "stdout",
          "text": [
            "----------------------------------------------------------------\n",
            "        Layer (type)               Output Shape         Param #\n",
            "================================================================\n",
            "            Conv2d-1           [-1, 64, 32, 32]             640\n",
            "            Conv2d-2           [-1, 64, 16, 16]          36,928\n",
            "            Conv2d-3            [-1, 128, 8, 8]          73,856\n",
            "            Conv2d-4            [-1, 256, 4, 4]         295,168\n",
            "   ConvTranspose2d-5            [-1, 128, 8, 8]         295,040\n",
            "           Dropout-6            [-1, 256, 8, 8]               0\n",
            "   ConvTranspose2d-7           [-1, 64, 16, 16]         147,520\n",
            "           Dropout-8          [-1, 128, 16, 16]               0\n",
            "   ConvTranspose2d-9          [-1, 128, 32, 32]         147,584\n",
            "          Dropout-10          [-1, 192, 32, 32]               0\n",
            "  ConvTranspose2d-11           [-1, 15, 32, 32]          25,935\n",
            "           Conv2d-12            [-1, 3, 32, 32]             435\n",
            "================================================================\n",
            "Total params: 1,023,106\n",
            "Trainable params: 1,023,106\n",
            "Non-trainable params: 0\n",
            "----------------------------------------------------------------\n",
            "Input size (MB): 0.00\n",
            "Forward/backward pass size (MB): 3.92\n",
            "Params size (MB): 3.90\n",
            "Estimated Total Size (MB): 7.83\n",
            "----------------------------------------------------------------\n"
          ]
        }
      ]
    },
    {
      "cell_type": "markdown",
      "source": [
        "\n",
        "Training: Autoencoders are trained to minimize the difference between the input image and the reconstructed image. This is typically done by using a loss function such as mean squared error (MSE) or binary cross-entropy (BCE) loss. During training, the encoder and decoder networks are jointly optimized to find a compressed latent representation that can effectively reconstruct the input images."
      ],
      "metadata": {
        "id": "LFeqN63Zs3WS"
      }
    },
    {
      "cell_type": "code",
      "source": [
        "# some initial choices\n",
        "EPOCHS = 20\n",
        "LEARNING_RATE = 1e-4\n",
        "\n",
        "BATCH_SIZE = 64\n",
        "Z = 32\n",
        "\n",
        "model = ConvAutoencoder()\n",
        "model = model.to(device)\n",
        "\n",
        "# specify loss function\n",
        "criterion = nn.MSELoss()\n",
        "# ADAM optimizer\n",
        "opt = optim.Adam(model.parameters(), lr = LEARNING_RATE)\n",
        "\n",
        "# training\n",
        "ls = []\n",
        "\n",
        "for i in range(EPOCHS):\n",
        "  total_loss = 0\n",
        "  print('Epoch: {}'.format(i))\n",
        "\n",
        "  for j,batch in tqdm(enumerate(train_loader)): # parsing training\n",
        "\n",
        "    X = batch[0].to(device)\n",
        "\n",
        "    # we input a greyscale image (mean over channels) to out network\n",
        "    X_gs = X.mean(1).reshape(-1, 1, 32, 32)\n",
        "\n",
        "    # parse to model\n",
        "    Xhat = model(X_gs)\n",
        "\n",
        "    # note we predict Xhat, i.e. a color image which we compare to full color image X\n",
        "    loss = F.mse_loss(Xhat, X)\n",
        "\n",
        "    # for each mini-batch we set gradients to zero\n",
        "    opt.zero_grad()\n",
        "\n",
        "    # and performs backwards prop\n",
        "    loss.backward()\n",
        "    opt.step()\n",
        "\n",
        "    # accumulate losses from batch\n",
        "    total_loss+=loss.item()\n",
        "\n",
        "  ls.append(total_loss)\n",
        "\n",
        "# plotting loss-scores\n",
        "plt.plot(ls)"
      ],
      "metadata": {
        "colab": {
          "base_uri": "https://localhost:8080/",
          "height": 675
        },
        "id": "_ppxDKGMszkV",
        "outputId": "8b9c37f7-0fdf-4535-e3f7-ca8a12a58f94"
      },
      "execution_count": 16,
      "outputs": [
        {
          "output_type": "stream",
          "name": "stdout",
          "text": [
            "0\n"
          ]
        },
        {
          "output_type": "stream",
          "name": "stderr",
          "text": [
            "782it [10:24,  1.25it/s]\n"
          ]
        },
        {
          "output_type": "stream",
          "name": "stdout",
          "text": [
            "1\n"
          ]
        },
        {
          "output_type": "stream",
          "name": "stderr",
          "text": [
            "782it [10:30,  1.24it/s]\n"
          ]
        },
        {
          "output_type": "stream",
          "name": "stdout",
          "text": [
            "2\n"
          ]
        },
        {
          "output_type": "stream",
          "name": "stderr",
          "text": [
            "782it [10:28,  1.24it/s]\n"
          ]
        },
        {
          "output_type": "stream",
          "name": "stdout",
          "text": [
            "3\n"
          ]
        },
        {
          "output_type": "stream",
          "name": "stderr",
          "text": [
            "782it [10:29,  1.24it/s]\n"
          ]
        },
        {
          "output_type": "stream",
          "name": "stdout",
          "text": [
            "4\n"
          ]
        },
        {
          "output_type": "stream",
          "name": "stderr",
          "text": [
            "782it [10:29,  1.24it/s]\n"
          ]
        },
        {
          "output_type": "stream",
          "name": "stdout",
          "text": [
            "5\n"
          ]
        },
        {
          "output_type": "stream",
          "name": "stderr",
          "text": [
            "782it [10:31,  1.24it/s]\n"
          ]
        },
        {
          "output_type": "stream",
          "name": "stdout",
          "text": [
            "6\n"
          ]
        },
        {
          "output_type": "stream",
          "name": "stderr",
          "text": [
            "782it [10:30,  1.24it/s]\n"
          ]
        },
        {
          "output_type": "stream",
          "name": "stdout",
          "text": [
            "7\n"
          ]
        },
        {
          "output_type": "stream",
          "name": "stderr",
          "text": [
            "647it [08:43,  1.24it/s]\n"
          ]
        },
        {
          "output_type": "error",
          "ename": "KeyboardInterrupt",
          "evalue": "ignored",
          "traceback": [
            "\u001b[0;31m---------------------------------------------------------------------------\u001b[0m",
            "\u001b[0;31mKeyboardInterrupt\u001b[0m                         Traceback (most recent call last)",
            "\u001b[0;32m<ipython-input-16-8cea048776dd>\u001b[0m in \u001b[0;36m<cell line: 12>\u001b[0;34m()\u001b[0m\n\u001b[1;32m     22\u001b[0m     \u001b[0;31m#print('X mean 1 reshape', X.mean(1).reshape(64, 1, 32, 32).size())\u001b[0m\u001b[0;34m\u001b[0m\u001b[0;34m\u001b[0m\u001b[0m\n\u001b[1;32m     23\u001b[0m \u001b[0;34m\u001b[0m\u001b[0m\n\u001b[0;32m---> 24\u001b[0;31m     \u001b[0mXhat\u001b[0m \u001b[0;34m=\u001b[0m \u001b[0mmodel\u001b[0m\u001b[0;34m(\u001b[0m\u001b[0mX\u001b[0m\u001b[0;34m.\u001b[0m\u001b[0mmean\u001b[0m\u001b[0;34m(\u001b[0m\u001b[0;36m1\u001b[0m\u001b[0;34m)\u001b[0m\u001b[0;34m.\u001b[0m\u001b[0mreshape\u001b[0m\u001b[0;34m(\u001b[0m\u001b[0;34m-\u001b[0m\u001b[0;36m1\u001b[0m\u001b[0;34m,\u001b[0m \u001b[0;36m1\u001b[0m\u001b[0;34m,\u001b[0m \u001b[0;36m32\u001b[0m\u001b[0;34m,\u001b[0m \u001b[0;36m32\u001b[0m\u001b[0;34m)\u001b[0m\u001b[0;34m)\u001b[0m\u001b[0;34m\u001b[0m\u001b[0;34m\u001b[0m\u001b[0m\n\u001b[0m\u001b[1;32m     25\u001b[0m     \u001b[0;31m#Xhat = model(X)\u001b[0m\u001b[0;34m\u001b[0m\u001b[0;34m\u001b[0m\u001b[0m\n\u001b[1;32m     26\u001b[0m \u001b[0;34m\u001b[0m\u001b[0m\n",
            "\u001b[0;32m/usr/local/lib/python3.10/dist-packages/torch/nn/modules/module.py\u001b[0m in \u001b[0;36m_call_impl\u001b[0;34m(self, *args, **kwargs)\u001b[0m\n\u001b[1;32m   1499\u001b[0m                 \u001b[0;32mor\u001b[0m \u001b[0m_global_backward_pre_hooks\u001b[0m \u001b[0;32mor\u001b[0m \u001b[0m_global_backward_hooks\u001b[0m\u001b[0;34m\u001b[0m\u001b[0;34m\u001b[0m\u001b[0m\n\u001b[1;32m   1500\u001b[0m                 or _global_forward_hooks or _global_forward_pre_hooks):\n\u001b[0;32m-> 1501\u001b[0;31m             \u001b[0;32mreturn\u001b[0m \u001b[0mforward_call\u001b[0m\u001b[0;34m(\u001b[0m\u001b[0;34m*\u001b[0m\u001b[0margs\u001b[0m\u001b[0;34m,\u001b[0m \u001b[0;34m**\u001b[0m\u001b[0mkwargs\u001b[0m\u001b[0;34m)\u001b[0m\u001b[0;34m\u001b[0m\u001b[0;34m\u001b[0m\u001b[0m\n\u001b[0m\u001b[1;32m   1502\u001b[0m         \u001b[0;31m# Do not call functions when jit is used\u001b[0m\u001b[0;34m\u001b[0m\u001b[0;34m\u001b[0m\u001b[0m\n\u001b[1;32m   1503\u001b[0m         \u001b[0mfull_backward_hooks\u001b[0m\u001b[0;34m,\u001b[0m \u001b[0mnon_full_backward_hooks\u001b[0m \u001b[0;34m=\u001b[0m \u001b[0;34m[\u001b[0m\u001b[0;34m]\u001b[0m\u001b[0;34m,\u001b[0m \u001b[0;34m[\u001b[0m\u001b[0;34m]\u001b[0m\u001b[0;34m\u001b[0m\u001b[0;34m\u001b[0m\u001b[0m\n",
            "\u001b[0;32m<ipython-input-13-c6f205e93094>\u001b[0m in \u001b[0;36mforward\u001b[0;34m(self, x)\u001b[0m\n\u001b[1;32m     28\u001b[0m         \u001b[0mxd\u001b[0m \u001b[0;34m=\u001b[0m \u001b[0mtorch\u001b[0m\u001b[0;34m.\u001b[0m\u001b[0mcat\u001b[0m\u001b[0;34m(\u001b[0m\u001b[0;34m(\u001b[0m\u001b[0mxd\u001b[0m\u001b[0;34m,\u001b[0m \u001b[0mx2\u001b[0m\u001b[0;34m)\u001b[0m\u001b[0;34m,\u001b[0m \u001b[0mdim\u001b[0m\u001b[0;34m=\u001b[0m\u001b[0;36m1\u001b[0m\u001b[0;34m)\u001b[0m\u001b[0;34m\u001b[0m\u001b[0;34m\u001b[0m\u001b[0m\n\u001b[1;32m     29\u001b[0m         \u001b[0mxd\u001b[0m \u001b[0;34m=\u001b[0m \u001b[0mself\u001b[0m\u001b[0;34m.\u001b[0m\u001b[0mdropout\u001b[0m\u001b[0;34m(\u001b[0m\u001b[0mxd\u001b[0m\u001b[0;34m)\u001b[0m\u001b[0;34m\u001b[0m\u001b[0;34m\u001b[0m\u001b[0m\n\u001b[0;32m---> 30\u001b[0;31m         \u001b[0mxd\u001b[0m \u001b[0;34m=\u001b[0m \u001b[0mF\u001b[0m\u001b[0;34m.\u001b[0m\u001b[0mrelu\u001b[0m\u001b[0;34m(\u001b[0m\u001b[0mself\u001b[0m\u001b[0;34m.\u001b[0m\u001b[0mt_conv3\u001b[0m\u001b[0;34m(\u001b[0m\u001b[0mxd\u001b[0m\u001b[0;34m)\u001b[0m\u001b[0;34m)\u001b[0m\u001b[0;34m\u001b[0m\u001b[0;34m\u001b[0m\u001b[0m\n\u001b[0m\u001b[1;32m     31\u001b[0m         \u001b[0mxd\u001b[0m \u001b[0;34m=\u001b[0m \u001b[0mtorch\u001b[0m\u001b[0;34m.\u001b[0m\u001b[0mcat\u001b[0m\u001b[0;34m(\u001b[0m\u001b[0;34m(\u001b[0m\u001b[0mxd\u001b[0m\u001b[0;34m,\u001b[0m \u001b[0mx1\u001b[0m\u001b[0;34m)\u001b[0m\u001b[0;34m,\u001b[0m \u001b[0mdim\u001b[0m\u001b[0;34m=\u001b[0m\u001b[0;36m1\u001b[0m\u001b[0;34m)\u001b[0m\u001b[0;34m\u001b[0m\u001b[0;34m\u001b[0m\u001b[0m\n\u001b[1;32m     32\u001b[0m         \u001b[0mxd\u001b[0m \u001b[0;34m=\u001b[0m \u001b[0mself\u001b[0m\u001b[0;34m.\u001b[0m\u001b[0mdropout\u001b[0m\u001b[0;34m(\u001b[0m\u001b[0mxd\u001b[0m\u001b[0;34m)\u001b[0m\u001b[0;34m\u001b[0m\u001b[0;34m\u001b[0m\u001b[0m\n",
            "\u001b[0;32m/usr/local/lib/python3.10/dist-packages/torch/nn/modules/module.py\u001b[0m in \u001b[0;36m_call_impl\u001b[0;34m(self, *args, **kwargs)\u001b[0m\n\u001b[1;32m   1499\u001b[0m                 \u001b[0;32mor\u001b[0m \u001b[0m_global_backward_pre_hooks\u001b[0m \u001b[0;32mor\u001b[0m \u001b[0m_global_backward_hooks\u001b[0m\u001b[0;34m\u001b[0m\u001b[0;34m\u001b[0m\u001b[0m\n\u001b[1;32m   1500\u001b[0m                 or _global_forward_hooks or _global_forward_pre_hooks):\n\u001b[0;32m-> 1501\u001b[0;31m             \u001b[0;32mreturn\u001b[0m \u001b[0mforward_call\u001b[0m\u001b[0;34m(\u001b[0m\u001b[0;34m*\u001b[0m\u001b[0margs\u001b[0m\u001b[0;34m,\u001b[0m \u001b[0;34m**\u001b[0m\u001b[0mkwargs\u001b[0m\u001b[0;34m)\u001b[0m\u001b[0;34m\u001b[0m\u001b[0;34m\u001b[0m\u001b[0m\n\u001b[0m\u001b[1;32m   1502\u001b[0m         \u001b[0;31m# Do not call functions when jit is used\u001b[0m\u001b[0;34m\u001b[0m\u001b[0;34m\u001b[0m\u001b[0m\n\u001b[1;32m   1503\u001b[0m         \u001b[0mfull_backward_hooks\u001b[0m\u001b[0;34m,\u001b[0m \u001b[0mnon_full_backward_hooks\u001b[0m \u001b[0;34m=\u001b[0m \u001b[0;34m[\u001b[0m\u001b[0;34m]\u001b[0m\u001b[0;34m,\u001b[0m \u001b[0;34m[\u001b[0m\u001b[0;34m]\u001b[0m\u001b[0;34m\u001b[0m\u001b[0;34m\u001b[0m\u001b[0m\n",
            "\u001b[0;32m/usr/local/lib/python3.10/dist-packages/torch/nn/modules/conv.py\u001b[0m in \u001b[0;36mforward\u001b[0;34m(self, input, output_size)\u001b[0m\n\u001b[1;32m    954\u001b[0m             num_spatial_dims, self.dilation)  # type: ignore[arg-type]\n\u001b[1;32m    955\u001b[0m \u001b[0;34m\u001b[0m\u001b[0m\n\u001b[0;32m--> 956\u001b[0;31m         return F.conv_transpose2d(\n\u001b[0m\u001b[1;32m    957\u001b[0m             \u001b[0minput\u001b[0m\u001b[0;34m,\u001b[0m \u001b[0mself\u001b[0m\u001b[0;34m.\u001b[0m\u001b[0mweight\u001b[0m\u001b[0;34m,\u001b[0m \u001b[0mself\u001b[0m\u001b[0;34m.\u001b[0m\u001b[0mbias\u001b[0m\u001b[0;34m,\u001b[0m \u001b[0mself\u001b[0m\u001b[0;34m.\u001b[0m\u001b[0mstride\u001b[0m\u001b[0;34m,\u001b[0m \u001b[0mself\u001b[0m\u001b[0;34m.\u001b[0m\u001b[0mpadding\u001b[0m\u001b[0;34m,\u001b[0m\u001b[0;34m\u001b[0m\u001b[0;34m\u001b[0m\u001b[0m\n\u001b[1;32m    958\u001b[0m             output_padding, self.groups, self.dilation)\n",
            "\u001b[0;31mKeyboardInterrupt\u001b[0m: "
          ]
        }
      ]
    },
    {
      "cell_type": "markdown",
      "source": [
        "Visualizing colorization ability on training samples"
      ],
      "metadata": {
        "id": "Mdrwwhawvs3z"
      }
    },
    {
      "cell_type": "code",
      "source": [
        "# training data\n",
        "i=0\n",
        "while i<5:\n",
        "    test_img,test_label = next(iter(train_loader))\n",
        "\n",
        "    # taking mean over channels to obtain greyscale image\n",
        "    test_img_gs = test_img[0].cuda().mean(0).reshape(-1, 1, 32, 32)\n",
        "\n",
        "    # predicts from model by evaluating through feed\n",
        "    pred = model.forward(test_img_gs)\n",
        "\n",
        "\n",
        "    fig = plt.figure(figsize=(10,10))\n",
        "    plt.subplot(221)\n",
        "    plt.imshow(test_img_gs.cpu().view(32,32),cmap='gray')\n",
        "    plt.title('GrayScale Image')\n",
        "    plt.subplot(222)\n",
        "    plt.imshow(pred.cpu().view(3,32,32).permute(1,2,0).detach().numpy())\n",
        "    plt.title('Predicted Color Image')\n",
        "    plt.show()\n",
        "    i+=1\n"
      ],
      "metadata": {
        "colab": {
          "base_uri": "https://localhost:8080/",
          "height": 849
        },
        "id": "CtSSYEPiqH0s",
        "outputId": "9b98e196-782a-4926-e38a-a5a67465b772"
      },
      "execution_count": 159,
      "outputs": [
        {
          "output_type": "display_data",
          "data": {
            "text/plain": [
              "<Figure size 1000x1000 with 2 Axes>"
            ],
            "image/png": "[encoded data removed]"
          },
          "metadata": {}
        },
        {
          "output_type": "display_data",
          "data": {
            "text/plain": [
              "<Figure size 1000x1000 with 2 Axes>"
            ],
            "image/png": "[encoded data removed]"
          },
          "metadata": {}
        }
      ]
    },
    {
      "cell_type": "markdown",
      "source": [
        "Visulizing on test data"
      ],
      "metadata": {
        "id": "zXVduGjRwG8F"
      }
    },
    {
      "cell_type": "code",
      "source": [
        "# test data\n",
        "i=0\n",
        "while i<10:\n",
        "    test_img,test_label = next(iter(test_loader))\n",
        "\n",
        "    test_img_gs = test_img[0].cuda().mean(0).reshape(-1, 1, 32, 32)\n",
        "    pred = model.forward(test_img_gs)\n",
        "\n",
        "    fig = plt.figure(figsize=(10,10))\n",
        "    plt.subplot(221)\n",
        "    plt.imshow(test_img_gs.cpu().view(32,32),cmap='gray')\n",
        "    plt.title('GrayScale Image')\n",
        "    plt.subplot(222)\n",
        "    plt.imshow(pred.cpu().view(3,32,32).permute(1,2,0).detach().numpy())\n",
        "    plt.title('Predicted Color Image')\n",
        "    plt.show()\n",
        "    i+=1"
      ],
      "metadata": {
        "id": "vyH4R6rmwGM-"
      },
      "execution_count": null,
      "outputs": []
    }
  ]
}